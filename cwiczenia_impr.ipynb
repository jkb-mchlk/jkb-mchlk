{
 "cells": [
  {
   "cell_type": "code",
   "execution_count": 5,
   "metadata": {},
   "outputs": [
    {
     "name": "stdout",
     "output_type": "stream",
     "text": [
      "Program obliczający pole prostokąta\n",
      "\n",
      "Dla a=2.0 oraz b = 3.0\n",
      "Pole prostokata rowna się: 6.0\n"
     ]
    }
   ],
   "source": [
    "print ('Program obliczający pole prostokąta')\n",
    "a = float (input (\"Podaj bok a = \" ))\n",
    "b = float (input (\"Podaj bok b = \" ))\n",
    "print()\n",
    "pole = a * b\n",
    "print(f\"Dla a={a} oraz b = {b}\")\n",
    "print(f\"Pole prostokata rowna się: {pole}\")"
   ]
  },
  {
   "cell_type": "code",
   "execution_count": 4,
   "metadata": {},
   "outputs": [
    {
     "name": "stdout",
     "output_type": "stream",
     "text": [
      "Program wyświetla Pi z zadaną dokładnością\n",
      "Pi = 3.142.\n",
      "Pi = 3.142\n"
     ]
    }
   ],
   "source": [
    "import math\n",
    "print(\"Program wyświetla Pi z zadaną dokładnością\")\n",
    "print (\"Pi = %5.3f\"% math.pi, \".\", sep=\"\")\n",
    "print (f\"Pi = {math.pi:.3f}\")"
   ]
  },
  {
   "cell_type": "code",
   "execution_count": 7,
   "metadata": {},
   "outputs": [
    {
     "name": "stdout",
     "output_type": "stream",
     "text": [
      "Program wyświetlapierwiastek z liczby Pi\n",
      "Pierwiastek z liczby pi wynosi = 1.7725\n"
     ]
    }
   ],
   "source": [
    "import math\n",
    "print (\"Program wyświetlapierwiastek z liczby Pi\")\n",
    "liczba = math.sqrt(math.pi)\n",
    "print(f\"Pierwiastek z liczby pi wynosi = {liczba:.4f}\")\n"
   ]
  },
  {
   "cell_type": "code",
   "execution_count": 9,
   "metadata": {},
   "outputs": [
    {
     "name": "stdout",
     "output_type": "stream",
     "text": [
      "Program oblicza wynike dzielenia całkowitego bez reszty dla liczb 37 oraz 11\n",
      "Wynik dzielenia bez reszty liczb 37 oraz 11 wynosi 3 \n"
     ]
    }
   ],
   "source": [
    "print (\"Program oblicza wynike dzielenia całkowitego bez reszty dla liczb 37 oraz 11\")\n",
    "a= 37\n",
    "b= 11\n",
    "wynik = a // b\n",
    "print(\"Wynik dzielenia bez reszty liczb {} oraz {} wynosi {} \".format(a,b,wynik))\n"
   ]
  },
  {
   "cell_type": "code",
   "execution_count": 1,
   "metadata": {},
   "outputs": [
    {
     "name": "stdout",
     "output_type": "stream",
     "text": [
      "Program oblicza resztę z dzielenia 37 przez 11\n",
      "Reszta z dzielenia 37 przez 11 wynosi 4\n"
     ]
    }
   ],
   "source": [
    "print(\"Program oblicza resztę z dzielenia 37 przez 11\")\n",
    "a = 37\n",
    "b = 11\n",
    "wynik = a % b\n",
    "print(f\"Reszta z dzielenia {a} przez {b} wynosi {wynik}\")"
   ]
  },
  {
   "cell_type": "code",
   "execution_count": 4,
   "metadata": {},
   "outputs": [
    {
     "name": "stdout",
     "output_type": "stream",
     "text": [
      "Podaj swoje imię:\n",
      "Podaj swoje nazwisko\n",
      "Podaj swoj wiek\n",
      "Podaj cene chleba\n",
      "Nazywasz się dsd asda, masz 34 lat a cena jebanego chleba to 34.89 pln\n"
     ]
    }
   ],
   "source": [
    "print(\"Podaj swoje imię:\")\n",
    "imie = input()\n",
    "print(\"Podaj swoje nazwisko\")\n",
    "nazwisko = input()\n",
    "print(\"Podaj swoj wiek\")\n",
    "wiek = int(input())\n",
    "print(\"Podaj cene chleba\")\n",
    "cena = float(input())\n",
    "\n",
    "print (f\"Nazywasz się {imie} {nazwisko}, masz {wiek} lat a cena jebanego chleba to {cena} pln\")\n"
   ]
  },
  {
   "cell_type": "code",
   "execution_count": 30,
   "metadata": {},
   "outputs": [
    {
     "name": "stdout",
     "output_type": "stream",
     "text": [
      "17\n",
      "45\n",
      "52\n",
      "89\n",
      "40\n"
     ]
    }
   ],
   "source": [
    "import random\n",
    "for i in range(5):\n",
    "    liczba = random.randint(1,100) \n",
    "    print(liczba)\n"
   ]
  },
  {
   "cell_type": "code",
   "execution_count": 40,
   "metadata": {},
   "outputs": [
    {
     "name": "stdout",
     "output_type": "stream",
     "text": [
      "generator duzego lotka\n",
      "[1, 1, 1, 1, 1, 1]\n"
     ]
    }
   ],
   "source": [
    "print(\"generator duzego lotka\")\n",
    "\n",
    "import random\n",
    "lista = []\n",
    "while len(lista) < 6:\n",
    "    liczba = random.randint(1,49)\n",
    "    if liczba not in lista:\n",
    "        lista.append(liczba)\n",
    "    else:\n",
    "        continue\n",
    "print(lista)\n",
    "     "
   ]
  },
  {
   "cell_type": "code",
   "execution_count": 47,
   "metadata": {},
   "outputs": [
    {
     "name": "stdout",
     "output_type": "stream",
     "text": [
      "program sprawdzajacy czy wprowadzone liczby a,b i c sa trojakmi pitagorejskimi\n",
      "Liczby \n",
      "3 4 5 \n",
      "sa trojkami pitagorejskimi\n"
     ]
    }
   ],
   "source": [
    "print (\"program sprawdzajacy czy wprowadzone liczby a,b i c sa trojakmi pitagorejskimi\")\n",
    "\n",
    "a = int(input('Podaj bok a:'))\n",
    "b = int(input('Podaj bok b:'))\n",
    "c = int(input('Podaj bok c:'))\n",
    "\n",
    "if a * a + b * b == c * c :\n",
    "    print (f\"Liczby \\n{a} {b} {c} \\nsa trojkami pitagorejskimi\")\n",
    "else:\n",
    "    print (f\"Liczby \\n {a} {b} {c} \\nnie sa trojkami pitagorejskimi\")\n"
   ]
  },
  {
   "cell_type": "code",
   "execution_count": 48,
   "metadata": {},
   "outputs": [
    {
     "name": "stdout",
     "output_type": "stream",
     "text": [
      "Program oblicza wartosc x z rownania ax + b = c\n",
      "rozwiazaniem równania 4.0x + 5.0 = 7.0 jest 0.5\n"
     ]
    }
   ],
   "source": [
    "print ('Program oblicza wartosc x z rownania ax + b = c')\n",
    "a = float (input (\"Podaj a:\\n\"))\n",
    "\n",
    "if a == 0:\n",
    "    print (\"wartosc wspolczynnika a musi byc rozna od zera\")\n",
    "else:\n",
    "    b = float (input(\"Podaj b:\\n\"))\n",
    "    c = float (input(\"Podaj c:\\n\"))\n",
    "\n",
    "x = ( c - b ) / a\n",
    "\n",
    "print (f\"rozwiazaniem równania {a}x + {b} = {c} jest {x}\")"
   ]
  },
  {
   "cell_type": "code",
   "execution_count": 5,
   "metadata": {},
   "outputs": [
    {
     "name": "stdout",
     "output_type": "stream",
     "text": [
      "Program oblicza pierwiastki  z rownania ax2 + bx + c = 0\n",
      "Miejsce zerowe to 1.00\n"
     ]
    }
   ],
   "source": [
    "import math\n",
    "\n",
    "print ('Program oblicza pierwiastki  z rownania ax2 + bx + c = 0')\n",
    "a = float (input (\"Podaj a:\\n\"))\n",
    "\n",
    "if a == 0:\n",
    "    print (\"wartosc wspolczynnika a musi byc rozna od zera\")\n",
    "    exit()\n",
    "else:\n",
    "    b = float (input(\"Podaj b:\\n\"))\n",
    "    c = float (input(\"Podaj c:\\n\"))\n",
    "\n",
    "delta = (b * b) - (4 * a * c)\n",
    "\n",
    "if delta > 0:\n",
    "    x1 = ( -b - math.sqrt(delta) ) / ( 2 * a )\n",
    "    x2 = ( -b + math.sqrt(delta) ) / ( 2 * a )\n",
    "    print (f\"Miejsca zerowe to {x1:.2f} oraz {x2:.2f}\")\n",
    "elif delta == 0:           \n",
    "    x0 = -b / ( 2*a )\n",
    "    print (f\"Miejsce zerowe to {x0:.2f}\")\n",
    "else:\n",
    "    print(\"Brak miejsc zerowych\")    \n",
    "    \n",
    "    "
   ]
  },
  {
   "cell_type": "code",
   "execution_count": 9,
   "metadata": {},
   "outputs": [
    {
     "name": "stdout",
     "output_type": "stream",
     "text": [
      "testy operatora or\n",
      "True or True to True\n",
      "False or True to True\n",
      "True or False to True\n",
      "False or False to False\n"
     ]
    }
   ],
   "source": [
    "a = True\n",
    "b = True\n",
    "\n",
    "print(\"testy operatora or\")\n",
    "print(f\"True or True to {a or b}\")\n",
    "print(f\"False or True to {not a or b}\")\n",
    "print(f\"True or False to {a or not b}\")\n",
    "print(f\"False or False to {not a or not b}\")"
   ]
  },
  {
   "cell_type": "code",
   "execution_count": 10,
   "metadata": {},
   "outputs": [
    {
     "name": "stdout",
     "output_type": "stream",
     "text": [
      "testy operatora and\n",
      "True and True to True\n",
      "False and True to False\n",
      "True and False to False\n",
      "False and False to False\n"
     ]
    }
   ],
   "source": [
    "a = True\n",
    "b = True\n",
    "\n",
    "print(\"testy operatora and\")\n",
    "print(f\"True and True to {a and b}\")\n",
    "print(f\"False and True to {not a and b}\")\n",
    "print(f\"True and False to {a and not b}\")\n",
    "print(f\"False and False to {not a and not b}\")"
   ]
  },
  {
   "cell_type": "code",
   "execution_count": 11,
   "metadata": {},
   "outputs": [
    {
     "name": "stdout",
     "output_type": "stream",
     "text": [
      "Prawo de Morgana działa\n"
     ]
    }
   ],
   "source": [
    "a = True\n",
    "b = True\n",
    "\n",
    "left = not (a and b)\n",
    "right = not a and not b\n",
    "\n",
    "if left == right:\n",
    "    print(\"Prawo de Morgana działa\")\n",
    "else:\n",
    "    print(\"Prawo de Morgana nie działa\")"
   ]
  },
  {
   "cell_type": "code",
   "execution_count": 12,
   "metadata": {},
   "outputs": [
    {
     "name": "stdout",
     "output_type": "stream",
     "text": [
      "Wynik to 10\n"
     ]
    }
   ],
   "source": [
    "# 2.7\n",
    "\n",
    "a = 5\n",
    "b = 5\n",
    "\n",
    "operacja = \"dodawanie\"\n",
    "\n",
    "wynik = a + b if operacja == \"dodawanie\" else a -b \n",
    "\n",
    "print (f\"Wynik to {wynik}\")\n"
   ]
  },
  {
   "cell_type": "code",
   "execution_count": 14,
   "metadata": {},
   "outputs": [
    {
     "name": "stdout",
     "output_type": "stream",
     "text": [
      "imiona marek i jarek sa inne\n"
     ]
    }
   ],
   "source": [
    "#2.8\n",
    "\n",
    "a = 'marek'\n",
    "b = 'jarek'\n",
    "\n",
    "if a == b:\n",
    "    print (f\"imiona {a} i {b} sa takie same\")\n",
    "else:\n",
    "    print (f'imiona {a} i {b} sa inne')"
   ]
  },
  {
   "cell_type": "code",
   "execution_count": 17,
   "metadata": {},
   "outputs": [
    {
     "name": "stdout",
     "output_type": "stream",
     "text": [
      "haslo jest nieprawidlowe\n"
     ]
    }
   ],
   "source": [
    "haslo = input ('Podaj haslo')\n",
    "\n",
    "if haslo == 'abcd':\n",
    "    print (f'Haslo {haslo} jest poprawne')\n",
    "else:\n",
    "    print ('haslo jest nieprawidlowe')\n",
    "    \n"
   ]
  },
  {
   "cell_type": "code",
   "execution_count": 5,
   "metadata": {},
   "outputs": [
    {
     "name": "stdout",
     "output_type": "stream",
     "text": [
      "Program oblicza wartosci funkcji y = 3x dla liczb od 0 do 10\n",
      "Dla x = 0  y = 0\n",
      "Dla x = 1  y = 3\n",
      "Dla x = 2  y = 6\n",
      "Dla x = 3  y = 9\n",
      "Dla x = 4  y = 12\n",
      "Dla x = 5  y = 15\n",
      "Dla x = 6  y = 18\n",
      "Dla x = 7  y = 21\n",
      "Dla x = 8  y = 24\n",
      "Dla x = 9  y = 27\n",
      "Dla x = 10  y = 30\n"
     ]
    }
   ],
   "source": [
    "#3.1\n",
    "\n",
    "print ('Program oblicza wartosci funkcji y = 3x dla liczb od 0 do 10')\n",
    " \n",
    "i = 0\n",
    "\n",
    "while i < 11:\n",
    "    print (f\"Dla x = {i}  y = {3 * i}\")\n",
    "    i += 1\n",
    "\n",
    "    "
   ]
  },
  {
   "cell_type": "code",
   "execution_count": 10,
   "metadata": {},
   "outputs": [
    {
     "name": "stdout",
     "output_type": "stream",
     "text": [
      "Program wyświetla liczby całkowite od 1 do 20 \n",
      "0,1,2,3,4,5,6,7,8,9,10,11,12,13,14,15,16,17,18,19,20.\n"
     ]
    }
   ],
   "source": [
    "#3.2\n",
    "\n",
    "print(\"Program wyświetla liczby całkowite od 1 do 20 \")\n",
    "\n",
    "i = 0\n",
    "\n",
    "while i <= 20:\n",
    "    if i < 20: \n",
    "        print (f\"{i},\" ,  end='')\n",
    "        i+=1\n",
    "    else:\n",
    "        print (f\"{i}.\")\n",
    "        i+=1\n",
    "   \n",
    "    \n",
    "\n"
   ]
  },
  {
   "cell_type": "code",
   "execution_count": 12,
   "metadata": {},
   "outputs": [
    {
     "name": "stdout",
     "output_type": "stream",
     "text": [
      "Program sumujący liczby parzyste\n",
      "2550\n"
     ]
    }
   ],
   "source": [
    "print (\"Program sumujący liczby parzyste\")\n",
    "\n",
    "i = 0\n",
    "suma = 0\n",
    "\n",
    "while i <= 100:\n",
    "    if i % 2 == 0:\n",
    "        suma += i\n",
    "        i += 1\n",
    "    else:\n",
    "        i += 1\n",
    "print (suma)"
   ]
  },
  {
   "cell_type": "code",
   "execution_count": 13,
   "metadata": {},
   "outputs": [
    {
     "name": "stdout",
     "output_type": "stream",
     "text": [
      "Program sumujący liczby parzyste\n",
      "2500\n"
     ]
    }
   ],
   "source": [
    "print (\"Program sumujący liczby nieparzyste\")\n",
    "\n",
    "i = 0\n",
    "suma = 0\n",
    "\n",
    "while i <= 100:\n",
    "    if i % 2 != 0:\n",
    "        suma += i\n",
    "        i += 1\n",
    "    else:\n",
    "        i += 1\n",
    "print (suma)"
   ]
  },
  {
   "cell_type": "code",
   "execution_count": 14,
   "metadata": {},
   "outputs": [
    {
     "name": "stdout",
     "output_type": "stream",
     "text": [
      "Program sumujący liczby nieparzyste\n",
      "5050\n"
     ]
    }
   ],
   "source": [
    "print (\"Program sumujący liczby calkowite od 1 do 100\")\n",
    "\n",
    "i = 1\n",
    "suma = 0\n",
    "\n",
    "while i <= 100:\n",
    "        suma += i\n",
    "        i += 1\n",
    "print (suma)"
   ]
  },
  {
   "cell_type": "code",
   "execution_count": 5,
   "metadata": {},
   "outputs": [
    {
     "name": "stdout",
     "output_type": "stream",
     "text": [
      "Program oblicza wartosci funkcji y = 3x dla liczb od 0 do 10\n",
      "[1, 2, 3, 4, 5, 6, 7, 8, 9, 10]\n",
      "Dla x = 1 '/t' y = 3\n",
      "Dla x = 2 '/t' y = 6\n",
      "Dla x = 3 '/t' y = 9\n",
      "Dla x = 4 '/t' y = 12\n",
      "Dla x = 5 '/t' y = 15\n",
      "Dla x = 6 '/t' y = 18\n",
      "Dla x = 7 '/t' y = 21\n",
      "Dla x = 8 '/t' y = 24\n",
      "Dla x = 9 '/t' y = 27\n",
      "Dla x = 10 '/t' y = 30\n"
     ]
    }
   ],
   "source": [
    "#3.6\n",
    "\n",
    "print ('Program oblicza wartosci funkcji y = 3x dla liczb od 0 do 10')\n",
    " \n",
    "lista = list (range(1,11,1))\n",
    "\n",
    "print (lista)\n",
    "\n",
    "for x in lista:\n",
    "    print (f\"Dla x = {x}  y = {3 * x}\")\n",
    "\n",
    "# while i < 11:\n",
    "#     print (f\"Dla x = {i}  y = {3 * i}\")\n",
    "#     i += 1"
   ]
  },
  {
   "cell_type": "code",
   "execution_count": 47,
   "metadata": {},
   "outputs": [
    {
     "name": "stdout",
     "output_type": "stream",
     "text": [
      "[14, 15, 45, 57, 62]\n",
      "62\n",
      "14\n",
      "38.6\n"
     ]
    }
   ],
   "source": [
    "import random\n",
    "\n",
    "lista = []\n",
    "max = 0\n",
    "min = 100\n",
    "suma = 0\n",
    "\n",
    "for x in range (1,6,1):\n",
    "    liczba = random.randint(1,100)\n",
    "    lista.append(liczba)\n",
    "    suma += liczba\n",
    "    if liczba > max:\n",
    "        max = liczba\n",
    "    if liczba < min:\n",
    "        min = liczba\n",
    "\n",
    "print (lista)\n",
    "print (max)\n",
    "print (min)\n",
    "print (suma / len (lista))\n",
    "    "
   ]
  },
  {
   "cell_type": "code",
   "execution_count": 1,
   "metadata": {},
   "outputs": [
    {
     "name": "stdout",
     "output_type": "stream",
     "text": [
      "\n",
      "\n",
      "1\t2\t3\t4\t5\t6\t7\t8\t9\t10\t\n",
      "\n",
      "2\t4\t6\t8\t10\t12\t14\t16\t18\t20\t\n",
      "\n",
      "3\t6\t9\t12\t15\t18\t21\t24\t27\t30\t\n",
      "\n",
      "4\t8\t12\t16\t20\t24\t28\t32\t36\t40\t\n",
      "\n",
      "5\t10\t15\t20\t25\t30\t35\t40\t45\t50\t\n",
      "\n",
      "6\t12\t18\t24\t30\t36\t42\t48\t54\t60\t\n",
      "\n",
      "7\t14\t21\t28\t35\t42\t49\t56\t63\t70\t\n",
      "\n",
      "8\t16\t24\t32\t40\t48\t56\t64\t72\t80\t\n",
      "\n",
      "9\t18\t27\t36\t45\t54\t63\t72\t81\t90\t\n",
      "\n",
      "10\t20\t30\t40\t50\t60\t70\t80\t90\t100\t"
     ]
    }
   ],
   "source": [
    "#3.8\n",
    "\n",
    "N = 10\n",
    "tab = '\\t'\n",
    "for wiersz in range (N):\n",
    "    print ('\\n')\n",
    "    for kolumna in range (N):\n",
    "        # print ('\\t')\n",
    "        print (f'{(wiersz + 1) * ( kolumna + 1)}{tab}', end=\"\")"
   ]
  },
  {
   "cell_type": "code",
   "execution_count": 22,
   "metadata": {},
   "outputs": [
    {
     "name": "stdout",
     "output_type": "stream",
     "text": [
      "Program wyświetla duże litery od A do Z oraz od Z do A\n",
      "A\t B\t C\t D\t E\t F\t G\t H\t I\t J\t K\t L\t M\t N\t O\t P\t Q\t R\t S\t T\t U\t V\t W\t X\t Y\t Z\t \n",
      "\n",
      "Z\tY\tX\tW\tV\tU\tT\tS\tR\tQ\tP\tO\tN\tM\tL\tK\tJ\tI\tH\tG\tF\tE\tD\tC\tB\tA\t"
     ]
    }
   ],
   "source": [
    "#3.9\n",
    "print ('Program wyświetla duże litery od A do Z oraz od Z do A')\n",
    "\n",
    "tab = '\\t'\n",
    "\n",
    "for i in range (65,91):\n",
    "    print (f\"{chr(i)}{tab} \" , end ='')\n",
    "\n",
    "print('\\n')\n",
    "\n",
    "for i in range (90,64, -1):\n",
    "    print (f\"{chr(i)}{tab}\" , end ='')"
   ]
  },
  {
   "cell_type": "code",
   "execution_count": 28,
   "metadata": {},
   "outputs": [
    {
     "name": "stdout",
     "output_type": "stream",
     "text": [
      "Aktualna data i godzina 2024-01-06 22:09:18.374616\n",
      "10000000\n",
      "3.141592653589793\n",
      "3.1419028\n",
      "Roznica math.pi - pi to 0.0003\n",
      "Czas obliczen 0:00:06.067214\n"
     ]
    }
   ],
   "source": [
    "import random\n",
    "import math\n",
    "import datetime\n",
    "\n",
    "def main():\n",
    "    \n",
    "    start = datetime.datetime.now()\n",
    "\n",
    "    print (f\"Aktualna data i godzina {start}\")\n",
    "\n",
    "    liczba_punktow = 10000000\n",
    "\n",
    "    print (liczba_punktow)\n",
    "\n",
    "    licznik = 0\n",
    "\n",
    "    for i in range (1, liczba_punktow, 1):\n",
    "        x = random.uniform(0,1)\n",
    "        y = random.uniform(0,1)\n",
    "\n",
    "        if x * x + y * y <= 1:\n",
    "            licznik +=1\n",
    "    \n",
    "    pi = 4.0 * licznik/liczba_punktow\n",
    "\n",
    "    print (math.pi)\n",
    "    print (pi)\n",
    "\n",
    "    print (f\"Roznica math.pi - pi to {abs (math.pi - pi):.4f}\")\n",
    "\n",
    "    stop = datetime.datetime.now()\n",
    "\n",
    "    print (f\"Czas obliczen {stop - start}\")\n",
    "\n",
    "main()"
   ]
  },
  {
   "cell_type": "code",
   "execution_count": 9,
   "metadata": {},
   "outputs": [
    {
     "name": "stdout",
     "output_type": "stream",
     "text": [
      "2\n",
      "[1233, 8833]\n"
     ]
    }
   ],
   "source": [
    "#3.11\n",
    "\n",
    "def main():\n",
    "    start = 1000\n",
    "    stop = 9999\n",
    "    lista = []\n",
    "    licznik = 0\n",
    "\n",
    "    for i in range (start, stop, 1):\n",
    "        pocz = i // 100\n",
    "        koni = i %  100\n",
    "        if pocz * pocz + koni * koni == i:\n",
    "            lista.append(i)\n",
    "            licznik += 1\n",
    "\n",
    "    print (licznik)\n",
    "    print (lista)\n",
    "\n",
    "\n",
    "main ()\n",
    "\n",
    "\n",
    "\n",
    "\n"
   ]
  },
  {
   "cell_type": "code",
   "execution_count": 10,
   "metadata": {},
   "outputs": [
    {
     "name": "stdout",
     "output_type": "stream",
     "text": [
      "1\n",
      "[990100]\n"
     ]
    }
   ],
   "source": [
    "#3.12\n",
    "\n",
    "def main():\n",
    "    start = 100000\n",
    "    stop = 999999\n",
    "    lista = []\n",
    "    licznik = 0\n",
    "\n",
    "    for i in range (start, stop, 1):\n",
    "        pocz = i // 1000\n",
    "        koni = i %  1000\n",
    "        if pocz * pocz + koni * koni == i:\n",
    "            lista.append(i)\n",
    "            licznik += 1\n",
    "\n",
    "    print (licznik)\n",
    "    print (lista)\n",
    "\n",
    "\n",
    "main ()"
   ]
  },
  {
   "cell_type": "code",
   "execution_count": 16,
   "metadata": {},
   "outputs": [
    {
     "name": "stdout",
     "output_type": "stream",
     "text": [
      "2\n",
      "3\n",
      "5\n",
      "7\n",
      "11\n",
      "13\n",
      "17\n",
      "19\n",
      "23\n",
      "29\n",
      "31\n",
      "37\n",
      "41\n",
      "43\n",
      "47\n",
      "53\n",
      "59\n",
      "61\n",
      "67\n",
      "71\n",
      "73\n",
      "79\n",
      "83\n",
      "89\n",
      "97\n",
      "101\n",
      "103\n",
      "107\n",
      "109\n",
      "113\n",
      "127\n",
      "131\n",
      "137\n",
      "139\n",
      "149\n"
     ]
    }
   ],
   "source": [
    "# 3.13\n",
    "\n",
    "import math\n",
    "\n",
    "def main ():\n",
    "\n",
    "    for l_pierwsza in range (2,150):\n",
    "        if all(l_pierwsza % i != 0 for i in range (2, int(math.sqrt(l_pierwsza)) + 1)):\n",
    "            print (l_pierwsza)\n",
    "\n",
    "main()\n",
    "\n",
    "\n"
   ]
  },
  {
   "cell_type": "code",
   "execution_count": 20,
   "metadata": {},
   "outputs": [
    {
     "name": "stdout",
     "output_type": "stream",
     "text": [
      "Dodawanie 36.0\n",
      "Odejmowanie -12.0\n",
      "Mnozenie 288.0\n",
      "Dzielenie 0.5\n"
     ]
    }
   ],
   "source": [
    "def dodawanie(a,b):\n",
    "    c = a + b\n",
    "    return c\n",
    "\n",
    "def odejmowanie(a, b):\n",
    "    c = a - b\n",
    "    return c\n",
    "\n",
    "def mnozenie(a, b):\n",
    "    c = a * b\n",
    "    return c\n",
    "\n",
    "def dzielenie(a, b):\n",
    "    c = a / b\n",
    "    return c\n",
    "\n",
    "def main():\n",
    "    a = float(input('Podaj a:'))\n",
    "    b = float(input('Podaj b:'))\n",
    "\n",
    "    print (f\"Dodawanie {dodawanie(a,b)}\")\n",
    "    print (f\"Odejmowanie {odejmowanie(a,b)}\")\n",
    "    print (f\"Mnozenie {mnozenie(a,b)}\")\n",
    "    print (f\"Dzielenie {dzielenie(a,b)}\")\n",
    "\n",
    "main()\n"
   ]
  },
  {
   "cell_type": "code",
   "execution_count": 2,
   "metadata": {},
   "outputs": [
    {
     "name": "stdout",
     "output_type": "stream",
     "text": [
      "Pole prostokata o bokach 5.0 i 6.0 wynosi  30.0\n"
     ]
    }
   ],
   "source": [
    "def pole(a,b):\n",
    "    return a * b\n",
    "\n",
    "\n",
    "\n",
    "def main():\n",
    "    a = float(input('Podaj bok a:'))\n",
    "    b = float(input('Podaj bok b:'))\n",
    "\n",
    "    print (f\"Pole prostokata o bokach {a} i {b} wynosi  {pole(a,b)}\")\n",
    "\n",
    "\n",
    "main()\n"
   ]
  },
  {
   "cell_type": "code",
   "execution_count": 4,
   "metadata": {},
   "outputs": [
    {
     "name": "stdout",
     "output_type": "stream",
     "text": [
      "Liczby 3.0 4.0 5.0 tworzą trójkę pitagorejską\n"
     ]
    }
   ],
   "source": [
    "def trojka(a,b,c):\n",
    "    if a * a + b * b == c * c :\n",
    "        print (f\"Liczby {a} {b} {c} tworzą trójkę pitagorejską\")\n",
    "    else:\n",
    "        print (f\"Liczby {a} {b} {c} nie tworzą trójki pitagorejskiej\")\n",
    "\n",
    "\n",
    "\n",
    "def main():\n",
    "    a = float(input('Podaj bok a:'))\n",
    "    b = float(input('Podaj bok b:'))\n",
    "    c = float(input('Podaj bok c:'))\n",
    "\n",
    "    trojka (a,b,c)\n",
    "\n",
    "\n",
    "main()"
   ]
  },
  {
   "cell_type": "code",
   "execution_count": 4,
   "metadata": {},
   "outputs": [
    {
     "name": "stdout",
     "output_type": "stream",
     "text": [
      "Program oblicza pierwiastki  z rownania ax2 + bx + c = 0 \n",
      "Program oblicza pierwiastki  z rownania ax2 + bx + c = 0 dla a = 2 b = 4 c = 5 \n",
      "Brak miejsc zerowych\n"
     ]
    }
   ],
   "source": [
    "import math\n",
    "\n",
    "def wielomian (a,b,c):\n",
    "    \n",
    "    print (f'Program oblicza pierwiastki  z rownania ax2 + bx + c = 0 dla a = {a} b = {b} c = {c} ')\n",
    "    \n",
    "    if a == 0:\n",
    "        print (\"wartosc wspolczynnika a musi byc rozna od zera\")\n",
    "        exit()\n",
    "    else:\n",
    "        delta = (b * b) - (4 * a * c)\n",
    "\n",
    "    if delta > 0:\n",
    "        x1 = ( -b - math.sqrt(delta) ) / ( 2 * a )\n",
    "        x2 = ( -b + math.sqrt(delta) ) / ( 2 * a )\n",
    "        print (f\"Miejsca zerowe to {x1:.2f} oraz {x2:.2f}\")\n",
    "    elif delta == 0:           \n",
    "        x0 = -b / ( 2*a )\n",
    "        print (f\"Miejsce zerowe to {x0:.2f}\")\n",
    "    else:\n",
    "        print(\"Brak miejsc zerowych\") \n",
    "\n",
    "def main():\n",
    "    wielomian (2,4,5)\n",
    "\n",
    "main()\n",
    "\n"
   ]
  },
  {
   "cell_type": "code",
   "execution_count": 7,
   "metadata": {},
   "outputs": [
    {
     "name": "stdout",
     "output_type": "stream",
     "text": [
      "Program podaje wartosc funckji sig dla 2, -6, 0\n",
      "\n",
      "Signum dla 2 = 1\n",
      "Signum dla -6 = -1\n",
      "Signum dla 0 = 0\n"
     ]
    }
   ],
   "source": [
    "def signum (x):\n",
    "    if x > 0:\n",
    "        sig = 1\n",
    "    elif x < 0:\n",
    "        sig = -1\n",
    "    else:\n",
    "        sig = 0\n",
    "    print (f\"Signum dla {x} = {sig}\")\n",
    "           \n",
    "\n",
    "def main ():\n",
    "    print ('Program podaje wartosc funckji sig dla 2, -6, 0')\n",
    "    print()\n",
    "    signum (2)\n",
    "    signum (-6)\n",
    "    signum (0)\n",
    "    \n",
    "main()\n",
    "\n",
    "    "
   ]
  },
  {
   "cell_type": "code",
   "execution_count": 18,
   "metadata": {},
   "outputs": [
    {
     "name": "stdout",
     "output_type": "stream",
     "text": [
      "[989, 877, 775, 42, 54, 184, 631, 978, 74, 390]\n",
      "[42, 54, 74, 184, 390, 631, 775, 877, 978, 989]\n"
     ]
    }
   ],
   "source": [
    "import random\n",
    "\n",
    "def sortowanie(liczby):\n",
    "    for i in range (len(liczby) - 1, 0, -1):\n",
    "        for j in range(i):\n",
    "            if liczby[j] >liczby[j+1]:\n",
    "                liczby[j], liczby[j+1] = liczby[j+1], liczby[j]\n",
    "                \n",
    "\n",
    "            \n",
    "\n",
    "                \n",
    "liczby = []\n",
    "\n",
    "for i in range (10):\n",
    "    liczby.append (random.randint(1,1000) )\n",
    "    \n",
    "print (liczby)\n",
    "\n",
    "\n",
    "sortowanie(liczby)\n",
    "\n",
    "\n",
    "print (liczby)\n",
    "\n",
    "\n",
    "\n",
    " "
   ]
  },
  {
   "cell_type": "code",
   "execution_count": 11,
   "metadata": {},
   "outputs": [
    {
     "name": "stdout",
     "output_type": "stream",
     "text": [
      "dla 0 funckcja y = x2 + 1 ma wartosc 1\n",
      "dla 0.5 funckcja y = x2 + 1 ma wartosc 1.25\n",
      "dla 1.0 funckcja y = x2 + 1 ma wartosc 2.0\n",
      "dla 1.5 funckcja y = x2 + 1 ma wartosc 3.25\n",
      "dla 2.0 funckcja y = x2 + 1 ma wartosc 5.0\n",
      "dla 2.5 funckcja y = x2 + 1 ma wartosc 7.25\n",
      "dla 3.0 funckcja y = x2 + 1 ma wartosc 10.0\n",
      "dla 3.5 funckcja y = x2 + 1 ma wartosc 13.25\n",
      "dla 4.0 funckcja y = x2 + 1 ma wartosc 17.0\n",
      "dla 4.5 funckcja y = x2 + 1 ma wartosc 21.25\n",
      "dla 5.0 funckcja y = x2 + 1 ma wartosc 26.0\n",
      "Zakończono\n"
     ]
    }
   ],
   "source": [
    "# 4.8\n",
    "\n",
    "def funkcja (x):\n",
    "    return x * x + 1\n",
    "\n",
    "def main():\n",
    "    \n",
    "    i = 0\n",
    "    \n",
    "    krok = 0.5\n",
    "\n",
    "    while i <= 5:\n",
    "        print (f\"dla {i} funckcja y = x2 + 1 ma wartosc {funkcja(i)}\")\n",
    "        i += krok\n",
    "        \n",
    "    print (\"Zakończono\") \n",
    "    \n",
    "main ()"
   ]
  },
  {
   "cell_type": "code",
   "execution_count": 12,
   "metadata": {},
   "outputs": [
    {
     "name": "stdout",
     "output_type": "stream",
     "text": [
      "to jest funckja rekurencyjna\n",
      "to jest funckja rekurencyjna\n",
      "to jest funckja rekurencyjna\n",
      "to jest funckja rekurencyjna\n",
      "to jest funckja rekurencyjna\n"
     ]
    }
   ],
   "source": [
    "# 4.9\n",
    "\n",
    "def wiadomosc(i):\n",
    "    if i > 0:\n",
    "        print('to jest funckja rekurencyjna')\n",
    "        wiadomosc(i - 1)\n",
    "        \n",
    "def main():\n",
    "    wiadomosc(5)\n",
    "    \n",
    "main()\n",
    "    \n",
    "    "
   ]
  },
  {
   "cell_type": "code",
   "execution_count": 23,
   "metadata": {},
   "outputs": [
    {
     "name": "stdout",
     "output_type": "stream",
     "text": [
      "1\n",
      "1\n",
      "2\n",
      "6\n",
      "24\n",
      "120\n",
      "720\n",
      "5040\n",
      "40320\n",
      "362880\n",
      "3628800\n"
     ]
    }
   ],
   "source": [
    "def silnia (i):\n",
    "    if i == 0:\n",
    "        return 1\n",
    "    else:\n",
    "        return i * silnia(i -1)  \n",
    "\n",
    "        \n",
    "def main():\n",
    "    for x in range (0 ,11):\n",
    "        print (silnia (x) )\n",
    "        \n",
    "main()\n",
    "        "
   ]
  },
  {
   "cell_type": "code",
   "execution_count": 4,
   "metadata": {},
   "outputs": [
    {
     "name": "stdout",
     "output_type": "stream",
     "text": [
      "Dla x = 1 liczba trojkatna to 1\n",
      "Dla x = 2 liczba trojkatna to 3\n",
      "Dla x = 3 liczba trojkatna to 6\n",
      "Dla x = 4 liczba trojkatna to 10\n",
      "Dla x = 5 liczba trojkatna to 15\n",
      "Dla x = 6 liczba trojkatna to 21\n",
      "Dla x = 7 liczba trojkatna to 28\n",
      "Dla x = 8 liczba trojkatna to 36\n",
      "Dla x = 9 liczba trojkatna to 45\n",
      "Dla x = 10 liczba trojkatna to 55\n"
     ]
    }
   ],
   "source": [
    "def trojkatne(n):\n",
    "    if n == 1:\n",
    "        return 1\n",
    "    else:\n",
    "        return (n + trojkatne(n-1))\n",
    "\n",
    "def main():\n",
    "    for x in range (1, 11):\n",
    "        print (f'Dla x = {x} liczba trojkatna to {trojkatne(x)}')\n",
    "        \n",
    "main()"
   ]
  },
  {
   "cell_type": "code",
   "execution_count": 6,
   "metadata": {},
   "outputs": [
    {
     "name": "stdout",
     "output_type": "stream",
     "text": [
      "1\n",
      "1\n",
      "2\n",
      "3\n",
      "5\n",
      "8\n",
      "13\n",
      "21\n",
      "34\n",
      "55\n"
     ]
    }
   ],
   "source": [
    "#4.12\n",
    "\n",
    "def fib(n):\n",
    "    if n == 0:\n",
    "        return 0\n",
    "    elif n == 1:\n",
    "        return 1\n",
    "    else:\n",
    "        return (fib(n-1) + fib (n-2))\n",
    "\n",
    "def main():\n",
    "    for x in range (1,11):\n",
    "        print (fib(x))\n",
    "        \n",
    "main()"
   ]
  },
  {
   "cell_type": "code",
   "execution_count": 1,
   "metadata": {},
   "outputs": [
    {
     "name": "stdout",
     "output_type": "stream",
     "text": [
      "NWD to 3\n"
     ]
    }
   ],
   "source": [
    "#4.13\n",
    "\n",
    "def gcd (x, y):\n",
    "       \n",
    "    if x % y == 0:\n",
    "        return y\n",
    "    else:\n",
    "        return gcd(y, x%y)\n",
    "    \n",
    "def main():\n",
    "    \n",
    "    a = int(input('Podaj liczbe a: '))\n",
    "    b = int(input('Podaj liczbe b: '))\n",
    "    \n",
    "    print(f'NWD to {gcd(a, b)}')\n",
    "    \n",
    "main()\n"
   ]
  },
  {
   "cell_type": "code",
   "execution_count": 2,
   "metadata": {},
   "outputs": [
    {
     "name": "stdout",
     "output_type": "stream",
     "text": [
      "NWD to 3\n"
     ]
    }
   ],
   "source": [
    "#4.13\n",
    "\n",
    "import math\n",
    "\n",
    "def main():\n",
    "    a = int(input('Podaj liczbe a: '))\n",
    "    b = int(input('Podaj liczbe b: '))\n",
    "    \n",
    "    print(f'NWD to {math.gcd(a, b)}')\n",
    "    \n",
    "main()\n",
    "    \n",
    "    "
   ]
  },
  {
   "cell_type": "code",
   "execution_count": 8,
   "metadata": {},
   "outputs": [
    {
     "name": "stdout",
     "output_type": "stream",
     "text": [
      "60\n"
     ]
    }
   ],
   "source": [
    "def suma_zakresu(lista, poczatek, koniec):\n",
    "    if poczatek > koniec:\n",
    "        return 0\n",
    "    else:\n",
    "        return lista[poczatek] + suma_zakresu(lista, poczatek + 1, koniec)\n",
    "    \n",
    "liczby = [1,2,3,4,5,6,7,8,9,10,11]\n",
    "\n",
    "def main():\n",
    "    print(suma_zakresu (liczby, 3, 10))\n",
    "    \n",
    "main()"
   ]
  },
  {
   "cell_type": "code",
   "execution_count": 10,
   "metadata": {},
   "outputs": [
    {
     "name": "stdout",
     "output_type": "stream",
     "text": [
      "dla 0 funckcja y = x2 + 1 ma wartosc 1\n",
      "dla 0.5 funckcja y = x2 + 1 ma wartosc 1.25\n",
      "dla 1.0 funckcja y = x2 + 1 ma wartosc 2.0\n",
      "dla 1.5 funckcja y = x2 + 1 ma wartosc 3.25\n",
      "dla 2.0 funckcja y = x2 + 1 ma wartosc 5.0\n",
      "dla 2.5 funckcja y = x2 + 1 ma wartosc 7.25\n",
      "dla 3.0 funckcja y = x2 + 1 ma wartosc 10.0\n",
      "dla 3.5 funckcja y = x2 + 1 ma wartosc 13.25\n",
      "dla 4.0 funckcja y = x2 + 1 ma wartosc 17.0\n",
      "dla 4.5 funckcja y = x2 + 1 ma wartosc 21.25\n",
      "dla 5.0 funckcja y = x2 + 1 ma wartosc 26.0\n",
      "Zakończono\n"
     ]
    }
   ],
   "source": [
    "# 4.15\n",
    "\n",
    "def main ():\n",
    "    \n",
    "    oblicz = lambda x : x * x + 1\n",
    "    \n",
    "    i = 0\n",
    "    \n",
    "    krok = 0.5\n",
    "\n",
    "    while i <= 5:\n",
    "        print (f\"dla {i} funckcja y = x2 + 1 ma wartosc {oblicz(i)}\")\n",
    "        i += krok\n",
    "        \n",
    "    print (\"Zakończono\") \n",
    "    \n",
    "main ()"
   ]
  },
  {
   "cell_type": "code",
   "execution_count": 14,
   "metadata": {},
   "outputs": [
    {
     "name": "stdout",
     "output_type": "stream",
     "text": [
      "\n",
      "1 2 2 3\n",
      "-----\n",
      "1 4 8 9\n",
      "-----\n",
      "1 8 4 9\n",
      "-----\n",
      "2 1 2 3\n",
      "-----\n",
      "2 2 1 3\n",
      "-----\n",
      "2 3 6 7\n",
      "-----\n",
      "2 4 4 6\n",
      "-----\n",
      "2 6 3 7\n",
      "-----\n",
      "3 2 6 7\n",
      "-----\n",
      "3 6 2 7\n",
      "-----\n",
      "3 6 6 9\n",
      "-----\n",
      "4 1 8 9\n",
      "-----\n",
      "4 2 4 6\n",
      "-----\n",
      "4 4 2 6\n",
      "-----\n",
      "4 4 7 9\n",
      "-----\n",
      "4 7 4 9\n",
      "-----\n",
      "4 8 1 9\n",
      "-----\n",
      "6 2 3 7\n",
      "-----\n",
      "6 3 2 7\n",
      "-----\n",
      "6 3 6 9\n",
      "-----\n",
      "6 6 3 9\n",
      "-----\n",
      "7 4 4 9\n",
      "-----\n",
      "8 1 4 9\n",
      "-----\n",
      "8 4 1 9\n",
      "-----\n"
     ]
    }
   ],
   "source": [
    "4.17\n",
    "\n",
    "def czworka(N):\n",
    "    for a in range (1,N):\n",
    "        for b in range(1,N):\n",
    "            for c in range(1,N):\n",
    "                for d in range(1,N):\n",
    "                    if a * a + b * b + c * c == d * d:\n",
    "                        print (a, b, c, d)\n",
    "                        print ('-' * 5) \n",
    "                        \n",
    "def main():\n",
    "    N = 10\n",
    "    print()\n",
    "    czworka(N)\n",
    "\n",
    "main()\n"
   ]
  },
  {
   "cell_type": "code",
   "execution_count": 24,
   "metadata": {},
   "outputs": [
    {
     "name": "stdout",
     "output_type": "stream",
     "text": [
      "Suma dla 100 to 52\n"
     ]
    }
   ],
   "source": [
    "def suma(n):\n",
    "    s = 1\n",
    "    for i in range (2, n +1):\n",
    "        if i % 2 == 0:\n",
    "            s += i\n",
    "        else:\n",
    "            s -= i\n",
    "    return s\n",
    "\n",
    "def main():\n",
    "    print(f'Suma dla 100 to {suma(100)}')\n",
    "\n",
    "main()"
   ]
  },
  {
   "cell_type": "code",
   "execution_count": 26,
   "metadata": {},
   "outputs": [
    {
     "name": "stdout",
     "output_type": "stream",
     "text": [
      "Suma dla 100 to 10000\n"
     ]
    }
   ],
   "source": [
    "# 4.19\n",
    "\n",
    "def suma(n):\n",
    "    s = 0\n",
    "    for i in range (1, n +1):\n",
    "        s = s + 2 * i - 1\n",
    "    return s\n",
    "\n",
    "def main():\n",
    "    print(f'Suma dla 100 to {suma(100)}')\n",
    "\n",
    "main()"
   ]
  },
  {
   "cell_type": "code",
   "execution_count": 27,
   "metadata": {},
   "outputs": [
    {
     "name": "stdout",
     "output_type": "stream",
     "text": [
      "Suma dla 100 to 343400\n"
     ]
    }
   ],
   "source": [
    "4.20\n",
    "\n",
    "def suma(n):\n",
    "    s = 0\n",
    "    for i in range (1, n +1):\n",
    "        s = s + i * ( i + 1 )\n",
    "    return s\n",
    "\n",
    "def main():\n",
    "    print(f'Suma dla 100 to {suma(100)}')\n",
    "\n",
    "main()"
   ]
  },
  {
   "cell_type": "code",
   "execution_count": 31,
   "metadata": {},
   "outputs": [
    {
     "name": "stdout",
     "output_type": "stream",
     "text": [
      "STala E = 2.718281828459045\n",
      "STala E = 2.7182818284590455\n"
     ]
    }
   ],
   "source": [
    "4.21\n",
    "\n",
    "import math\n",
    "\n",
    "def e (n):\n",
    "    s, m = (1.0, 1)\n",
    "    for i in range (1,n):\n",
    "        m = m * i\n",
    "        s = s + 1.0 / m\n",
    "    return s\n",
    "\n",
    "def main():\n",
    "    print(f'STala E = {math.e}')\n",
    "    print(f'STala E = {e(20)}')\n",
    "    \n",
    "main()"
   ]
  },
  {
   "cell_type": "code",
   "execution_count": 32,
   "metadata": {},
   "outputs": [
    {
     "name": "stdout",
     "output_type": "stream",
     "text": [
      "Wynik = 35\n"
     ]
    }
   ],
   "source": [
    "4.22\n",
    "\n",
    "def dodaj_do(x):\n",
    "    def dodaj(y):\n",
    "        return x + y\n",
    "    return dodaj\n",
    "\n",
    "def main():\n",
    "    dodaj_do_15 = dodaj_do(15)\n",
    "    \n",
    "    print(f'Wynik = {dodaj_do_15(20)}')\n",
    "    \n",
    "main()\n"
   ]
  },
  {
   "cell_type": "code",
   "execution_count": 5,
   "metadata": {},
   "outputs": [
    {
     "name": "stdout",
     "output_type": "stream",
     "text": [
      "Obiekt kalsy prostokata zostal utworzony\n",
      "\n",
      "Program oblicza pole prostokata\n",
      "Pole prostokata o bokach 45.0 i boku 65.0 wynosi 2925.0\n",
      "\n",
      "Obiekt został usuniety\n"
     ]
    }
   ],
   "source": [
    "class Pole_prostokata:\n",
    "    def __init__(self):\n",
    "        print(\"Obiekt kalsy prostokata zostal utworzony\")\n",
    "        print()\n",
    "        print(\"Program oblicza pole prostokata\")\n",
    "    \n",
    "    def __del__(self):\n",
    "        print()\n",
    "        print('Obiekt został usuniety')\n",
    "    \n",
    "    def czytaj_dane(self):\n",
    "        self.a = float(input('Podaj a: '))\n",
    "        self.b = float(input('Podaj b: '))\n",
    "        \n",
    "    def oblicz_pole(self):\n",
    "        self.pole = self.a * self.b\n",
    "        return self.pole\n",
    "    \n",
    "    def wyswietl_wynik(self):\n",
    "        print (f'Pole prostokata o bokach {self.a} i boku {self.b} wynosi {self.pole}')\n",
    "        \n",
    "\n",
    "def main():\n",
    "    pro1 = Pole_prostokata()\n",
    "    \n",
    "    pro1.czytaj_dane()\n",
    "    \n",
    "    pro1.oblicz_pole()\n",
    "    \n",
    "    pro1.wyswietl_wynik()\n",
    "    \n",
    "    del pro1\n",
    "    \n",
    "main()\n",
    "    \n",
    "    \n",
    "\n",
    "                       "
   ]
  },
  {
   "cell_type": "code",
   "execution_count": 12,
   "metadata": {},
   "outputs": [
    {
     "name": "stdout",
     "output_type": "stream",
     "text": [
      "Obiekt klasy ptrojmianzostal utworzony\n",
      "\n",
      "Program oblicza pierwiastki  z rownania ax2 + bx + c = 0\n",
      "Brak miejsc zerowych\n",
      "\n",
      "Obiekt został usuniety\n"
     ]
    }
   ],
   "source": [
    "import math\n",
    "\n",
    "class trojmian:\n",
    "    def __init__(self):\n",
    "        print(\"Obiekt klasy trojmian zostal utworzony\")\n",
    "        print()\n",
    "        print(\"Program oblicza pierwiastki  z rownania ax2 + bx + c = 0\")\n",
    "    \n",
    "    def __del__(self):\n",
    "        print()\n",
    "        print('Obiekt został usuniety')\n",
    "\n",
    "    def czytaj_i_oblicz(self):\n",
    "    \n",
    "        self.a = float(input('Podaj a:'))\n",
    "        self.b = float(input('Podaj b:'))\n",
    "        self.c = float(input('Podaj c:'))\n",
    "    \n",
    "        if self.a == 0:\n",
    "            print (\"wartosc wspolczynnika a musi byc rozna od zera\")\n",
    "            exit()\n",
    "        else:\n",
    "            self.delta = (self.b * self.b) - (4 * self.a * self.c)\n",
    "\n",
    "        if self.delta > 0:\n",
    "            self.x1 = ( -self.b - math.sqrt(self.delta) ) / ( 2 * self.a )\n",
    "            self.x2 = ( -self.b + math.sqrt(self.delta) ) / ( 2 * self.a )\n",
    "        elif self.delta == 0:           \n",
    "            self.x0 = -self.b / ( 2 * self.a )\n",
    "\n",
    "        # else:\n",
    "            \n",
    "    \n",
    "    def wyswietl_wynik(self):\n",
    "        if self.delta > 0:\n",
    "            print (f\"Miejsca zerowe to {self.x1:.2f} oraz {self.x2:.2f}\")\n",
    "        elif self.delta == 0:    \n",
    "            print (f\"Miejsce zerowe to {self.x0:.2f}\")\n",
    "        else:\n",
    "            print(\"Brak miejsc zerowych\") \n",
    "            \n",
    "\n",
    "def main():\n",
    "    \n",
    "    troj = trojmian()\n",
    "    troj.czytaj_i_oblicz()\n",
    "    troj.wyswietl_wynik()\n",
    "    del troj\n",
    "\n",
    "main()"
   ]
  },
  {
   "cell_type": "code",
   "execution_count": 48,
   "metadata": {},
   "outputs": [
    {
     "name": "stdout",
     "output_type": "stream",
     "text": [
      "Obiekt klasy tablica zostal utworzony\n",
      "\n",
      "Program generuje tablice liczbami losowymi od 1 do 9 i oblciza ich sumę\n",
      "\n",
      "\n",
      "3\t0\t0\t0\t0\t0\t0\t0\t0\t0\t\n",
      "\n",
      "0\t4\t0\t0\t0\t0\t0\t0\t0\t0\t\n",
      "\n",
      "0\t0\t3\t0\t0\t0\t0\t0\t0\t0\t\n",
      "\n",
      "0\t0\t0\t9\t0\t0\t0\t0\t0\t0\t\n",
      "\n",
      "0\t0\t0\t0\t9\t0\t0\t0\t0\t0\t\n",
      "\n",
      "0\t0\t0\t0\t0\t2\t0\t0\t0\t0\t\n",
      "\n",
      "0\t0\t0\t0\t0\t0\t4\t0\t0\t0\t\n",
      "\n",
      "0\t0\t0\t0\t0\t0\t0\t1\t0\t0\t\n",
      "\n",
      "0\t0\t0\t0\t0\t0\t0\t0\t8\t0\t\n",
      "\n",
      "0\t0\t0\t0\t0\t0\t0\t0\t0\t6\t\n",
      "Suma liczb na przekatnej = 49\n",
      "\n",
      "Obiekt został usuniety\n"
     ]
    }
   ],
   "source": [
    "import random\n",
    "\n",
    "class tablica09:\n",
    "    def __init__(self):\n",
    "        print(\"Obiekt klasy tablica zostal utworzony\")\n",
    "        print()\n",
    "        print(\"Program generuje tablice liczbami losowymi od 1 do 9 i oblciza ich sumę\")\n",
    "    \n",
    "    def __del__(self):\n",
    "        print()\n",
    "        print('Obiekt został usuniety')\n",
    "        \n",
    "    def generuj_tablice(self, N, tablica):\n",
    "        \n",
    "        tab = '\\t'\n",
    "        \n",
    "        for i in range(N):\n",
    "            for j in range(N):\n",
    "                liczba = random.randint(1,9)\n",
    "                if i == j:\n",
    "                    tablica[i][j] = liczba\n",
    "                else:    \n",
    "                    tablica[i][j] = 0\n",
    "        \n",
    "        for i in range(N):\n",
    "            print ('\\n')\n",
    "            for j in range(N):\n",
    "                # print(tablica[i][j], \" \")\n",
    "                print (f'{tablica[i][j]}{tab}', end=\"\")\n",
    "                \n",
    "    def oblicz_sume(self, N, tablica):\n",
    "        suma = 0\n",
    "        for i in range(N):\n",
    "            suma += tablica[i][i]\n",
    "            \n",
    "        print()\n",
    "        print(f'Suma liczb na przekatnej = {suma}')\n",
    "        \n",
    "def main():\n",
    "    \n",
    "    N = 10\n",
    "    \n",
    "    tablica = [[0 for i in range (N)] for j in range (N) ]\n",
    "    \n",
    "    macierz = tablica09()\n",
    "    \n",
    "    macierz.generuj_tablice(N, tablica)\n",
    "    \n",
    "    macierz.oblicz_sume(N, tablica)\n",
    "    \n",
    "    del macierz\n",
    "\n",
    "main()\n",
    "        \n",
    "\n"
   ]
  },
  {
   "cell_type": "code",
   "execution_count": 62,
   "metadata": {},
   "outputs": [
    {
     "name": "stdout",
     "output_type": "stream",
     "text": [
      "[361, 901, 22, 445, 996, 485, 734, 181, 82, 110]\n",
      "Obiekt klasy sortowanie zostal utworzony\n",
      "\n",
      "Program sortuje liste metoda babelkowa\n",
      "[22, 82, 110, 181, 361, 445, 485, 734, 901, 996]\n",
      "\n",
      "Obiekt został usuniety\n"
     ]
    }
   ],
   "source": [
    "import random\n",
    "\n",
    "class sortowanie:\n",
    "    def __init__(self):\n",
    "        print(\"Obiekt klasy sortowanie zostal utworzony\")\n",
    "        print()\n",
    "        print('Program sortuje liste metoda babelkowa')\n",
    "    \n",
    "    def __del__(self):\n",
    "        print()\n",
    "        print('Obiekt został usuniety')\n",
    "        \n",
    "    def sortuj_dane(self, liczby):\n",
    "\n",
    "        for i in range (len(liczby) - 1, 0, -1):\n",
    "            for j in range(i):\n",
    "                if liczby[j] > liczby[j+1]:\n",
    "                    liczby[j], liczby[j+1] = liczby[j+1], liczby[j]\n",
    "    \n",
    "    def wyswietl_posortowane(self, liczby):\n",
    "        print(liczby)\n",
    "                \n",
    "\n",
    "def main():        \n",
    "                \n",
    "    licz = []\n",
    "\n",
    "    for i in range (10):\n",
    "        licz.append (random.randint(1,1000) )\n",
    "    \n",
    "    print (licz)\n",
    "\n",
    "    listeczka = sortowanie()\n",
    "    \n",
    "    listeczka.sortuj_dane(licz)\n",
    "    \n",
    "    listeczka.wyswietl_posortowane(licz)\n",
    "\n",
    "main()\n",
    "    \n",
    "    \n",
    "    \n",
    "    "
   ]
  }
 ],
 "metadata": {
  "kernelspec": {
   "display_name": "Python 3",
   "language": "python",
   "name": "python3"
  },
  "language_info": {
   "codemirror_mode": {
    "name": "ipython",
    "version": 3
   },
   "file_extension": ".py",
   "mimetype": "text/x-python",
   "name": "python",
   "nbconvert_exporter": "python",
   "pygments_lexer": "ipython3",
   "version": "3.10.12"
  }
 },
 "nbformat": 4,
 "nbformat_minor": 2
}
