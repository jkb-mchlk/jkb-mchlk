{
 "cells": [
  {
   "cell_type": "code",
   "execution_count": 1,
   "metadata": {},
   "outputs": [],
   "source": [
    "# Load most common libraries\n",
    "\n",
    "import pandas as pd\n",
    "import numpy as np\n",
    "import statistics\n",
    "import matplotlib.pyplot as plt\n",
    "#import gc\n",
    "import seaborn as sns\n"
   ]
  },
  {
   "cell_type": "code",
   "execution_count": null,
   "metadata": {},
   "outputs": [
    {
     "name": "stdout",
     "output_type": "stream",
     "text": [
      "    data_tran  kond  rok_bud  obreb        adres  miej_post  pom_dod    cena  \\\n",
      "0  2021-01-25     2     2019     27  ŻYRARDOWSKA          0        0  403000   \n",
      "1  2021-01-07     1     2000     27     BAŁTYCKA          0        1  295000   \n",
      "2  2021-01-04     2     1950     23   PILECKIEGO          0        1  240000   \n",
      "3  2021-01-08     4     2015     22     BAŁTYCKA          1        0  290000   \n",
      "4  2021-01-08     2     2014     16  NARUTOWICZA          1        0  350000   \n",
      "\n",
      "     pow  \n",
      "0  56.15  \n",
      "1  46.95  \n",
      "2  43.40  \n",
      "3  44.70  \n",
      "4  50.46  \n"
     ]
    },
    {
     "data": {
      "text/plain": [
       "data_tran     object\n",
       "kond           int64\n",
       "rok_bud        int64\n",
       "obreb          int64\n",
       "adres         object\n",
       "miej_post      int64\n",
       "pom_dod        int64\n",
       "cena           int64\n",
       "pow          float64\n",
       "dtype: object"
      ]
     },
     "execution_count": 27,
     "metadata": {},
     "output_type": "execute_result"
    }
   ],
   "source": [
    "# load data from website\n",
    "data = pd.read_csv('https://jakubmichalak.com.pl/flat.csv', delimiter=\";\", decimal=\",\")\n",
    "\n",
    "# # explore data\n",
    "# print(data.head())\n",
    "\n",
    "# # explore data types\n",
    "# data.dtypes"
   ]
  },
  {
   "cell_type": "code",
   "execution_count": 52,
   "metadata": {},
   "outputs": [],
   "source": [
    "# convert string to date\n",
    "data['data_tran'] = pd.to_datetime(data['data_tran'], format='%Y-%m-%d')\n",
    "\n",
    "# convert integer to string\n",
    "data['kond'] = [str(x) for x in data['kond']]\n",
    "\n",
    "# add new target column\n",
    "prices_unit = data['cena'] / data['pow']\n",
    "data['unitprice'] = [int(x) for x in prices_unit]\n",
    "data['wiek'] = 2021 - data['rok_bud']  "
   ]
  },
  {
   "cell_type": "code",
   "execution_count": null,
   "metadata": {},
   "outputs": [
    {
     "name": "stdout",
     "output_type": "stream",
     "text": [
      "6340.909090909091\n",
      "     data_tran  unitprice  unitpricebeta\n",
      "0            1       7177           7177\n",
      "1            1       6283           6283\n",
      "2            1       5529           5529\n",
      "3            1       6487           6487\n",
      "4            1       6936           6936\n",
      "..         ...        ...            ...\n",
      "139         12       7810           7810\n",
      "140         12       8878           8878\n",
      "141         12       6975           6975\n",
      "142         12       6000           6000\n",
      "143         12       6060           6060\n",
      "\n",
      "[144 rows x 3 columns]\n"
     ]
    }
   ],
   "source": [
    "data2 = pd.DataFrame (data['data_tran'].dt.month)\n",
    "data2['unitprice'] = data['unitprice']\n",
    "\n",
    "index = pd.DataFrame(data2.groupby('data_tran').mean())\n",
    "\n",
    "print(index['unitprice'][1])\n",
    "\n",
    "data2['unitpricebeta'] = data2['unitprice']\n",
    "\n",
    "index_mt = [0] * 12\n",
    "# indes = pd.DataFrame(index)\n",
    "\n",
    "for i in range(12):\n",
    "    index_mt[i] = index['unitprice'][i+1] / index['unitprice'][12] \n",
    "    \n",
    "\n",
    "data2['unitpricebeta'] = data2['unitprice']\n",
    "\n",
    "for i in range(len(data2)):\n",
    "    data2['unitpricebeta'][i] = data2['unitprice'][i] / index[data2['data_tran'][i]-1]\n",
    "        \n",
    "# data2['unitpricebeta'] = [int(x) for x in data2['unitpricebeta']]\n",
    "\n",
    "print(data2)"
   ]
  },
  {
   "cell_type": "code",
   "execution_count": null,
   "metadata": {},
   "outputs": [
    {
     "name": "stdout",
     "output_type": "stream",
     "text": [
      "     data_tran kond  rok_bud  obreb        adres  miej_post  pom_dod    cena  \\\n",
      "0   2021-01-25    2     2019     27  ŻYRARDOWSKA          0        0  403000   \n",
      "1   2021-01-07    1     2000     27     BAŁTYCKA          0        1  295000   \n",
      "2   2021-01-04    2     1950     23   PILECKIEGO          0        1  240000   \n",
      "3   2021-01-08    4     2015     22     BAŁTYCKA          1        0  290000   \n",
      "4   2021-01-08    2     2014     16  NARUTOWICZA          1        0  350000   \n",
      "..         ...  ...      ...    ...          ...        ...      ...     ...   \n",
      "139 2021-12-22    3     2012     33       3 MAJA          1        0  535000   \n",
      "140 2021-12-11    1     2003     34       TELIGI          0        1  285000   \n",
      "141 2021-12-02    1     2000     27     BAŁTYCKA          0        1  200000   \n",
      "142 2021-12-07    3     1985     28   KOŚCIUSZKI          0        1  330000   \n",
      "143 2021-12-17    5     1976     41   WÓLCZYŃSKA          0        1  180000   \n",
      "\n",
      "       pow  unitprice  wiek  month  unitpricebeta  \n",
      "0    56.15       7177     2      1    8964.870444  \n",
      "1    46.95       6283    21      1    7848.165111  \n",
      "2    43.40       5529    71      1    6906.335333  \n",
      "3    44.70       6487     6      1    8102.983778  \n",
      "4    50.46       6936     7      1    8663.834667  \n",
      "..     ...        ...   ...    ...            ...  \n",
      "139  68.50       7810     9     12    7810.000000  \n",
      "140  32.10       8878    18     12    8878.000000  \n",
      "141  28.67       6975    21     12    6975.000000  \n",
      "142  55.00       6000    36     12    6000.000000  \n",
      "143  29.70       6060    45     12    6060.000000  \n",
      "\n",
      "[144 rows x 13 columns]\n"
     ]
    }
   ],
   "source": [
    "import pandas as pd\n",
    "\n",
    "# Upewnij się, że data_tran jest typu datetime\n",
    "data['data_tran'] = pd.to_datetime(data['data_tran'], errors='coerce')\n",
    "\n",
    "# Utwórz kolumnę z miesiącem\n",
    "data['month'] = data['data_tran'].dt.month\n",
    "\n",
    "# Oblicz średnią cenę jednostkową (unitprice) dla każdego miesiąca\n",
    "index = data.groupby('month')['unitprice'].mean()\n",
    "\n",
    "# Utwórz indeks sezonowy na podstawie ostatniego miesiąca (np. grudzień)\n",
    "index_mt = index / index[12]\n",
    "\n",
    "# Dodaj kolumnę z `unitpricebeta` w oparciu o indeksy sezonowe\n",
    "data['unitprice'] = data.apply(\n",
    "    lambda row: row['unitprice'] / index_mt[row['month']] if pd.notna(row['month']) else None, \n",
    "    axis=1\n",
    ")\n",
    "\n",
    "print(data)\n"
   ]
  },
  {
   "cell_type": "code",
   "execution_count": 85,
   "metadata": {},
   "outputs": [
    {
     "name": "stdout",
     "output_type": "stream",
     "text": [
      "     data_tran kond  rok_bud  obreb         adres  miej_post  pom_dod    cena  \\\n",
      "1   2021-01-07    1     2000     27      BAŁTYCKA          0        1  295000   \n",
      "3   2021-01-08    4     2015     22      BAŁTYCKA          1        0  290000   \n",
      "6   2021-01-29    1     2006     34       RUSAŁKI          0        1  369000   \n",
      "8   2021-01-27    2     2007     34   CEGIELNIANA          0        1  315000   \n",
      "9   2021-01-18    2     1978     28  SIENKIEWICZA          0        1  325000   \n",
      "..         ...  ...      ...    ...           ...        ...      ...     ...   \n",
      "135 2021-11-25    5     2003     41    WÓLCZYŃSKA          0        1  370000   \n",
      "137 2021-12-15    4     1975     64      BAŁTYCKA          0        1  275000   \n",
      "139 2021-12-22    3     2012     33        3 MAJA          1        0  535000   \n",
      "140 2021-12-11    1     2003     34        TELIGI          0        1  285000   \n",
      "141 2021-12-02    1     2000     27      BAŁTYCKA          0        1  200000   \n",
      "\n",
      "       pow  unitprice  wiek  month  unitpricebeta  \n",
      "1    46.95       6283    21      1    7848.165111  \n",
      "3    44.70       6487     6      1    8102.983778  \n",
      "6    60.16       6133    15      1    7660.798444  \n",
      "8    51.20       6152    14      1    7684.531556  \n",
      "9    47.50       6842    43      1    8546.418222  \n",
      "..     ...        ...   ...    ...            ...  \n",
      "135  52.00       7115    18     11    8075.838895  \n",
      "137  33.00       8333    46     12    8333.000000  \n",
      "139  68.50       7810     9     12    7810.000000  \n",
      "140  32.10       8878    18     12    8878.000000  \n",
      "141  28.67       6975    21     12    6975.000000  \n",
      "\n",
      "[95 rows x 13 columns]\n"
     ]
    }
   ],
   "source": [
    "\n",
    "stats = data.groupby('month')['unitprice'].agg(['mean', 'std']).reset_index()\n",
    "\n",
    "stats['upper_limit'] = stats['mean'] + 1 * stats['std']\n",
    "stats['lower_limit'] = stats['mean'] - 1 * stats['std']\n",
    "\n",
    "data = data.merge(stats[['month', 'upper_limit', 'lower_limit']], on='month', how='left')\n",
    "\n",
    "filtered_data = data[\n",
    "    (data['unitprice'] >= data['lower_limit']) & \n",
    "    (data['unitprice'] <= data['upper_limit'])\n",
    "].copy()\n",
    "\n",
    "filtered_data.drop(columns=['upper_limit', 'lower_limit'], inplace=True)\n",
    "data.drop(columns=['upper_limit', 'lower_limit'], inplace=True)\n",
    "\n",
    "# Wyświetl przefiltrowane dane\n",
    "print(filtered_data)\n"
   ]
  },
  {
   "cell_type": "code",
   "execution_count": null,
   "metadata": {},
   "outputs": [],
   "source": [
    "data.drop(columns=['upper_limit', 'lower_limit'], inplace=True)"
   ]
  },
  {
   "cell_type": "code",
   "execution_count": 31,
   "metadata": {},
   "outputs": [],
   "source": [
    "data3 = pd.DataFrame(data['data_tran'].dt.month, columns=['month'])\n",
    "data3['liczba'] = data['data_tran'].dt.month.value_counts().sort_index().values\n",
    "\n",
    "\n",
    "# data2.groupby(data['data_tran'].dt.month).count()"
   ]
  },
  {
   "cell_type": "code",
   "execution_count": 84,
   "metadata": {},
   "outputs": [
    {
     "data": {
      "text/html": [
       "<div>\n",
       "<style scoped>\n",
       "    .dataframe tbody tr th:only-of-type {\n",
       "        vertical-align: middle;\n",
       "    }\n",
       "\n",
       "    .dataframe tbody tr th {\n",
       "        vertical-align: top;\n",
       "    }\n",
       "\n",
       "    .dataframe thead th {\n",
       "        text-align: right;\n",
       "    }\n",
       "</style>\n",
       "<table border=\"1\" class=\"dataframe\">\n",
       "  <thead>\n",
       "    <tr style=\"text-align: right;\">\n",
       "      <th></th>\n",
       "      <th>data_tran</th>\n",
       "      <th>kond</th>\n",
       "      <th>rok_bud</th>\n",
       "      <th>obreb</th>\n",
       "      <th>adres</th>\n",
       "      <th>miej_post</th>\n",
       "      <th>pom_dod</th>\n",
       "      <th>cena</th>\n",
       "      <th>pow</th>\n",
       "      <th>unitprice</th>\n",
       "      <th>wiek</th>\n",
       "      <th>month</th>\n",
       "      <th>unitpricebeta</th>\n",
       "    </tr>\n",
       "  </thead>\n",
       "  <tbody>\n",
       "    <tr>\n",
       "      <th>0</th>\n",
       "      <td>2021-01-25</td>\n",
       "      <td>2</td>\n",
       "      <td>2019</td>\n",
       "      <td>27</td>\n",
       "      <td>ŻYRARDOWSKA</td>\n",
       "      <td>0</td>\n",
       "      <td>0</td>\n",
       "      <td>403000</td>\n",
       "      <td>56.15</td>\n",
       "      <td>7177</td>\n",
       "      <td>2</td>\n",
       "      <td>1</td>\n",
       "      <td>8964.870444</td>\n",
       "    </tr>\n",
       "    <tr>\n",
       "      <th>1</th>\n",
       "      <td>2021-01-07</td>\n",
       "      <td>1</td>\n",
       "      <td>2000</td>\n",
       "      <td>27</td>\n",
       "      <td>BAŁTYCKA</td>\n",
       "      <td>0</td>\n",
       "      <td>1</td>\n",
       "      <td>295000</td>\n",
       "      <td>46.95</td>\n",
       "      <td>6283</td>\n",
       "      <td>21</td>\n",
       "      <td>1</td>\n",
       "      <td>7848.165111</td>\n",
       "    </tr>\n",
       "    <tr>\n",
       "      <th>2</th>\n",
       "      <td>2021-01-04</td>\n",
       "      <td>2</td>\n",
       "      <td>1950</td>\n",
       "      <td>23</td>\n",
       "      <td>PILECKIEGO</td>\n",
       "      <td>0</td>\n",
       "      <td>1</td>\n",
       "      <td>240000</td>\n",
       "      <td>43.40</td>\n",
       "      <td>5529</td>\n",
       "      <td>71</td>\n",
       "      <td>1</td>\n",
       "      <td>6906.335333</td>\n",
       "    </tr>\n",
       "    <tr>\n",
       "      <th>3</th>\n",
       "      <td>2021-01-08</td>\n",
       "      <td>4</td>\n",
       "      <td>2015</td>\n",
       "      <td>22</td>\n",
       "      <td>BAŁTYCKA</td>\n",
       "      <td>1</td>\n",
       "      <td>0</td>\n",
       "      <td>290000</td>\n",
       "      <td>44.70</td>\n",
       "      <td>6487</td>\n",
       "      <td>6</td>\n",
       "      <td>1</td>\n",
       "      <td>8102.983778</td>\n",
       "    </tr>\n",
       "    <tr>\n",
       "      <th>4</th>\n",
       "      <td>2021-01-08</td>\n",
       "      <td>2</td>\n",
       "      <td>2014</td>\n",
       "      <td>16</td>\n",
       "      <td>NARUTOWICZA</td>\n",
       "      <td>1</td>\n",
       "      <td>0</td>\n",
       "      <td>350000</td>\n",
       "      <td>50.46</td>\n",
       "      <td>6936</td>\n",
       "      <td>7</td>\n",
       "      <td>1</td>\n",
       "      <td>8663.834667</td>\n",
       "    </tr>\n",
       "    <tr>\n",
       "      <th>...</th>\n",
       "      <td>...</td>\n",
       "      <td>...</td>\n",
       "      <td>...</td>\n",
       "      <td>...</td>\n",
       "      <td>...</td>\n",
       "      <td>...</td>\n",
       "      <td>...</td>\n",
       "      <td>...</td>\n",
       "      <td>...</td>\n",
       "      <td>...</td>\n",
       "      <td>...</td>\n",
       "      <td>...</td>\n",
       "      <td>...</td>\n",
       "    </tr>\n",
       "    <tr>\n",
       "      <th>139</th>\n",
       "      <td>2021-12-22</td>\n",
       "      <td>3</td>\n",
       "      <td>2012</td>\n",
       "      <td>33</td>\n",
       "      <td>3 MAJA</td>\n",
       "      <td>1</td>\n",
       "      <td>0</td>\n",
       "      <td>535000</td>\n",
       "      <td>68.50</td>\n",
       "      <td>7810</td>\n",
       "      <td>9</td>\n",
       "      <td>12</td>\n",
       "      <td>7810.000000</td>\n",
       "    </tr>\n",
       "    <tr>\n",
       "      <th>140</th>\n",
       "      <td>2021-12-11</td>\n",
       "      <td>1</td>\n",
       "      <td>2003</td>\n",
       "      <td>34</td>\n",
       "      <td>TELIGI</td>\n",
       "      <td>0</td>\n",
       "      <td>1</td>\n",
       "      <td>285000</td>\n",
       "      <td>32.10</td>\n",
       "      <td>8878</td>\n",
       "      <td>18</td>\n",
       "      <td>12</td>\n",
       "      <td>8878.000000</td>\n",
       "    </tr>\n",
       "    <tr>\n",
       "      <th>141</th>\n",
       "      <td>2021-12-02</td>\n",
       "      <td>1</td>\n",
       "      <td>2000</td>\n",
       "      <td>27</td>\n",
       "      <td>BAŁTYCKA</td>\n",
       "      <td>0</td>\n",
       "      <td>1</td>\n",
       "      <td>200000</td>\n",
       "      <td>28.67</td>\n",
       "      <td>6975</td>\n",
       "      <td>21</td>\n",
       "      <td>12</td>\n",
       "      <td>6975.000000</td>\n",
       "    </tr>\n",
       "    <tr>\n",
       "      <th>142</th>\n",
       "      <td>2021-12-07</td>\n",
       "      <td>3</td>\n",
       "      <td>1985</td>\n",
       "      <td>28</td>\n",
       "      <td>KOŚCIUSZKI</td>\n",
       "      <td>0</td>\n",
       "      <td>1</td>\n",
       "      <td>330000</td>\n",
       "      <td>55.00</td>\n",
       "      <td>6000</td>\n",
       "      <td>36</td>\n",
       "      <td>12</td>\n",
       "      <td>6000.000000</td>\n",
       "    </tr>\n",
       "    <tr>\n",
       "      <th>143</th>\n",
       "      <td>2021-12-17</td>\n",
       "      <td>5</td>\n",
       "      <td>1976</td>\n",
       "      <td>41</td>\n",
       "      <td>WÓLCZYŃSKA</td>\n",
       "      <td>0</td>\n",
       "      <td>1</td>\n",
       "      <td>180000</td>\n",
       "      <td>29.70</td>\n",
       "      <td>6060</td>\n",
       "      <td>45</td>\n",
       "      <td>12</td>\n",
       "      <td>6060.000000</td>\n",
       "    </tr>\n",
       "  </tbody>\n",
       "</table>\n",
       "<p>144 rows × 13 columns</p>\n",
       "</div>"
      ],
      "text/plain": [
       "     data_tran kond  rok_bud  obreb        adres  miej_post  pom_dod    cena  \\\n",
       "0   2021-01-25    2     2019     27  ŻYRARDOWSKA          0        0  403000   \n",
       "1   2021-01-07    1     2000     27     BAŁTYCKA          0        1  295000   \n",
       "2   2021-01-04    2     1950     23   PILECKIEGO          0        1  240000   \n",
       "3   2021-01-08    4     2015     22     BAŁTYCKA          1        0  290000   \n",
       "4   2021-01-08    2     2014     16  NARUTOWICZA          1        0  350000   \n",
       "..         ...  ...      ...    ...          ...        ...      ...     ...   \n",
       "139 2021-12-22    3     2012     33       3 MAJA          1        0  535000   \n",
       "140 2021-12-11    1     2003     34       TELIGI          0        1  285000   \n",
       "141 2021-12-02    1     2000     27     BAŁTYCKA          0        1  200000   \n",
       "142 2021-12-07    3     1985     28   KOŚCIUSZKI          0        1  330000   \n",
       "143 2021-12-17    5     1976     41   WÓLCZYŃSKA          0        1  180000   \n",
       "\n",
       "       pow  unitprice  wiek  month  unitpricebeta  \n",
       "0    56.15       7177     2      1    8964.870444  \n",
       "1    46.95       6283    21      1    7848.165111  \n",
       "2    43.40       5529    71      1    6906.335333  \n",
       "3    44.70       6487     6      1    8102.983778  \n",
       "4    50.46       6936     7      1    8663.834667  \n",
       "..     ...        ...   ...    ...            ...  \n",
       "139  68.50       7810     9     12    7810.000000  \n",
       "140  32.10       8878    18     12    8878.000000  \n",
       "141  28.67       6975    21     12    6975.000000  \n",
       "142  55.00       6000    36     12    6000.000000  \n",
       "143  29.70       6060    45     12    6060.000000  \n",
       "\n",
       "[144 rows x 13 columns]"
      ]
     },
     "execution_count": 84,
     "metadata": {},
     "output_type": "execute_result"
    }
   ],
   "source": [
    "data"
   ]
  },
  {
   "cell_type": "code",
   "execution_count": 17,
   "metadata": {},
   "outputs": [],
   "source": [
    "data['month'] = data['data_tran'].dt.month\n",
    "data3 = data['month'].value_counts().sort_index().reset_index()\n",
    "data3.columns = ['month', 'liczba']\n"
   ]
  },
  {
   "cell_type": "code",
   "execution_count": 88,
   "metadata": {},
   "outputs": [],
   "source": [
    "data3 = filtered_data['month'].value_counts().sort_index().reset_index()\n",
    "data3.columns = ['month', 'liczba']\n"
   ]
  },
  {
   "cell_type": "code",
   "execution_count": 89,
   "metadata": {},
   "outputs": [
    {
     "data": {
      "text/plain": [
       "<Axes: xlabel='month'>"
      ]
     },
     "execution_count": 89,
     "metadata": {},
     "output_type": "execute_result"
    },
    {
     "data": {
      "image/png": "[encoded data removed]",
      "text/plain": [
       "<Figure size 640x480 with 1 Axes>"
      ]
     },
     "metadata": {},
     "output_type": "display_data"
    }
   ],
   "source": [
    "data3.plot(x = 'month', y = 'liczba')"
   ]
  },
  {
   "cell_type": "code",
   "execution_count": 23,
   "metadata": {},
   "outputs": [
    {
     "data": {
      "text/plain": [
       "<Axes: xlabel='data_tran'>"
      ]
     },
     "execution_count": 23,
     "metadata": {},
     "output_type": "execute_result"
    },
    {
     "data": {
      "image/png": "[encoded data removed]",
      "text/plain": [
       "<Figure size 640x480 with 1 Axes>"
      ]
     },
     "metadata": {},
     "output_type": "display_data"
    }
   ],
   "source": [
    "indes.plot()"
   ]
  },
  {
   "cell_type": "code",
   "execution_count": 33,
   "metadata": {},
   "outputs": [
    {
     "data": {
      "text/html": [
       "<div>\n",
       "<style scoped>\n",
       "    .dataframe tbody tr th:only-of-type {\n",
       "        vertical-align: middle;\n",
       "    }\n",
       "\n",
       "    .dataframe tbody tr th {\n",
       "        vertical-align: top;\n",
       "    }\n",
       "\n",
       "    .dataframe thead th {\n",
       "        text-align: right;\n",
       "    }\n",
       "</style>\n",
       "<table border=\"1\" class=\"dataframe\">\n",
       "  <thead>\n",
       "    <tr style=\"text-align: right;\">\n",
       "      <th></th>\n",
       "      <th>unitprice</th>\n",
       "    </tr>\n",
       "    <tr>\n",
       "      <th>data_tran</th>\n",
       "      <th></th>\n",
       "    </tr>\n",
       "  </thead>\n",
       "  <tbody>\n",
       "    <tr>\n",
       "      <th>1</th>\n",
       "      <td>6340.909091</td>\n",
       "    </tr>\n",
       "    <tr>\n",
       "      <th>2</th>\n",
       "      <td>6547.600000</td>\n",
       "    </tr>\n",
       "    <tr>\n",
       "      <th>3</th>\n",
       "      <td>6584.800000</td>\n",
       "    </tr>\n",
       "    <tr>\n",
       "      <th>4</th>\n",
       "      <td>6652.733333</td>\n",
       "    </tr>\n",
       "    <tr>\n",
       "      <th>5</th>\n",
       "      <td>7063.583333</td>\n",
       "    </tr>\n",
       "    <tr>\n",
       "      <th>6</th>\n",
       "      <td>6881.076923</td>\n",
       "    </tr>\n",
       "    <tr>\n",
       "      <th>7</th>\n",
       "      <td>6823.882353</td>\n",
       "    </tr>\n",
       "    <tr>\n",
       "      <th>8</th>\n",
       "      <td>8122.125000</td>\n",
       "    </tr>\n",
       "    <tr>\n",
       "      <th>9</th>\n",
       "      <td>7355.538462</td>\n",
       "    </tr>\n",
       "    <tr>\n",
       "      <th>10</th>\n",
       "      <td>6726.100000</td>\n",
       "    </tr>\n",
       "    <tr>\n",
       "      <th>11</th>\n",
       "      <td>6978.142857</td>\n",
       "    </tr>\n",
       "    <tr>\n",
       "      <th>12</th>\n",
       "      <td>7920.500000</td>\n",
       "    </tr>\n",
       "  </tbody>\n",
       "</table>\n",
       "</div>"
      ],
      "text/plain": [
       "             unitprice\n",
       "data_tran             \n",
       "1          6340.909091\n",
       "2          6547.600000\n",
       "3          6584.800000\n",
       "4          6652.733333\n",
       "5          7063.583333\n",
       "6          6881.076923\n",
       "7          6823.882353\n",
       "8          8122.125000\n",
       "9          7355.538462\n",
       "10         6726.100000\n",
       "11         6978.142857\n",
       "12         7920.500000"
      ]
     },
     "execution_count": 33,
     "metadata": {},
     "output_type": "execute_result"
    }
   ],
   "source": [
    "indes"
   ]
  },
  {
   "cell_type": "code",
   "execution_count": null,
   "metadata": {},
   "outputs": [
    {
     "name": "stdout",
     "output_type": "stream",
     "text": [
      "6340.909090909091\n"
     ]
    }
   ],
   "source": [
    "indes = pd.DataFrame(data2.groupby('data_tran').mean())\n",
    "\n",
    "print(indes['unitprice'][1])\n",
    "\n",
    "data2['unitpricebeta'] = data2['unitprice']"
   ]
  },
  {
   "cell_type": "code",
   "execution_count": 55,
   "metadata": {},
   "outputs": [],
   "source": [
    "index = [0] * 12\n",
    "# indes = pd.DataFrame(index)\n",
    "\n",
    "for i in range(12):\n",
    "    index[i] = indes['unitprice'][i+1] / indes['unitprice'][12] "
   ]
  },
  {
   "cell_type": "code",
   "execution_count": 57,
   "metadata": {},
   "outputs": [
    {
     "name": "stdout",
     "output_type": "stream",
     "text": [
      "[0.8005692937199786, 0.8266649832712581, 0.8313616564610821, 0.8399385560675884, 0.8918102813374577, 0.8687679973583641, 0.8615469166013732, 1.025456094943501, 0.9286709755114528, 0.8492014393030743, 0.881023023438275, 1.0]\n"
     ]
    }
   ],
   "source": [
    "print(index)"
   ]
  },
  {
   "cell_type": "code",
   "execution_count": 56,
   "metadata": {},
   "outputs": [
    {
     "name": "stderr",
     "output_type": "stream",
     "text": [
      "/tmp/ipykernel_3081/629380333.py:4: FutureWarning: ChainedAssignmentError: behaviour will change in pandas 3.0!\n",
      "You are setting values through chained assignment. Currently this works in certain cases, but when using Copy-on-Write (which will become the default behaviour in pandas 3.0) this will never work to update the original DataFrame or Series, because the intermediate object on which we are setting values will behave as a copy.\n",
      "A typical example is when you are setting values in a column of a DataFrame, like:\n",
      "\n",
      "df[\"col\"][row_indexer] = value\n",
      "\n",
      "Use `df.loc[row_indexer, \"col\"] = values` instead, to perform the assignment in a single step and ensure this keeps updating the original `df`.\n",
      "\n",
      "See the caveats in the documentation: https://pandas.pydata.org/pandas-docs/stable/user_guide/indexing.html#returning-a-view-versus-a-copy\n",
      "\n",
      "  data2['unitpricebeta'][i] = data2['unitprice'][i] / index[data2['data_tran'][i]-1]\n",
      "/tmp/ipykernel_3081/629380333.py:4: SettingWithCopyWarning: \n",
      "A value is trying to be set on a copy of a slice from a DataFrame\n",
      "\n",
      "See the caveats in the documentation: https://pandas.pydata.org/pandas-docs/stable/user_guide/indexing.html#returning-a-view-versus-a-copy\n",
      "  data2['unitpricebeta'][i] = data2['unitprice'][i] / index[data2['data_tran'][i]-1]\n",
      "/tmp/ipykernel_3081/629380333.py:4: FutureWarning: Setting an item of incompatible dtype is deprecated and will raise an error in a future version of pandas. Value '8964.870444444445' has dtype incompatible with int64, please explicitly cast to a compatible dtype first.\n",
      "  data2['unitpricebeta'][i] = data2['unitprice'][i] / index[data2['data_tran'][i]-1]\n"
     ]
    }
   ],
   "source": [
    "data2['unitpricebeta'] = data2['unitprice']\n",
    "\n",
    "for i in range(len(data2)):\n",
    "        data2['unitpricebeta'][i] = data2['unitprice'][i] / index[data2['data_tran'][i]-1]\n",
    "     "
   ]
  },
  {
   "cell_type": "code",
   "execution_count": 37,
   "metadata": {},
   "outputs": [
    {
     "data": {
      "text/html": [
       "<div>\n",
       "<style scoped>\n",
       "    .dataframe tbody tr th:only-of-type {\n",
       "        vertical-align: middle;\n",
       "    }\n",
       "\n",
       "    .dataframe tbody tr th {\n",
       "        vertical-align: top;\n",
       "    }\n",
       "\n",
       "    .dataframe thead th {\n",
       "        text-align: right;\n",
       "    }\n",
       "</style>\n",
       "<table border=\"1\" class=\"dataframe\">\n",
       "  <thead>\n",
       "    <tr style=\"text-align: right;\">\n",
       "      <th></th>\n",
       "      <th>data_tran</th>\n",
       "      <th>unitprice</th>\n",
       "      <th>unitpricebeta</th>\n",
       "    </tr>\n",
       "  </thead>\n",
       "  <tbody>\n",
       "    <tr>\n",
       "      <th>0</th>\n",
       "      <td>1</td>\n",
       "      <td>7177</td>\n",
       "      <td>8964.870444</td>\n",
       "    </tr>\n",
       "    <tr>\n",
       "      <th>1</th>\n",
       "      <td>1</td>\n",
       "      <td>6283</td>\n",
       "      <td>7848.165111</td>\n",
       "    </tr>\n",
       "    <tr>\n",
       "      <th>2</th>\n",
       "      <td>1</td>\n",
       "      <td>5529</td>\n",
       "      <td>6906.335333</td>\n",
       "    </tr>\n",
       "    <tr>\n",
       "      <th>3</th>\n",
       "      <td>1</td>\n",
       "      <td>6487</td>\n",
       "      <td>8102.983778</td>\n",
       "    </tr>\n",
       "    <tr>\n",
       "      <th>4</th>\n",
       "      <td>1</td>\n",
       "      <td>6936</td>\n",
       "      <td>8663.834667</td>\n",
       "    </tr>\n",
       "    <tr>\n",
       "      <th>...</th>\n",
       "      <td>...</td>\n",
       "      <td>...</td>\n",
       "      <td>...</td>\n",
       "    </tr>\n",
       "    <tr>\n",
       "      <th>139</th>\n",
       "      <td>12</td>\n",
       "      <td>7810</td>\n",
       "      <td>7810.000000</td>\n",
       "    </tr>\n",
       "    <tr>\n",
       "      <th>140</th>\n",
       "      <td>12</td>\n",
       "      <td>8878</td>\n",
       "      <td>8878.000000</td>\n",
       "    </tr>\n",
       "    <tr>\n",
       "      <th>141</th>\n",
       "      <td>12</td>\n",
       "      <td>6975</td>\n",
       "      <td>6975.000000</td>\n",
       "    </tr>\n",
       "    <tr>\n",
       "      <th>142</th>\n",
       "      <td>12</td>\n",
       "      <td>6000</td>\n",
       "      <td>6000.000000</td>\n",
       "    </tr>\n",
       "    <tr>\n",
       "      <th>143</th>\n",
       "      <td>12</td>\n",
       "      <td>6060</td>\n",
       "      <td>6060.000000</td>\n",
       "    </tr>\n",
       "  </tbody>\n",
       "</table>\n",
       "<p>144 rows × 3 columns</p>\n",
       "</div>"
      ],
      "text/plain": [
       "     data_tran  unitprice  unitpricebeta\n",
       "0            1       7177    8964.870444\n",
       "1            1       6283    7848.165111\n",
       "2            1       5529    6906.335333\n",
       "3            1       6487    8102.983778\n",
       "4            1       6936    8663.834667\n",
       "..         ...        ...            ...\n",
       "139         12       7810    7810.000000\n",
       "140         12       8878    8878.000000\n",
       "141         12       6975    6975.000000\n",
       "142         12       6000    6000.000000\n",
       "143         12       6060    6060.000000\n",
       "\n",
       "[144 rows x 3 columns]"
      ]
     },
     "metadata": {},
     "output_type": "display_data"
    }
   ],
   "source": [
    "display(data2)"
   ]
  },
  {
   "cell_type": "code",
   "execution_count": 38,
   "metadata": {},
   "outputs": [],
   "source": [
    "data2['unitpricebeta'] = [int(x) for x in data2['unitpricebeta']]\n",
    "# index[0]"
   ]
  },
  {
   "cell_type": "code",
   "execution_count": 39,
   "metadata": {},
   "outputs": [],
   "source": [
    "data2['data'] = data['data_tran']"
   ]
  },
  {
   "cell_type": "code",
   "execution_count": 40,
   "metadata": {},
   "outputs": [
    {
     "data": {
      "image/png": "[encoded data removed]",
      "text/plain": [
       "<Figure size 640x480 with 1 Axes>"
      ]
     },
     "metadata": {},
     "output_type": "display_data"
    }
   ],
   "source": [
    "plt.scatter(data2['data'], data2['unitprice'])\n",
    "plt.show()"
   ]
  },
  {
   "cell_type": "code",
   "execution_count": 41,
   "metadata": {},
   "outputs": [
    {
     "data": {
      "image/png": "[encoded data removed]",
      "text/plain": [
       "<Figure size 640x480 with 1 Axes>"
      ]
     },
     "metadata": {},
     "output_type": "display_data"
    }
   ],
   "source": [
    "plt.scatter(data2['data'], data2['unitpricebeta'])\n",
    "plt.show()"
   ]
  },
  {
   "cell_type": "code",
   "execution_count": 42,
   "metadata": {},
   "outputs": [
    {
     "data": {
      "text/plain": [
       "data_tran\n",
       "1     7920.000000\n",
       "2     7920.000000\n",
       "3     7920.066667\n",
       "4     7919.933333\n",
       "5     7919.916667\n",
       "6     7919.923077\n",
       "7     7920.058824\n",
       "8     7920.125000\n",
       "9     7920.000000\n",
       "10    7920.000000\n",
       "11    7919.857143\n",
       "12    7920.500000\n",
       "Name: unitpricebeta, dtype: float64"
      ]
     },
     "execution_count": 42,
     "metadata": {},
     "output_type": "execute_result"
    }
   ],
   "source": [
    "data2.groupby('data_tran').mean()['unitpricebeta']"
   ]
  },
  {
   "cell_type": "code",
   "execution_count": 43,
   "metadata": {},
   "outputs": [],
   "source": [
    "data['unitprice'] = data2['unitpricebeta']"
   ]
  },
  {
   "cell_type": "code",
   "execution_count": 18,
   "metadata": {},
   "outputs": [],
   "source": [
    "pr1 = data['unitprice'][data['miej_post']==1]\n",
    "pr2 = data['unitprice'][data['miej_post']==0]"
   ]
  },
  {
   "cell_type": "code",
   "execution_count": 19,
   "metadata": {},
   "outputs": [
    {
     "data": {
      "text/plain": [
       "8710.05"
      ]
     },
     "execution_count": 19,
     "metadata": {},
     "output_type": "execute_result"
    }
   ],
   "source": [
    "pr1.mean()"
   ]
  },
  {
   "cell_type": "code",
   "execution_count": 20,
   "metadata": {},
   "outputs": [
    {
     "data": {
      "text/plain": [
       "TtestResult(statistic=3.359698103104161, pvalue=0.0010022226827429523, df=142.0)"
      ]
     },
     "execution_count": 20,
     "metadata": {},
     "output_type": "execute_result"
    }
   ],
   "source": [
    "from scipy import stats\n",
    "\n",
    "stats.ttest_ind(pr1, pr2)"
   ]
  },
  {
   "cell_type": "code",
   "execution_count": 21,
   "metadata": {},
   "outputs": [
    {
     "data": {
      "text/plain": [
       "1.9768109936200895"
      ]
     },
     "execution_count": 21,
     "metadata": {},
     "output_type": "execute_result"
    }
   ],
   "source": [
    "import scipy.stats\n",
    "scipy.stats.t.ppf(q=1-.05/2,df=142)"
   ]
  },
  {
   "cell_type": "code",
   "execution_count": 71,
   "metadata": {},
   "outputs": [
    {
     "name": "stdout",
     "output_type": "stream",
     "text": [
      "0.014659709931858847 7919.933587698533\n"
     ]
    },
    {
     "name": "stderr",
     "output_type": "stream",
     "text": [
      "/tmp/ipykernel_4064/2635839658.py:27: FutureWarning: `rcond` parameter will change to the default of machine precision times ``max(M, N)`` where M and N are the input matrix dimensions.\n",
      "To use the future default and silence this warning we advise to pass `rcond=None`, to keep using the old, explicitly pass `rcond=-1`.\n",
      "  m, c = np.linalg.lstsq(A, y)[0]\n"
     ]
    },
    {
     "data": {
      "image/png": "[encoded data removed]",
      "text/plain": [
       "<Figure size 640x480 with 1 Axes>"
      ]
     },
     "metadata": {},
     "output_type": "display_data"
    }
   ],
   "source": [
    "# convert date to month\n",
    "\n",
    "# data2['mc'] = data2['data_tran'].apply(lambda date:date.month)\n",
    "\n",
    "# convert to numpy array to use with polyfit\n",
    "\n",
    "x = np.array(data2['data_tran'])\n",
    "y = np.array(data2['unitpricebeta'])\n",
    "\n",
    "A = np.vstack([x, np.ones(len(x))]).T\n",
    "\n",
    "# WYKRES CEN POSZCZEGÓLNYCH MIESIĄCACH\n",
    "\n",
    "#plt.scatter(data['mc'],data['unitprice'], c=data['unitprice'])\n",
    "\n",
    "# data2.groupby('data_tran').mean()['unitpricebeta'].plot()\n",
    "# plt.suptitle('Trend czasowy')\n",
    "# plt.ylabel('Cena jednostkowa')\n",
    "# plt.xlabel('Miesiąc')\n",
    "\n",
    "#add trend line\n",
    "\n",
    "# z = np.polyfit(x,y,1) #coeff\n",
    "# p = np.poly1d(z)\n",
    "# plt.plot(x,p(x))\n",
    "\n",
    "m, c = np.linalg.lstsq(A, y)[0]\n",
    "\n",
    "print(m, c)\n",
    "\n",
    "import matplotlib.pyplot as plt\n",
    "\n",
    "_ = plt.plot(x, y, 'o', label='Original data', markersize=10)\n",
    "\n",
    "_ = plt.plot(x, m*x + c, 'r', label='Fitted line')\n",
    "\n",
    "_ = plt.legend()\n",
    "\n",
    "plt.show()\n",
    "\n",
    "\n",
    "# check r squared\n",
    "# corrtt = np.corrcoef(x, y)[0,1]\n",
    "# r_qrt_tt = corrtt**2\n",
    "# print (r_qrt_tt)"
   ]
  },
  {
   "cell_type": "code",
   "execution_count": 43,
   "metadata": {},
   "outputs": [
    {
     "data": {
      "text/plain": [
       "(543670.01993058, 487607.0360949122, 47096.71431914255, 0.18821559413312922)"
      ]
     },
     "execution_count": 43,
     "metadata": {},
     "output_type": "execute_result"
    }
   ],
   "source": [
    "import numpy as np\n",
    "\n",
    "# Większy zbiór danych z większą entropią\n",
    "# np.random.seed(56)  # Dla powtarzalności wyników\n",
    "N = 10  # Liczba obserwacji\n",
    "\n",
    "# Generowanie danych\n",
    "binary_variable_large = np.random.choice([0, 1], size=N, p=[0.5, 0.5])  # Zmienna binarna (równy podział 0 i 1)\n",
    "continuous_variable_large = np.random.normal(loc=500000, scale=50000, size=N)  # Ceny mieszkań z większą wariancją\n",
    "\n",
    "continuous_variable_large[binary_variable_large == 1] = continuous_variable_large[binary_variable_large == 1] + 40000\n",
    "\n",
    "# Obliczenie statystyk dla większego zbioru danych\n",
    "X1_mean_large = continuous_variable_large[binary_variable_large == 1].mean()  # Średnia dla grupy 1 (balkon)\n",
    "X0_mean_large = continuous_variable_large[binary_variable_large == 0].mean()  # Średnia dla grupy 0 (brak balkonu)\n",
    "std_dev_large = continuous_variable_large.std()  # Odchylenie standardowe zmiennej ciągłej\n",
    "\n",
    "p_large = binary_variable_large.mean()  # Proporcja grupy z wartością 1\n",
    "q_large = 1 - p_large  # Proporcja grupy z wartością 0\n",
    "\n",
    "# Obliczenie współczynnika punktowo-biserialnego\n",
    "r_pb_large = (X1_mean_large - X0_mean_large) / std_dev_large * np.sqrt(p_large * q_large / N)\n",
    "\n",
    "# Wyniki\n",
    "X1_mean_large, X0_mean_large, std_dev_large, r_pb_large\n"
   ]
  },
  {
   "cell_type": "code",
   "execution_count": 37,
   "metadata": {},
   "outputs": [
    {
     "name": "stdout",
     "output_type": "stream",
     "text": [
      "[540778.45907594 660380.79345397 575212.58199178 468749.82984878\n",
      " 585750.85244294 470737.65012662 569600.9945145  699483.8715243\n",
      " 626779.71459598 593834.43801877 593084.55072948 647674.92583973\n",
      " 654427.45502778 575978.57767339 618789.6866287  540680.47920607\n",
      " 522696.45310244 551965.44775659 580082.49210289 630990.57006841\n",
      " 549324.39471765 556968.2714928  573970.94198271 626697.71326646\n",
      " 603954.76615855 579476.26436696 598647.8826808  461719.81676117\n",
      " 513340.52598346 566580.61127289 557260.731822   622774.25297981\n",
      " 566338.77297337 490077.96592542 633244.56958303 651651.81716831\n",
      " 548287.19741052 529758.08643363 626086.15157418 621787.48337403\n",
      " 668097.3819473  629689.72357282 514700.10219443 621943.36174975\n",
      " 592194.84246414 473340.95565947 516164.30445035 557083.31758817]\n",
      "[560778.45907594 680380.79345397 595212.58199178 488749.82984878\n",
      " 605750.85244294 490737.65012662 589600.9945145  719483.8715243\n",
      " 646779.71459598 613834.43801877 613084.55072948 667674.92583973\n",
      " 674427.45502778 595978.57767339 638789.6866287  560680.47920607\n",
      " 542696.45310244 571965.44775659 600082.49210289 650990.57006841\n",
      " 569324.39471765 576968.2714928  593970.94198271 646697.71326646\n",
      " 623954.76615855 599476.26436696 618647.8826808  481719.81676117\n",
      " 533340.52598346 586580.61127289 577260.731822   642774.25297981\n",
      " 586338.77297337 510077.96592542 653244.56958303 671651.81716831\n",
      " 568287.19741052 549758.08643363 646086.15157418 641787.48337403\n",
      " 688097.3819473  649689.72357282 534700.10219443 641943.36174975\n",
      " 612194.84246414 493340.95565947 536164.30445035 577083.31758817]\n"
     ]
    }
   ],
   "source": [
    "print (continuous_variable_large[binary_variable_large == 1])\n",
    "print(continuous_variable_large[binary_variable_large == 1] + 20000)\n",
    "\n",
    "# continuous_variable_large[binary_variable_large == 1] = continuous_variable_large[binary_variable_large == 1] + 20000\n",
    "# binary_variable_large"
   ]
  },
  {
   "cell_type": "code",
   "execution_count": 44,
   "metadata": {},
   "outputs": [
    {
     "data": {
      "image/png": "[encoded data removed]",
      "text/plain": [
       "<Figure size 1000x600 with 1 Axes>"
      ]
     },
     "metadata": {},
     "output_type": "display_data"
    }
   ],
   "source": [
    "import matplotlib.pyplot as plt\n",
    "\n",
    "# Wizualizacja dla większego zbioru danych\n",
    "plt.figure(figsize=(10, 6))\n",
    "\n",
    "# Rozdzielenie danych na grupy 0 i 1\n",
    "group_0_large = continuous_variable_large[binary_variable_large == 0]\n",
    "group_1_large = continuous_variable_large[binary_variable_large == 1]\n",
    "\n",
    "# Tworzenie wykresu\n",
    "plt.scatter(np.zeros_like(group_0_large), group_0_large, color='red', label='Brak balkonu (0)', s=50, alpha=0.6)\n",
    "plt.scatter(np.ones_like(group_1_large), group_1_large, color='blue', label='Balkon (1)', s=50, alpha=0.6)\n",
    "\n",
    "# Linie średnich\n",
    "plt.axhline(y=X0_mean_large, color='red', linestyle='--', linewidth=1, label=f'Średnia (0): {X0_mean_large:.0f}')\n",
    "plt.axhline(y=X1_mean_large, color='blue', linestyle='--', linewidth=1, label=f'Średnia (1): {X1_mean_large:.0f}')\n",
    "\n",
    "# Ustawienia osi i tytułu\n",
    "plt.xticks([0, 1], ['Brak balkonu (0)', 'Balkon (1)'], fontsize=12)\n",
    "plt.ylabel('Cena mieszkania', fontsize=12)\n",
    "plt.title('Rozkład cen mieszkań w zależności od obecności balkonu (większy zbiór)', fontsize=14)\n",
    "plt.legend(fontsize=10, loc='best')\n",
    "\n",
    "# Pokazanie wykresu\n",
    "plt.grid(alpha=0.3)\n",
    "plt.tight_layout()\n",
    "plt.show()\n"
   ]
  },
  {
   "cell_type": "code",
   "execution_count": 30,
   "metadata": {},
   "outputs": [
    {
     "name": "stdout",
     "output_type": "stream",
     "text": [
      "Wykres zapisano jako cykl_analizy_danych.png\n"
     ]
    },
    {
     "data": {
      "image/png": "[encoded data removed]",
      "text/plain": [
       "<Figure size 800x800 with 1 Axes>"
      ]
     },
     "metadata": {},
     "output_type": "display_data"
    }
   ],
   "source": [
    "import matplotlib.pyplot as plt\n",
    "from matplotlib.patches import FancyArrowPatch, Circle\n",
    "import numpy as np\n",
    "\n",
    "# Funkcja do rysowania strzałek\n",
    "def draw_arrow(ax, start, end, radius=0.08, color=\"black\"):\n",
    "    # Obliczamy wektor przesunięcia w stronę środka okręgu\n",
    "    vector = np.array(end) - np.array(start)\n",
    "    length = np.linalg.norm(vector)\n",
    "    direction = vector / length  # Wektor jednostkowy\n",
    "    start_offset = np.array(start) + direction * radius\n",
    "    end_offset = np.array(end) - direction * radius\n",
    "    arrow = FancyArrowPatch(\n",
    "        start_offset, end_offset, \n",
    "        arrowstyle=\"->\", \n",
    "        color=color, \n",
    "        linewidth=2, \n",
    "        mutation_scale=15\n",
    "    )\n",
    "    ax.add_patch(arrow)\n",
    "\n",
    "# Etapy cyklu analizy danych\n",
    "steps = [\n",
    "    \"Zbieranie danych\",\n",
    "    \"Przygotowanie \\ndanych\",\n",
    "    \"Eksploracyjna \\nanaliza danych\",\n",
    "    \"Modelowanie \\ndanych\",\n",
    "    \"Wnioskowanie \\ni interpretacja\",\n",
    "]\n",
    "\n",
    "# Tworzenie układu kołowego dla pozycji\n",
    "angles = np.linspace(0, 2 * np.pi, len(steps), endpoint=False)\n",
    "positions = [(0.5 + 0.4 * np.cos(angle), 0.5 + 0.4 * np.sin(angle)) for angle in angles]\n",
    "\n",
    "# Tworzenie wykresu\n",
    "fig, ax = plt.subplots(figsize=(8, 8))\n",
    "ax.set_xlim(0, 1)\n",
    "ax.set_ylim(0, 1)\n",
    "ax.axis('off')\n",
    "\n",
    "# Rysowanie etapów\n",
    "for step, pos in zip(steps, positions):\n",
    "    circle = Circle(pos, 0.08, color='lightblue', ec='black', zorder=2)\n",
    "    ax.add_patch(circle)\n",
    "    ax.text(pos[0], pos[1], step, fontsize=8, ha='center', va='center', zorder=3)\n",
    "\n",
    "# Dodawanie strzałek między etapami\n",
    "for i in range(len(positions)):\n",
    "    start = positions[i]\n",
    "    end = positions[(i + 1) % len(positions)]  # Następny etap, cyklicznie\n",
    "    draw_arrow(ax, start, end)\n",
    "\n",
    "# Zapis do pliku\n",
    "output_file = \"cykl_analizy_danych.png\"\n",
    "plt.savefig(output_file, dpi=300, bbox_inches=\"tight\")\n",
    "print(f\"Wykres zapisano jako {output_file}\")\n",
    "plt.show()\n"
   ]
  },
  {
   "cell_type": "code",
   "execution_count": 31,
   "metadata": {},
   "outputs": [
    {
     "name": "stdout",
     "output_type": "stream",
     "text": [
      "Statystyka t: -7.644707871564384\n",
      "Wartość p: 6.046839317164572e-05\n"
     ]
    }
   ],
   "source": [
    "from scipy import stats\n",
    "\n",
    "# Przykładowe dane: ceny dla dwóch grup nieruchomości\n",
    "mala_grupa = [350, 380, 400, 420, 450]\n",
    "duza_grupa = [600, 650, 700, 750, 800]\n",
    "\n",
    "# Test t-Studenta\n",
    "t_stat, p_value = stats.ttest_ind(mala_grupa, duza_grupa)\n",
    "\n",
    "print(f\"Statystyka t: {t_stat}\")\n",
    "print(f\"Wartość p: {p_value}\")\n"
   ]
  },
  {
   "cell_type": "code",
   "execution_count": 1,
   "metadata": {},
   "outputs": [
    {
     "name": "stdout",
     "output_type": "stream",
     "text": [
      "Korelacje i istotność:\n",
      "                      correlation   p_value\n",
      "Metraż                   0.993134  0.000682\n",
      "Liczba pokoi             0.963123  0.008454\n",
      "Odległość od centrum    -1.000000  0.000000\n",
      "\n",
      "Wagi cech (normalizowane):\n",
      "{'Metraż': 0.3359429322080066, 'Liczba pokoi': 0.32579144645930336, 'Odległość od centrum': 0.33826562133269}\n"
     ]
    }
   ],
   "source": [
    "import pandas as pd\n",
    "import numpy as np\n",
    "from scipy.stats import pearsonr\n",
    "\n",
    "# Dane przykładowe: cechy i ceny nieruchomości\n",
    "data = {\n",
    "    \"Cena\": [300000, 320000, 310000, 330000, 350000],\n",
    "    \"Metraż\": [50, 55, 53, 60, 65],\n",
    "    \"Liczba pokoi\": [2, 3, 2, 3, 4],\n",
    "    \"Odległość od centrum\": [10, 8, 9, 7, 5]\n",
    "}\n",
    "\n",
    "# Tworzymy DataFrame\n",
    "df = pd.DataFrame(data)\n",
    "\n",
    "# Lista cech do analizy (bez ceny)\n",
    "features = [\"Metraż\", \"Liczba pokoi\", \"Odległość od centrum\"]\n",
    "\n",
    "# Obliczanie korelacji i wartości p\n",
    "correlations = {}\n",
    "for feature in features:\n",
    "    r, p = pearsonr(df[feature], df[\"Cena\"])\n",
    "    correlations[feature] = {\"correlation\": r, \"p_value\": p}\n",
    "\n",
    "# Filtrujemy tylko istotne korelacje (p < 0.05)\n",
    "significant_features = {\n",
    "    feature: abs(info[\"correlation\"]) for feature, info in correlations.items() if info[\"p_value\"] < 0.05\n",
    "}\n",
    "\n",
    "# Normalizacja wag\n",
    "if significant_features:\n",
    "    total = sum(significant_features.values())\n",
    "    weights = {feature: value / total for feature, value in significant_features.items()}\n",
    "else:\n",
    "    weights = {}\n",
    "\n",
    "# Wyniki\n",
    "print(\"Korelacje i istotność:\")\n",
    "print(pd.DataFrame(correlations).T)\n",
    "\n",
    "print(\"\\nWagi cech (normalizowane):\")\n",
    "print(weights)\n"
   ]
  },
  {
   "cell_type": "code",
   "execution_count": 84,
   "metadata": {},
   "outputs": [
    {
     "data": {
      "text/plain": [
       "obreb\n",
       "12    9065.500000\n",
       "14    7607.500000\n",
       "16    8220.888889\n",
       "21    9131.500000\n",
       "22    9773.333333\n",
       "23    7080.166667\n",
       "24    8516.666667\n",
       "27    7852.230769\n",
       "28    7699.769231\n",
       "29    7854.000000\n",
       "30    7791.750000\n",
       "31    7359.666667\n",
       "32    8980.500000\n",
       "33    7852.444444\n",
       "34    8000.812500\n",
       "41    7729.375000\n",
       "42    7051.000000\n",
       "43    7351.500000\n",
       "44    9375.000000\n",
       "53    9607.000000\n",
       "55    7798.333333\n",
       "60    7698.000000\n",
       "62    7513.000000\n",
       "64    8333.000000\n",
       "Name: unitprice, dtype: float64"
      ]
     },
     "execution_count": 84,
     "metadata": {},
     "output_type": "execute_result"
    }
   ],
   "source": [
    "transaction_counts = flat_data['obreb'].value_counts()\n",
    "\n",
    "transaction_counts\n",
    "\n",
    "# data = data.dropna(subset=['unitprice'])\n",
    "\n",
    "# data['unitprice'] = pd.to_numeric(data['unitprice'], errors='coerce')\n",
    "# print(type(data))\n",
    "\n",
    "\n",
    "# means = pd.DataFrame(data, columns = ['obreb', 'unitprice'])\n",
    "\n",
    "# print(data['unitprice'].to_string())\n",
    "\n",
    "# means['counts'] = means.groupby('obreb')['unitprice'].transform('mean')\n",
    "# data\n",
    "\n",
    "data.groupby(['obreb'])['unitprice'].mean()"
   ]
  },
  {
   "cell_type": "code",
   "execution_count": 125,
   "metadata": {},
   "outputs": [
    {
     "name": "stdout",
     "output_type": "stream",
     "text": [
      "[855, 628]\n"
     ]
    }
   ],
   "source": [
    "from PIL import Image, ImageDraw, ImageFont\n",
    "import pandas as pd\n",
    "\n",
    "# Wczytaj dane\n",
    "flat_data = pd.read_csv('https://jakubmichalak.com.pl/flat.csv', delimiter=\";\", decimal=\",\")\n",
    "\n",
    "# Grupowanie danych według obrębów\n",
    "transaction_counts = flat_data['obreb'].value_counts()\n",
    "# transaction_counts = data.groupby('obreb').mean()['unitprice']\n",
    "\n",
    "# Wczytaj mapę\n",
    "map_path = '/home/jakub/Downloads/obreby_grodzisk.png'\n",
    "# map_path = 'https://jakubmichalak.com.pl/obreby_grodzisk.png'\n",
    "map_image = Image.open(map_path)\n",
    "\n",
    "width = map_image.size[0] \n",
    "height = map_image.size[1] \n",
    "for i in range(0,width):# process all pixels\n",
    "    for j in range(0,height):\n",
    "        data_p = map_image.getpixel((i,j))\n",
    "        if data_p[0] > 249 and data_p[1] < 90 and data_p[2] > 110 :\n",
    "            map_image.putpixel((i,j),(0, 0, 0))\n",
    "        # if data[2] < 50:\n",
    "        #     map_image.putpixel((i,j),(255, 255, 255))\n",
    "        else :\n",
    "            map_image.putpixel((i,j),(255, 255, 255))\n",
    "\n",
    "# map_image.show()\n",
    "\n",
    "\n",
    "\n",
    "draw = ImageDraw.Draw(map_image)\n",
    "\n",
    "# draw.text((40,40), '20', fill='blue')\n",
    "\n",
    "myFont = ImageFont.truetype('calibri-regular.ttf', 14)\n",
    "\n",
    "print (list(map_image.size))\n",
    "\n",
    "# Współrzędne obrębów (należy uzupełnić dla każdego obrębu)\n",
    "coords = {\n",
    "    33: (565, 174),\n",
    "    41: (317, 394),\n",
    "    34: (580, 213),\n",
    "    27: (289, 340),\n",
    "    28: (396, 319),\n",
    "    23: (300, 300),\n",
    "    31: (484, 254),\n",
    "    16: (184, 255),\n",
    "    12: (351, 199),\n",
    "    30: (456, 281),\n",
    "    24: (351, 301),\n",
    "    55: (263, 496),\n",
    "    22: (257, 329),\n",
    "    42: (340, 362),\n",
    "    62: (634, 406),\n",
    "    32: (517, 236),\n",
    "    14: (547, 148),\n",
    "    21: (223, 357),\n",
    "    43: (386, 381),\n",
    "    44: (465, 369),\n",
    "    29: (426, 294),\n",
    "    60: (427, 405),\n",
    "    53: (715, 256),\n",
    "    64: (738, 347),\n",
    "    \n",
    "    # Dodaj współrzędne dla innych obrębów...\n",
    "}\n",
    "\n",
    "rank1 = (253,231,37)\n",
    "rank2 = (173,220,48)\n",
    "rank3 = (94,201,98)\n",
    "rank4 = (40,174,128)\n",
    "rank5 = (33,145,140)\n",
    "rank6 = (44,114,142)\n",
    "rank7 = (59,82,139)\n",
    "rank8 = (71,45,123)\n",
    "rank9 = (68,1,84)\n",
    "\n",
    "viridis = {\n",
    "18:(253,231,37),\n",
    "17:(253,231,37),\n",
    "16:(173,220,48),\n",
    "15:(173,220,48),\n",
    "14:(94,201,98),\n",
    "13:(94,201,98),\n",
    "12:(40,174,128),\n",
    "11:(40,174,128),\n",
    "10:(33,145,140),\n",
    "9:(33,145,140),\n",
    "8:(44,114,142),\n",
    "7:(44,114,142),\n",
    "6:(59,82,139),\n",
    "5:(59,82,139),\n",
    "4:(71,45,123),\n",
    "3:(71,45,123),\n",
    "2:(68,1,84),\n",
    "1:(68,1,84)\n",
    "}\n",
    "\n",
    "# ImageDraw.floodfill(map_image, (528,198), rank1, thresh = 300)\n",
    "# ImageDraw.floodfill(map_image, (204,330), rank1, thresh = 300)\n",
    "\n",
    "# Dodaj liczby transakcji na mapę\n",
    "for obreb, count in transaction_counts.items():\n",
    "    if obreb in coords:\n",
    "        x, y = coords[obreb]\n",
    "        # viridis.get(count)\n",
    "        ImageDraw.floodfill(map_image, (x,y), viridis.get(count), thresh = 25)\n",
    "        # if count < 6:\n",
    "        #     ImageDraw.floodfill(map_image, (x,y), rank4, thresh = 25)\n",
    "        # if count < 10 and count > 5:\n",
    "        #     ImageDraw.floodfill(map_image, (x,y), rank3, thresh = 25)\n",
    "        # if count < 15 and count > 9:\n",
    "        #     ImageDraw.floodfill(map_image, (x,y), rank2, thresh = 25)\n",
    "        # if count > 14:\n",
    "        #     ImageDraw.floodfill(map_image, (x,y), rank1, thresh = 25)\n",
    "           \n",
    "        draw.text((x, y), str(count), font = myFont , fill=(255,255,255), align=\"center\")\n",
    "\n",
    "# Zapisz mapę z naniesionymi danymi\n",
    "output_path = '/home/jakub/Downloads/obreby_grodzisk2.png'\n",
    "map_image.save(output_path)\n",
    "\n",
    "map_image.show()\n"
   ]
  },
  {
   "cell_type": "code",
   "execution_count": 90,
   "metadata": {},
   "outputs": [
    {
     "data": {
      "text/plain": [
       "pandas.core.series.Series"
      ]
     },
     "execution_count": 90,
     "metadata": {},
     "output_type": "execute_result"
    }
   ],
   "source": [
    "type(transaction_means)"
   ]
  },
  {
   "cell_type": "code",
   "execution_count": 22,
   "metadata": {},
   "outputs": [
    {
     "name": "stdout",
     "output_type": "stream",
     "text": [
      "[855, 628]\n"
     ]
    }
   ],
   "source": [
    "from PIL import Image, ImageDraw, ImageFont\n",
    "import pandas as pd\n",
    "\n",
    "# Wczytaj dane\n",
    "flat_data = pd.read_csv('https://jakubmichalak.com.pl/flat.csv', delimiter=\";\", decimal=\",\")\n",
    "\n",
    "# Grupowanie danych według obrębów\n",
    "# transaction_counts = flat_data['obreb'].value_counts()\n",
    "# transaction_counts = means.groupby('obreb').mean()['unitprice']\n",
    "\n",
    "transaction_means = data.groupby(['obreb'])['unitprice'].mean()\n",
    "\n",
    "# Wczytaj mapę\n",
    "map_path = '/home/jakub/Downloads/obreby_grodzisk.png'\n",
    "# map_path = 'https://jakubmichalak.com.pl/obreby_grodzisk.png'\n",
    "map_image = Image.open(map_path)\n",
    "\n",
    "width = map_image.size[0] \n",
    "height = map_image.size[1] \n",
    "for i in range(0,width):# process all pixels\n",
    "    for j in range(0,height):\n",
    "        data_px = map_image.getpixel((i,j))\n",
    "        if data_px[0] > 249 and data_px[1] < 90 and data_px[2] > 110 :\n",
    "            map_image.putpixel((i,j),(0, 0, 0))\n",
    "        # if data[2] < 50:\n",
    "        #     map_image.putpixel((i,j),(255, 255, 255))\n",
    "        else :\n",
    "            map_image.putpixel((i,j),(255, 255, 255))\n",
    "\n",
    "# map_image.show()\n",
    "\n",
    "\n",
    "\n",
    "draw = ImageDraw.Draw(map_image)\n",
    "\n",
    "# draw.text((40,40), '20', fill='blue')\n",
    "\n",
    "myFont = ImageFont.truetype('calibri-regular.ttf', 14)\n",
    "\n",
    "print (list(map_image.size))\n",
    "\n",
    "# Współrzędne obrębów (należy uzupełnić dla każdego obrębu)\n",
    "coords = {\n",
    "    33: (565, 174),\n",
    "    41: (317, 394),\n",
    "    34: (580, 213),\n",
    "    27: (289, 340),\n",
    "    28: (396, 319),\n",
    "    23: (300, 300),\n",
    "    31: (484, 254),\n",
    "    16: (184, 255),\n",
    "    12: (351, 199),\n",
    "    30: (456, 281),\n",
    "    24: (351, 301),\n",
    "    55: (263, 496),\n",
    "    22: (257, 329),\n",
    "    42: (340, 362),\n",
    "    62: (634, 406),\n",
    "    32: (517, 236),\n",
    "    14: (547, 148),\n",
    "    21: (223, 357),\n",
    "    43: (386, 381),\n",
    "    44: (465, 369),\n",
    "    29: (426, 294),\n",
    "    60: (427, 405),\n",
    "    53: (715, 256),\n",
    "    64: (738, 347),\n",
    "    \n",
    "    # Dodaj współrzędne dla innych obrębów...\n",
    "}\n",
    "\n",
    "rank1 = (253,231,37)\n",
    "rank2 = (173,220,48)\n",
    "rank3 = (94,201,98)\n",
    "rank4 = (40,174,128)\n",
    "rank5 = (33,145,140)\n",
    "rank6 = (44,114,142)\n",
    "rank7 = (59,82,139)\n",
    "rank8 = (71,45,123)\n",
    "rank9 = (68,1,84)\n",
    "\n",
    "viridis = {\n",
    "18:(253,231,37),\n",
    "17:(253,231,37),\n",
    "16:(173,220,48),\n",
    "15:(173,220,48),\n",
    "14:(94,201,98),\n",
    "13:(94,201,98),\n",
    "12:(40,174,128),\n",
    "11:(40,174,128),\n",
    "10:(33,145,140),\n",
    "9:(33,145,140),\n",
    "8:(44,114,142),\n",
    "7:(44,114,142),\n",
    "6:(59,82,139),\n",
    "5:(59,82,139),\n",
    "4:(71,45,123),\n",
    "3:(71,45,123),\n",
    "2:(68,1,84),\n",
    "1:(68,1,84)\n",
    "}\n",
    "\n",
    "# ImageDraw.floodfill(map_image, (528,198), rank1, thresh = 300)\n",
    "# ImageDraw.floodfill(map_image, (204,330), rank1, thresh = 300)\n",
    "\n",
    "# Dodaj liczby transakcji na mapę\n",
    "for obreb, unitprice in transaction_means.items():\n",
    "    if obreb in coords:\n",
    "        x, y = coords[obreb]\n",
    "        # viridis.get(count)\n",
    "        # ImageDraw.floodfill(map_image, (x,y), viridis.get(count), thresh = 25)\n",
    "        # if count < 6:\n",
    "        #     ImageDraw.floodfill(map_image, (x,y), rank4, thresh = 25)\n",
    "        # if count < 10 and count > 5:\n",
    "        #     ImageDraw.floodfill(map_image, (x,y), rank3, thresh = 25)\n",
    "        # if count < 15 and count > 9:\n",
    "        #     ImageDraw.floodfill(map_image, (x,y), rank2, thresh = 25)\n",
    "        # if count > 14:\n",
    "        #     ImageDraw.floodfill(map_image, (x,y), rank1, thresh = 25)\n",
    "           \n",
    "        draw.text((x, y), str(unitprice), font = myFont , fill=(255,0,0), align=\"center\")\n",
    "\n",
    "# Zapisz mapę z naniesionymi danymi\n",
    "output_path = '/home/jakub/Downloads/obreby_grodzisk2.png'\n",
    "map_image.save(output_path)\n",
    "\n",
    "map_image.show()\n"
   ]
  },
  {
   "cell_type": "code",
   "execution_count": 44,
   "metadata": {},
   "outputs": [
    {
     "name": "stdout",
     "output_type": "stream",
     "text": [
      "       count         mean  median          std\n",
      "obreb                                         \n",
      "12         8  9065.500000  8933.0   607.762172\n",
      "14         2  7607.500000  7607.5   146.371104\n",
      "16         9  8220.888889  8492.0   866.029076\n",
      "21         2  9131.500000  9131.5   987.828173\n",
      "22         3  9773.333333  9840.0  1639.017185\n",
      "23        12  7080.166667  7204.5   824.700258\n",
      "24         3  8516.666667  8373.0  2849.217846\n",
      "27        13  7852.230769  7848.0  1016.961172\n",
      "28        13  7699.769231  7858.0  1143.552663\n",
      "29         1  7854.000000  7854.0          NaN\n",
      "30         4  7791.750000  7630.0  1059.688751\n",
      "31         9  7359.666667  7307.0   775.948935\n",
      "32         2  8980.500000  8980.5   768.625071\n",
      "33        18  7852.444444  8150.0  1469.313814\n",
      "34        16  8000.812500  7888.0   908.069176\n",
      "41        16  7729.375000  7733.0  1226.062199\n",
      "42         2  7051.000000  7051.0   106.066017\n",
      "43         2  7351.500000  7351.5   426.385389\n",
      "44         1  9375.000000  9375.0          NaN\n",
      "53         1  9607.000000  9607.0          NaN\n",
      "55         3  7798.333333  7902.0   599.263159\n",
      "60         1  7698.000000  7698.0          NaN\n",
      "62         2  7513.000000  7513.0   427.092496\n",
      "64         1  8333.000000  8333.0          NaN\n"
     ]
    }
   ],
   "source": [
    "transaction_means = data.groupby(['obreb'])['unitprice'].agg(['count','mean','median', 'std'])\n",
    "\n",
    "print(transaction_means)"
   ]
  },
  {
   "cell_type": "code",
   "execution_count": 45,
   "metadata": {},
   "outputs": [
    {
     "name": "stdout",
     "output_type": "stream",
     "text": [
      "       count       mean  median        std\n",
      "obreb                                     \n",
      "12         8   7.000000     7.0   0.000000\n",
      "14         2  17.000000    17.0   5.656854\n",
      "16         9   9.333333    10.0   2.345208\n",
      "21         2  18.000000    18.0   0.000000\n",
      "22         3   6.000000     6.0   0.000000\n",
      "23        12  39.583333    45.0  18.436418\n",
      "24         3  25.000000     8.0  32.969683\n",
      "27        13  15.846154    15.0  18.600386\n",
      "28        13  44.000000    46.0   3.651484\n",
      "29         1  13.000000    13.0        NaN\n",
      "30         4  42.250000    36.0  12.500000\n",
      "31         9  38.444444    38.0   0.726483\n",
      "32         2   5.000000     5.0   0.000000\n",
      "33        18  16.555556    11.0  12.533354\n",
      "34        16  17.687500    15.5   4.908751\n",
      "41        16  48.187500    54.5  19.745780\n",
      "42         2  53.500000    53.5   0.707107\n",
      "43         2  26.500000    26.5  23.334524\n",
      "44         1   4.000000     4.0        NaN\n",
      "53         1   7.000000     7.0        NaN\n",
      "55         3   3.000000     3.0   0.000000\n",
      "60         1  42.000000    42.0        NaN\n",
      "62         2  18.000000    18.0   0.000000\n",
      "64         1  46.000000    46.0        NaN\n"
     ]
    }
   ],
   "source": [
    "transaction_means = data.groupby(['obreb'])['wiek'].agg(['count','mean','median', 'std'])\n",
    "\n",
    "print(transaction_means)"
   ]
  },
  {
   "cell_type": "code",
   "execution_count": null,
   "metadata": {},
   "outputs": [
    {
     "name": "stdout",
     "output_type": "stream",
     "text": [
      "     data_tran kond  rok_bud  obreb        adres  miej_post  pom_dod    cena  \\\n",
      "4   2021-01-08    2     2014     16  NARUTOWICZA          1        0  350000   \n",
      "23  2021-03-23    3     2011     16  NARUTOWICZA          0        0  220000   \n",
      "24  2021-03-11    3     2011     16  NARUTOWICZA          0        0  305000   \n",
      "81  2021-07-07    2     2014     16  NARUTOWICZA          0        0  180000   \n",
      "90  2021-07-07    1     2014     16  NARUTOWICZA          0        0  206000   \n",
      "130 2021-11-12    4     2014     16  NARUTOWICZA          1        1  373000   \n",
      "\n",
      "       pow  unitprice  wiek  \n",
      "4    50.46       8663     7  \n",
      "23   29.40       8999    10  \n",
      "24   43.20       8492    10  \n",
      "81   32.72       6385     7  \n",
      "90   26.16       9139     7  \n",
      "130  50.96       8307     7  \n"
     ]
    }
   ],
   "source": [
    "# outlier na narutowicza\n",
    "\n",
    "print(data[(data['obreb'] == 16 ) & (data['adres'] == 'NARUTOWICZA') ])"
   ]
  },
  {
   "cell_type": "code",
   "execution_count": 41,
   "metadata": {},
   "outputs": [
    {
     "name": "stdout",
     "output_type": "stream",
     "text": [
      "    data_tran kond  rok_bud  obreb     adres  miej_post  pom_dod    cena  \\\n",
      "3  2021-01-08    4     2015     22  BAŁTYCKA          1        0  290000   \n",
      "32 2021-02-19    3     2015     22  BAŁTYCKA          1        0  420000   \n",
      "82 2021-07-19    4     2015     22  BAŁTYCKA          1        0  415000   \n",
      "\n",
      "      pow  unitprice  wiek  \n",
      "3   44.70       8102     6  \n",
      "32  44.65      11378     6  \n",
      "82  48.95       9840     6  \n"
     ]
    }
   ],
   "source": [
    "print(data[(data['obreb'] == 22 )])"
   ]
  },
  {
   "cell_type": "code",
   "execution_count": 49,
   "metadata": {},
   "outputs": [],
   "source": [
    "data['wiek'] = 2021 - data['rok_bud']  "
   ]
  },
  {
   "cell_type": "code",
   "execution_count": 48,
   "metadata": {},
   "outputs": [
    {
     "name": "stdout",
     "output_type": "stream",
     "text": [
      "    data_tran kond  rok_bud  obreb         adres  miej_post  pom_dod    cena  \\\n",
      "32 2021-02-19    3     2015     22      BAŁTYCKA          1        0  420000   \n",
      "38 2021-02-24    1     1970     41        SADOWA          0        1  437000   \n",
      "48 2021-04-28    3     2013     24  11 LISTOPADA          0        0  292000   \n",
      "89 2021-07-20    4     2014     12      ŻYDOWSKA          1        0  430000   \n",
      "\n",
      "      pow  unitprice  wiek  \n",
      "32  44.65      11378     6  \n",
      "38  45.56      11602    51  \n",
      "48  30.40      11435     8  \n",
      "89  49.15      10153     7  \n"
     ]
    }
   ],
   "source": [
    "print(data[(data['unitprice'] > 10000 )])"
   ]
  },
  {
   "cell_type": "code",
   "execution_count": 51,
   "metadata": {},
   "outputs": [
    {
     "name": "stdout",
     "output_type": "stream",
     "text": [
      "     data_tran kond  rok_bud  obreb        adres  miej_post  pom_dod    cena  \\\n",
      "136 2021-12-29    1     2014     53  NARUTOWICZA          0        0  335000   \n",
      "137 2021-12-15    4     1975     64     BAŁTYCKA          0        1  275000   \n",
      "138 2021-12-07    5     2018     33       BAIRDA          1        0  500000   \n",
      "139 2021-12-22    3     2012     33       3 MAJA          1        0  535000   \n",
      "140 2021-12-11    1     2003     34       TELIGI          0        1  285000   \n",
      "141 2021-12-02    1     2000     27     BAŁTYCKA          0        1  200000   \n",
      "142 2021-12-07    3     1985     28   KOŚCIUSZKI          0        1  330000   \n",
      "143 2021-12-17    5     1976     41   WÓLCZYŃSKA          0        1  180000   \n",
      "\n",
      "       pow  unitprice  wiek  \n",
      "136  34.87       9607     7  \n",
      "137  33.00       8333    46  \n",
      "138  51.54       9701     3  \n",
      "139  68.50       7810     9  \n",
      "140  32.10       8878    18  \n",
      "141  28.67       6975    21  \n",
      "142  55.00       6000    36  \n",
      "143  29.70       6060    45  \n"
     ]
    }
   ],
   "source": [
    "print(data[data['data_tran'] > '2021-11-30'])"
   ]
  },
  {
   "cell_type": "code",
   "execution_count": 19,
   "metadata": {},
   "outputs": [],
   "source": [
    "viridis = {\n",
    "18:(253,231,37),\n",
    "17:(253,231,37),\n",
    "16:(173,220,48),\n",
    "15:(173,220,48),\n",
    "14:(94,201,98),\n",
    "13:(94,201,98),\n",
    "12:(40,174,128),\n",
    "11:(40,174,128),\n",
    "10:(33,145,140),\n",
    "9:(33,145,140),\n",
    "8:(44,114,142),\n",
    "7:(44,114,142),\n",
    "6:(59,82,139),\n",
    "5:(59,82,139),\n",
    "4:(71,45,123),\n",
    "3:(71,45,123),\n",
    "2:(68,1,84),\n",
    "1:(68,1,84)\n",
    "}"
   ]
  },
  {
   "cell_type": "code",
   "execution_count": 33,
   "metadata": {},
   "outputs": [
    {
     "data": {
      "text/plain": [
       "(68, 1, 84)"
      ]
     },
     "execution_count": 33,
     "metadata": {},
     "output_type": "execute_result"
    }
   ],
   "source": [
    "count = 1\n",
    "\n",
    "viridis.get(count)\n",
    "\n",
    "\n",
    "# for key, value in viridis.items():\n",
    "#     print(key, value)"
   ]
  }
 ],
 "metadata": {
  "kernelspec": {
   "display_name": "Python 3",
   "language": "python",
   "name": "python3"
  },
  "language_info": {
   "codemirror_mode": {
    "name": "ipython",
    "version": 3
   },
   "file_extension": ".py",
   "mimetype": "text/x-python",
   "name": "python",
   "nbconvert_exporter": "python",
   "pygments_lexer": "ipython3",
   "version": "3.10.12"
  }
 },
 "nbformat": 4,
 "nbformat_minor": 2
}
