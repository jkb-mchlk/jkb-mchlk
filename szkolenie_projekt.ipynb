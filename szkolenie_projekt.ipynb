{
 "cells": [
  {
   "cell_type": "code",
   "execution_count": 1,
   "metadata": {},
   "outputs": [],
   "source": [
    "# Load most common libraries\n",
    "\n",
    "import pandas as pd\n",
    "import numpy as np\n",
    "import statistics\n",
    "import matplotlib.pyplot as plt\n",
    "#import gc\n",
    "import seaborn as sns\n"
   ]
  },
  {
   "cell_type": "code",
   "execution_count": 2,
   "metadata": {},
   "outputs": [
    {
     "name": "stdout",
     "output_type": "stream",
     "text": [
      "    data_tran  kond  rok_bud  obreb        adres  miej_post  pom_dod    cena  \\\n",
      "0  2021-01-25     2     2019     27  ŻYRARDOWSKA          0        0  403000   \n",
      "1  2021-01-07     1     2000     27     BAŁTYCKA          0        1  295000   \n",
      "2  2021-01-04     2     1950     23   PILECKIEGO          0        1  240000   \n",
      "3  2021-01-08     4     2015     22     BAŁTYCKA          1        0  290000   \n",
      "4  2021-01-08     2     2014     16  NARUTOWICZA          1        0  350000   \n",
      "\n",
      "     pow  \n",
      "0  56.15  \n",
      "1  46.95  \n",
      "2  43.40  \n",
      "3  44.70  \n",
      "4  50.46  \n"
     ]
    },
    {
     "data": {
      "text/plain": [
       "data_tran     object\n",
       "kond           int64\n",
       "rok_bud        int64\n",
       "obreb          int64\n",
       "adres         object\n",
       "miej_post      int64\n",
       "pom_dod        int64\n",
       "cena           int64\n",
       "pow          float64\n",
       "dtype: object"
      ]
     },
     "execution_count": 2,
     "metadata": {},
     "output_type": "execute_result"
    }
   ],
   "source": [
    "# load data from website\n",
    "data = pd.read_csv('https://jakubmichalak.com.pl/flat.csv', delimiter=\";\", decimal=\",\")\n",
    "\n",
    "# explore data\n",
    "print(data.head())\n",
    "\n",
    "# explore data types\n",
    "data.dtypes"
   ]
  },
  {
   "cell_type": "code",
   "execution_count": 3,
   "metadata": {},
   "outputs": [],
   "source": [
    "# convert string to date\n",
    "data['data_tran'] = pd.to_datetime(data['data_tran'], format='%Y-%m-%d')\n",
    "\n",
    "# convert integer to string\n",
    "data['kond'] = [str(x) for x in data['kond']]"
   ]
  },
  {
   "cell_type": "code",
   "execution_count": 4,
   "metadata": {},
   "outputs": [],
   "source": [
    "# add new target column\n",
    "prices_unit = data['cena'] / data['pow']\n",
    "data['unitprice'] = [int(x) for x in prices_unit]"
   ]
  },
  {
   "cell_type": "code",
   "execution_count": 5,
   "metadata": {},
   "outputs": [
    {
     "name": "stdout",
     "output_type": "stream",
     "text": [
      "     data_tran  unitprice\n",
      "0            1       7177\n",
      "1            1       6283\n",
      "2            1       5529\n",
      "3            1       6487\n",
      "4            1       6936\n",
      "..         ...        ...\n",
      "139         12       7810\n",
      "140         12       8878\n",
      "141         12       6975\n",
      "142         12       6000\n",
      "143         12       6060\n",
      "\n",
      "[144 rows x 2 columns]\n"
     ]
    }
   ],
   "source": [
    "data2 = pd.DataFrame (data['data_tran'].dt.month)\n",
    "data2['unitprice'] = data['unitprice']\n",
    "\n",
    "print(data2)"
   ]
  },
  {
   "cell_type": "code",
   "execution_count": 6,
   "metadata": {},
   "outputs": [],
   "source": [
    "indes = pd.DataFrame(data2.groupby('data_tran').mean())"
   ]
  },
  {
   "cell_type": "code",
   "execution_count": 15,
   "metadata": {},
   "outputs": [
    {
     "name": "stdout",
     "output_type": "stream",
     "text": [
      "6340.909090909091\n"
     ]
    }
   ],
   "source": [
    "print(indes['unitprice'][1])\n",
    "\n",
    "data2['unitpricebeta'] = data2['unitprice']"
   ]
  },
  {
   "cell_type": "code",
   "execution_count": 8,
   "metadata": {},
   "outputs": [],
   "source": [
    "index = [0] * 12\n",
    "# indes = pd.DataFrame(index)\n",
    "\n",
    "for i in range(12):\n",
    "    index[i] = indes['unitprice'][i+1] / indes['unitprice'][12] "
   ]
  },
  {
   "cell_type": "code",
   "execution_count": 13,
   "metadata": {},
   "outputs": [
    {
     "name": "stdout",
     "output_type": "stream",
     "text": [
      "[0.8005692937199786, 0.8266649832712581, 0.8313616564610821, 0.8399385560675884, 0.8918102813374577, 0.8687679973583641, 0.8615469166013732, 1.025456094943501, 0.9286709755114528, 0.8492014393030743, 0.881023023438275, 1.0]\n"
     ]
    }
   ],
   "source": [
    "print(index)"
   ]
  },
  {
   "cell_type": "code",
   "execution_count": 40,
   "metadata": {},
   "outputs": [
    {
     "name": "stderr",
     "output_type": "stream",
     "text": [
      "/tmp/ipykernel_4064/629380333.py:4: FutureWarning: ChainedAssignmentError: behaviour will change in pandas 3.0!\n",
      "You are setting values through chained assignment. Currently this works in certain cases, but when using Copy-on-Write (which will become the default behaviour in pandas 3.0) this will never work to update the original DataFrame or Series, because the intermediate object on which we are setting values will behave as a copy.\n",
      "A typical example is when you are setting values in a column of a DataFrame, like:\n",
      "\n",
      "df[\"col\"][row_indexer] = value\n",
      "\n",
      "Use `df.loc[row_indexer, \"col\"] = values` instead, to perform the assignment in a single step and ensure this keeps updating the original `df`.\n",
      "\n",
      "See the caveats in the documentation: https://pandas.pydata.org/pandas-docs/stable/user_guide/indexing.html#returning-a-view-versus-a-copy\n",
      "\n",
      "  data2['unitpricebeta'][i] = data2['unitprice'][i] / index[data2['data_tran'][i]-1]\n",
      "/tmp/ipykernel_4064/629380333.py:4: SettingWithCopyWarning: \n",
      "A value is trying to be set on a copy of a slice from a DataFrame\n",
      "\n",
      "See the caveats in the documentation: https://pandas.pydata.org/pandas-docs/stable/user_guide/indexing.html#returning-a-view-versus-a-copy\n",
      "  data2['unitpricebeta'][i] = data2['unitprice'][i] / index[data2['data_tran'][i]-1]\n",
      "/tmp/ipykernel_4064/629380333.py:4: FutureWarning: Setting an item of incompatible dtype is deprecated and will raise an error in a future version of pandas. Value '8964.870444444445' has dtype incompatible with int64, please explicitly cast to a compatible dtype first.\n",
      "  data2['unitpricebeta'][i] = data2['unitprice'][i] / index[data2['data_tran'][i]-1]\n"
     ]
    }
   ],
   "source": [
    "data2['unitpricebeta'] = data2['unitprice']\n",
    "\n",
    "for i in range(len(data2)):\n",
    "        data2['unitpricebeta'][i] = data2['unitprice'][i] / index[data2['data_tran'][i]-1]\n",
    "     "
   ]
  },
  {
   "cell_type": "code",
   "execution_count": 44,
   "metadata": {},
   "outputs": [
    {
     "data": {
      "text/html": [
       "<div>\n",
       "<style scoped>\n",
       "    .dataframe tbody tr th:only-of-type {\n",
       "        vertical-align: middle;\n",
       "    }\n",
       "\n",
       "    .dataframe tbody tr th {\n",
       "        vertical-align: top;\n",
       "    }\n",
       "\n",
       "    .dataframe thead th {\n",
       "        text-align: right;\n",
       "    }\n",
       "</style>\n",
       "<table border=\"1\" class=\"dataframe\">\n",
       "  <thead>\n",
       "    <tr style=\"text-align: right;\">\n",
       "      <th></th>\n",
       "      <th>data_tran</th>\n",
       "      <th>unitprice</th>\n",
       "      <th>unitpricebeta</th>\n",
       "    </tr>\n",
       "  </thead>\n",
       "  <tbody>\n",
       "    <tr>\n",
       "      <th>0</th>\n",
       "      <td>1</td>\n",
       "      <td>7177</td>\n",
       "      <td>8964</td>\n",
       "    </tr>\n",
       "    <tr>\n",
       "      <th>1</th>\n",
       "      <td>1</td>\n",
       "      <td>6283</td>\n",
       "      <td>7848</td>\n",
       "    </tr>\n",
       "    <tr>\n",
       "      <th>2</th>\n",
       "      <td>1</td>\n",
       "      <td>5529</td>\n",
       "      <td>6906</td>\n",
       "    </tr>\n",
       "    <tr>\n",
       "      <th>3</th>\n",
       "      <td>1</td>\n",
       "      <td>6487</td>\n",
       "      <td>8102</td>\n",
       "    </tr>\n",
       "    <tr>\n",
       "      <th>4</th>\n",
       "      <td>1</td>\n",
       "      <td>6936</td>\n",
       "      <td>8663</td>\n",
       "    </tr>\n",
       "    <tr>\n",
       "      <th>...</th>\n",
       "      <td>...</td>\n",
       "      <td>...</td>\n",
       "      <td>...</td>\n",
       "    </tr>\n",
       "    <tr>\n",
       "      <th>139</th>\n",
       "      <td>12</td>\n",
       "      <td>7810</td>\n",
       "      <td>7810</td>\n",
       "    </tr>\n",
       "    <tr>\n",
       "      <th>140</th>\n",
       "      <td>12</td>\n",
       "      <td>8878</td>\n",
       "      <td>8878</td>\n",
       "    </tr>\n",
       "    <tr>\n",
       "      <th>141</th>\n",
       "      <td>12</td>\n",
       "      <td>6975</td>\n",
       "      <td>6975</td>\n",
       "    </tr>\n",
       "    <tr>\n",
       "      <th>142</th>\n",
       "      <td>12</td>\n",
       "      <td>6000</td>\n",
       "      <td>6000</td>\n",
       "    </tr>\n",
       "    <tr>\n",
       "      <th>143</th>\n",
       "      <td>12</td>\n",
       "      <td>6060</td>\n",
       "      <td>6060</td>\n",
       "    </tr>\n",
       "  </tbody>\n",
       "</table>\n",
       "<p>144 rows × 3 columns</p>\n",
       "</div>"
      ],
      "text/plain": [
       "     data_tran  unitprice  unitpricebeta\n",
       "0            1       7177           8964\n",
       "1            1       6283           7848\n",
       "2            1       5529           6906\n",
       "3            1       6487           8102\n",
       "4            1       6936           8663\n",
       "..         ...        ...            ...\n",
       "139         12       7810           7810\n",
       "140         12       8878           8878\n",
       "141         12       6975           6975\n",
       "142         12       6000           6000\n",
       "143         12       6060           6060\n",
       "\n",
       "[144 rows x 3 columns]"
      ]
     },
     "metadata": {},
     "output_type": "display_data"
    }
   ],
   "source": [
    "display(data2)"
   ]
  },
  {
   "cell_type": "code",
   "execution_count": 43,
   "metadata": {},
   "outputs": [],
   "source": [
    "data2['unitpricebeta'] = [int(x) for x in data2['unitpricebeta']]\n",
    "# index[0]"
   ]
  },
  {
   "cell_type": "code",
   "execution_count": 46,
   "metadata": {},
   "outputs": [],
   "source": [
    "data2['data'] = data['data_tran']"
   ]
  },
  {
   "cell_type": "code",
   "execution_count": 49,
   "metadata": {},
   "outputs": [
    {
     "data": {
      "image/png": "[encoded data removed]",
      "text/plain": [
       "<Figure size 640x480 with 1 Axes>"
      ]
     },
     "metadata": {},
     "output_type": "display_data"
    }
   ],
   "source": [
    "plt.scatter(data2['data'], data2['unitprice'])\n",
    "plt.show()"
   ]
  },
  {
   "cell_type": "code",
   "execution_count": 51,
   "metadata": {},
   "outputs": [
    {
     "data": {
      "image/png": "[encoded data removed]",
      "text/plain": [
       "<Figure size 640x480 with 1 Axes>"
      ]
     },
     "metadata": {},
     "output_type": "display_data"
    }
   ],
   "source": [
    "plt.scatter(data2['data'], data2['unitpricebeta'])\n",
    "plt.show()"
   ]
  },
  {
   "cell_type": "code",
   "execution_count": 57,
   "metadata": {},
   "outputs": [
    {
     "data": {
      "text/plain": [
       "data_tran\n",
       "1     7920.000000\n",
       "2     7920.000000\n",
       "3     7920.066667\n",
       "4     7919.933333\n",
       "5     7919.916667\n",
       "6     7919.923077\n",
       "7     7920.058824\n",
       "8     7920.125000\n",
       "9     7920.000000\n",
       "10    7920.000000\n",
       "11    7919.857143\n",
       "12    7920.500000\n",
       "Name: unitpricebeta, dtype: float64"
      ]
     },
     "execution_count": 57,
     "metadata": {},
     "output_type": "execute_result"
    }
   ],
   "source": [
    "data2.groupby('data_tran').mean()['unitpricebeta']"
   ]
  },
  {
   "cell_type": "code",
   "execution_count": 71,
   "metadata": {},
   "outputs": [
    {
     "name": "stdout",
     "output_type": "stream",
     "text": [
      "0.014659709931858847 7919.933587698533\n"
     ]
    },
    {
     "name": "stderr",
     "output_type": "stream",
     "text": [
      "/tmp/ipykernel_4064/2635839658.py:27: FutureWarning: `rcond` parameter will change to the default of machine precision times ``max(M, N)`` where M and N are the input matrix dimensions.\n",
      "To use the future default and silence this warning we advise to pass `rcond=None`, to keep using the old, explicitly pass `rcond=-1`.\n",
      "  m, c = np.linalg.lstsq(A, y)[0]\n"
     ]
    },
    {
     "data": {
      "image/png": "[encoded data removed]",
      "text/plain": [
       "<Figure size 640x480 with 1 Axes>"
      ]
     },
     "metadata": {},
     "output_type": "display_data"
    }
   ],
   "source": [
    "# convert date to month\n",
    "\n",
    "# data2['mc'] = data2['data_tran'].apply(lambda date:date.month)\n",
    "\n",
    "# convert to numpy array to use with polyfit\n",
    "\n",
    "x = np.array(data2['data_tran'])\n",
    "y = np.array(data2['unitpricebeta'])\n",
    "\n",
    "A = np.vstack([x, np.ones(len(x))]).T\n",
    "\n",
    "# WYKRES CEN POSZCZEGÓLNYCH MIESIĄCACH\n",
    "\n",
    "#plt.scatter(data['mc'],data['unitprice'], c=data['unitprice'])\n",
    "\n",
    "# data2.groupby('data_tran').mean()['unitpricebeta'].plot()\n",
    "# plt.suptitle('Trend czasowy')\n",
    "# plt.ylabel('Cena jednostkowa')\n",
    "# plt.xlabel('Miesiąc')\n",
    "\n",
    "#add trend line\n",
    "\n",
    "# z = np.polyfit(x,y,1) #coeff\n",
    "# p = np.poly1d(z)\n",
    "# plt.plot(x,p(x))\n",
    "\n",
    "m, c = np.linalg.lstsq(A, y)[0]\n",
    "\n",
    "print(m, c)\n",
    "\n",
    "import matplotlib.pyplot as plt\n",
    "\n",
    "_ = plt.plot(x, y, 'o', label='Original data', markersize=10)\n",
    "\n",
    "_ = plt.plot(x, m*x + c, 'r', label='Fitted line')\n",
    "\n",
    "_ = plt.legend()\n",
    "\n",
    "plt.show()\n",
    "\n",
    "\n",
    "# check r squared\n",
    "# corrtt = np.corrcoef(x, y)[0,1]\n",
    "# r_qrt_tt = corrtt**2\n",
    "# print (r_qrt_tt)"
   ]
  }
 ],
 "metadata": {
  "kernelspec": {
   "display_name": "Python 3",
   "language": "python",
   "name": "python3"
  },
  "language_info": {
   "codemirror_mode": {
    "name": "ipython",
    "version": 3
   },
   "file_extension": ".py",
   "mimetype": "text/x-python",
   "name": "python",
   "nbconvert_exporter": "python",
   "pygments_lexer": "ipython3",
   "version": "3.10.12"
  }
 },
 "nbformat": 4,
 "nbformat_minor": 2
}
