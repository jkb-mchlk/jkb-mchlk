{
 "cells": [
  {
   "cell_type": "code",
   "execution_count": null,
   "metadata": {},
   "outputs": [],
   "source": [
    "import numpy as np\n",
    "\n",
    "aslist = [1,2,3]\n",
    "asArray = np.array([1,2,3])\n",
    "rowVec = np.array ( [ [1,2,3] ] )\n",
    "colVec = np.array ( [ [1], [2], [3] ])\n",
    "                   \n",
    "print (f\"asList: {np.shape(aslist)}\")\n",
    "print (f\"asArray: {asArray.shape}\")\n",
    "print (f\"rowVec: {rowVec.shape}\")\n",
    "print (f\"colVec: {colVec.shape}\")\n"
   ]
  },
  {
   "cell_type": "code",
   "execution_count": null,
   "metadata": {},
   "outputs": [],
   "source": [
    "v = np.array([4,5,6])\n",
    "w = np.array([10,20,30])\n",
    "u = np.array([0,3,6,9])\n",
    "\n",
    "vPlusW = v + w\n",
    "# uplusW = u + w\n",
    "\n",
    "print (vPlusW)"
   ]
  },
  {
   "cell_type": "code",
   "execution_count": null,
   "metadata": {},
   "outputs": [],
   "source": [
    "v = np.array([[4,5,6]])\n",
    "w = np.array([[10,20,30]])\n",
    "\n",
    "x = w.T\n",
    "\n",
    "print(v)\n",
    "\n",
    "print (x)\n",
    "\n",
    "print (v + x)"
   ]
  },
  {
   "cell_type": "code",
   "execution_count": null,
   "metadata": {},
   "outputs": [],
   "source": [
    "v = np.array([[1,2]])\n",
    "w = np.array([[4,-6]])\n",
    "\n",
    "y = v - w\n",
    "\n",
    "print(y)"
   ]
  },
  {
   "cell_type": "code",
   "execution_count": null,
   "metadata": {},
   "outputs": [],
   "source": [
    "s = 2\n",
    "\n",
    "a = [2,3,4]\n",
    "\n",
    "b = np.array(a)\n",
    "\n",
    "\n",
    "print(a * s)\n",
    "\n",
    "print(b * s)\n",
    "\n"
   ]
  },
  {
   "cell_type": "code",
   "execution_count": null,
   "metadata": {},
   "outputs": [],
   "source": [
    "v = np.array([[1,2,3,7,8,9]])\n",
    "v.shape\n",
    "v_dim = len(v)\n",
    "print(v_dim)\n",
    "v_mag = np.linalg.norm(v)\n",
    "print(v_mag)"
   ]
  },
  {
   "cell_type": "code",
   "execution_count": null,
   "metadata": {},
   "outputs": [],
   "source": [
    "lista = [1,2,3,7,8,9]\n",
    "\n",
    "import math\n",
    "\n",
    "cor = 0\n",
    "\n",
    "for x in range ( 0, len(lista)):\n",
    "    smx = lista[x] * lista[x]\n",
    "    cor += smx\n",
    "\n",
    "print (cor)\n",
    "\n",
    "print (math.sqrt(cor))\n",
    "    \n",
    "        "
   ]
  },
  {
   "cell_type": "code",
   "execution_count": null,
   "metadata": {},
   "outputs": [],
   "source": [
    "import numpy as np\n",
    "\n",
    "v = np.array([1,2,3,4])\n",
    "w = np.array([5,6,7,8])\n",
    "\n",
    "np.dot(v,w)"
   ]
  },
  {
   "cell_type": "code",
   "execution_count": null,
   "metadata": {},
   "outputs": [],
   "source": [
    "import matplotlib.pyplot as plt\n",
    "\n",
    "# definiowanie wektorów\n",
    "v = np.array([1,2])\n",
    "w = np.array([4,-6])\n",
    "vPlusW = v+w\n",
    "\n",
    "\n",
    "# wykreślanie\n",
    "plt.figure(figsize=(6,6))\n",
    "\n",
    "a1 = plt.arrow(0,0,v[0],v[1],head_width=.3,width=.1,color='k',length_includes_head=True)\n",
    "a2 = plt.arrow(v[0],v[1],w[0],w[1],head_width=.3,width=.1,color=[.5,.5,.5],length_includes_head=True)\n",
    "a3 = plt.arrow(0,0,vPlusW[0],vPlusW[1],head_width=.3,width=.1,color=[.8,.8,.8],length_includes_head=True)\n",
    "\n",
    "\n",
    "# poprawa wyglądu\n",
    "plt.grid(linestyle='--',linewidth=.5)\n",
    "plt.axis('square')\n",
    "plt.axis([-6,6,-6,6])\n",
    "plt.legend([a1,a2,a3],['v','w','v+w'])\n",
    "plt.title('Wektory $\\mathbf{v}$, $\\mathbf{w}$ i $\\mathbf{v+w}$')\n",
    "plt.savefig('rys2.2a.png',dpi=300) # zapis rysunku do pliku\n",
    "plt.show()\n",
    "\n",
    "# # różnica wektorów\n",
    "# vMinusW = v-w\n",
    "\n",
    "\n",
    "# # wykreślanie\n",
    "# plt.figure(figsize=(6,6))\n",
    "\n",
    "# a1 = plt.arrow(0,0,v[0],v[1],head_width=.3,width=.1,color='k',length_includes_head=True)\n",
    "# a2 = plt.arrow(0,0,w[0],w[1],head_width=.3,width=.1,color=[.5,.5,.5],length_includes_head=True)\n",
    "# a3 = plt.arrow(w[0],w[1],vMinusW[0],vMinusW[1],head_width=.3,width=.1,color=[.8,.8,.8],length_includes_head=True)\n",
    "\n",
    "\n",
    "# # poprawa wyglądu\n",
    "# plt.grid(linestyle='--',linewidth=.5)\n",
    "# plt.axis('square')\n",
    "# plt.axis([-6,6,-6,6])\n",
    "# plt.legend([a1,a2,a3],['v','w','v-w'])\n",
    "# plt.title('Wektory $\\mathbf{v}$, $\\mathbf{w}$ i $\\mathbf{v-w}$')\n",
    "# plt.savefig('rys2.2b.png',dpi=300)\n",
    "# plt.show()"
   ]
  },
  {
   "cell_type": "code",
   "execution_count": null,
   "metadata": {},
   "outputs": [],
   "source": [
    "#cwiczenie 2.2\n",
    "\n",
    "import math\n",
    "import numpy as np\n",
    "\n",
    "lista = [[1,2,3],[7,8,9]]\n",
    "\n",
    "a = np.array(lista)\n",
    "\n",
    "# a.shape\n",
    "b = a * 2 \n",
    "b = np.transpose(a)\n",
    "c = np.array([[1,3],[3,5],[11,9],[9,16]])\n",
    "\n",
    "print (lista)\n",
    "print (a)\n",
    "print (b)\n",
    "\n",
    "\n",
    "def normav(v):\n",
    "    f = v.shape\n",
    "    sum = 0\n",
    "    print (f[1])\n",
    "    print (f[0])\n",
    "    for i in range (0, f[0]):\n",
    "        for j in range (0, f[1]):\n",
    "            sum += v[i,j] * v[i,j]\n",
    "    \n",
    "    norm = math.sqrt(sum)\n",
    "    \n",
    "    return (norm)\n",
    "            \n",
    "\n",
    "\n",
    "print(normav(c)) \n",
    "print(np.linalg.norm(c))\n",
    "\n"
   ]
  },
  {
   "cell_type": "code",
   "execution_count": null,
   "metadata": {},
   "outputs": [],
   "source": [
    "# cwiczenie 2.3\n",
    "\n",
    "import math\n",
    "import numpy as np\n",
    "\n",
    "lista = [[1,2,3],[7,8,9]]\n",
    "\n",
    "a = np.array(lista)\n",
    "\n",
    "# a.shape\n",
    "b = a * 2 \n",
    "b = np.transpose(a)\n",
    "c = np.array([[1,3],[3,5],[11,9],[9,16]])\n",
    "d = np.array([[0,1],[2,8]])\n",
    "\n",
    "\n",
    "def unit_vec(v):\n",
    "    f = v.shape\n",
    "    sum = 0\n",
    "    print (f[1])\n",
    "    print (f[0])\n",
    "    for i in range (0, f[0]):\n",
    "        for j in range (0, f[1]):\n",
    "            sum += v[i,j] * v[i,j]\n",
    "    \n",
    "    norm = math.sqrt(sum)\n",
    "   \n",
    "    unit_v = v / norm\n",
    "        \n",
    "    return (unit_v)\n",
    "            \n",
    "\n",
    "\n",
    "print(unit_vec(d)) \n",
    "# print(np.linalg.norm(c))\n",
    "\n",
    "def createUnitVector(v):\n",
    "  mu = np.linalg.norm(v)\n",
    "  return v / mu\n",
    "\n",
    "print(unit_vec(d)) \n",
    "# print(np.linalg.norm(c))\n",
    "print(createUnitVector(d))"
   ]
  },
  {
   "cell_type": "code",
   "execution_count": null,
   "metadata": {},
   "outputs": [],
   "source": [
    "import numpy as np\n",
    "\n",
    "v = np.array([1,0,0])\n",
    "n = 4\n",
    "\n",
    "def zwrot(v, n):\n",
    "    d = np.linalg.norm(v)\n",
    "    j = v / d\n",
    "    w = n * j\n",
    "    return w, j\n",
    "\n",
    "print(zwrot(v,n))"
   ]
  },
  {
   "cell_type": "code",
   "execution_count": null,
   "metadata": {},
   "outputs": [],
   "source": [
    "def trans(v):\n",
    "    f = v.shape\n",
    "    sum = 0\n",
    "    print (f[1])\n",
    "    print (f[0])\n",
    "    for i in range (0, f[0]):\n",
    "        for j in range (0, f[1]):\n",
    "            sum += v[i,j] * v[i,j]"
   ]
  },
  {
   "cell_type": "code",
   "execution_count": null,
   "metadata": {},
   "outputs": [],
   "source": [
    "import numpy as np\n",
    "\n",
    "v = np.array([[0,1],[2,8],[2,8]])   \n",
    "   \n",
    "f = v.shape\n",
    "\n",
    "print (f[1])\n",
    "print (f[0])\n",
    "\n",
    "temp = np.zeros(shape = ( f[1], f[0] ), dtype = int)\n",
    "\n",
    "print (f, temp.shape)\n",
    "\n",
    "def trans(v):\n",
    "    f = v.shape\n",
    "    temp = np.zeros(shape = ( f[1], f[0] ), dtype = int)\n",
    "    for i in range (0, f[1]):\n",
    "        for j in range (0, f[0]):\n",
    "            temp[i][j] = v[j][i]\n",
    "    \n",
    "    return temp\n",
    "\n",
    "print(trans(v))\n",
    "print (np.transpose(v))\n"
   ]
  },
  {
   "cell_type": "code",
   "execution_count": null,
   "metadata": {},
   "outputs": [],
   "source": [
    "import math\n",
    "import numpy as np\n",
    "\n",
    "def check(v):\n",
    "    norm = np.linalg.norm(v)\n",
    "    print (round(norm * norm,))\n",
    "    print (np.dot(v,v))\n",
    "    # if norm * norm == v * v:\n",
    "    #     print (f'Zagdza sie {norm} rowna sie {v * v}')\n",
    "    # else:\n",
    "    #     print(f'mamy problem {norm} nie rowna sie {v * v}')\n",
    "        \n",
    "v = np.array([5,1])  \n",
    " \n",
    "check(v)\n",
    "        "
   ]
  },
  {
   "cell_type": "code",
   "execution_count": 13,
   "metadata": {},
   "outputs": [
    {
     "name": "stdout",
     "output_type": "stream",
     "text": [
      "2\n",
      "2\n",
      "True\n"
     ]
    }
   ],
   "source": [
    "import numpy as np\n",
    "\n",
    "v = np.array([1,1])  \n",
    "w = np.array([1,1])  \n",
    "\n",
    "print (np.dot(v,w))\n",
    "print (np.dot(w,v))\n",
    "print (np.dot(w.T,v) == np.dot(v.T,w) )\n"
   ]
  },
  {
   "cell_type": "code",
   "execution_count": null,
   "metadata": {},
   "outputs": [],
   "source": [
    "import matplotlib.pyplot as plt\n",
    "\n",
    "# definiowanie wektorów\n",
    "a = np.array([1,2])\n",
    "b = np.array([1.5,.5])\n",
    "\n",
    "beta = np.dot(a,b) / np.dot(a,a)\n",
    "\n",
    "projvect = b - beta*a\n",
    "\n",
    "\n",
    "# wykreślanie\n",
    "plt.figure(figsize=(4,4))\n",
    "\n",
    "plt.arrow(0,0,a[0],a[1],head_width=.2,width=.02,color='k',length_includes_head=True)\n",
    "plt.arrow(0,0,b[0],b[1],head_width=.2,width=.02,color='k',length_includes_head=True)\n",
    "\n",
    "plt.plot([b[0],beta*a[0]],[b[1],beta*a[1]],'k--')\n",
    "\n",
    "plt.plot(beta*a[0],beta*a[1],'ko',markerfacecolor='w',markersize=13)\n",
    "\n",
    "plt.plot([-1,2.5],[0,0],'--',color='gray',linewidth=.5)\n",
    "plt.plot([0,0],[-1,2.5],'--',color='gray',linewidth=.5)\n",
    "\n",
    "plt.text(a[0]+.1,a[1],'a',fontweight='bold',fontsize=18)\n",
    "plt.text(b[0],b[1]-.3,'b',fontweight='bold',fontsize=18)\n",
    "plt.text(beta*a[0]-.35,beta*a[1],r'$\\beta$',fontweight='bold',fontsize=18)\n",
    "plt.text((b[0]+beta*a[0])/2,(b[1]+beta*a[1])/2+.1,r'(b-$\\beta$a)',fontweight='bold',fontsize=18)\n",
    "\n",
    "plt.axis('square')\n",
    "plt.axis([-1,2.5,-1,2.5])\n",
    "plt.savefig('rys2.6.png', dpi=300)"
   ]
  },
  {
   "cell_type": "code",
   "execution_count": 12,
   "metadata": {},
   "outputs": [
    {
     "name": "stdout",
     "output_type": "stream",
     "text": [
      "[-0.87225204 -0.97526362]\n",
      "[-0.87225204 -0.97526362]\n",
      "8.673617379884035e-19\n"
     ]
    },
    {
     "data": {
      "text/plain": [
       "<matplotlib.legend.Legend at 0x7fa0c2388130>"
      ]
     },
     "execution_count": 12,
     "metadata": {},
     "output_type": "execute_result"
    },
    {
     "data": {
      "text/plain": [
       "<Figure size 600x600 with 0 Axes>"
      ]
     },
     "metadata": {},
     "output_type": "display_data"
    },
    {
     "data": {
      "image/png": "[encoded data removed]",
      "text/plain": [
       "<Figure size 600x600 with 1 Axes>"
      ]
     },
     "metadata": {},
     "output_type": "display_data"
    }
   ],
   "source": [
    "import matplotlib.pyplot as plt\n",
    "\n",
    "t = np.random.randn(2)\n",
    "r = np.random.randn(2)\n",
    "\n",
    "# print(t,r)\n",
    "\n",
    "t_para  = r * ( np.dot(t, r) / np.dot(r, r) )\n",
    "t_perp  = t - t_para  \n",
    "\n",
    "print(t)\n",
    "print( t_para+t_perp )\n",
    "\n",
    "print( np.dot(t_para,t_perp) )\n",
    "\n",
    "plt.figure(figsize=(6,6))\n",
    "\n",
    "plt.figure(figsize=(6,6))\n",
    "\n",
    "plt.plot([0,t[0]],[0,t[1]],color='k',linewidth=3,label=r'$\\mathbf{t}$')\n",
    "plt.plot([0,r[0]],[0,r[1]],color=[.7,.7,.7],linewidth=3,label=r'$\\mathbf{r}$')\n",
    "\n",
    "plt.plot([0,t_para[0]],[0,t_para[1]],'k--',linewidth=3,label=r'$\\mathbf{t}_{\\|}$')\n",
    "plt.plot([0,t_perp[0]],[0,t_perp[1]],'k:',linewidth=3,label=r'$\\mathbf{t}_{\\perp}$')\n",
    "\n",
    "plt.axis('equal')\n",
    "plt.legend()\n"
   ]
  },
  {
   "cell_type": "code",
   "execution_count": null,
   "metadata": {},
   "outputs": [],
   "source": [
    "import numpy as np\n",
    "\n",
    "# skalary\n",
    "l1 = 1\n",
    "l2 = 2\n",
    "l3 = -3\n",
    "\n",
    "# wektory\n",
    "v1 = np.array([4,5,1])\n",
    "v2 = np.array([-4,0,-4])\n",
    "v3 = np.array([1,3,2])\n",
    "\n",
    "skalary = [l1,l2,l3]\n",
    "wektory = [v1,v2,v3]\n",
    "\n",
    "lin = np.zeros(len(v1))\n",
    " \n",
    "for s,v in zip(skalary, wektory):\n",
    "    lin += s * v\n",
    "    \n",
    "lin\n",
    "\n",
    "\n"
   ]
  },
  {
   "cell_type": "code",
   "execution_count": null,
   "metadata": {},
   "outputs": [],
   "source": [
    "import numpy as np\n",
    "import matplotlib.pyplot as plt\n",
    "\n",
    "x = np.array([1,3])\n",
    "\n",
    "zakres = [-4,4]\n",
    "\n",
    "skalary = np.random.uniform(zakres[0], zakres[1], 100)\n",
    "\n",
    "# print(skalary)\n",
    "\n",
    "plt.figure(figsize=(6,6))\n",
    "\n",
    "for s in skalary:\n",
    "    p = x * s\n",
    "    plt.plot(p[0],p[1],'ko')\n",
    "    \n",
    "\n",
    "import plotly.graph_objects as go"
   ]
  },
  {
   "cell_type": "code",
   "execution_count": 11,
   "metadata": {},
   "outputs": [
    {
     "data": {
      "application/vnd.plotly.v1+json": {
       "config": {
        "plotlyServerURL": "https://plot.ly"
       },
       "data": [
        {
         "marker": {
          "color": "black",
          "size": 6
         },
         "mode": "markers",
         "type": "scatter3d",
         "x": [
          1.7152558913723706,
          2.482704987978239,
          -2.671076104006774,
          1.3389775931442203,
          -3.766389487860975,
          1.7326016803133069,
          5.983057319348732,
          4.786483715584436,
          4.79656434630999,
          -0.8799311331258903,
          3.3154215500126583,
          -5.165647458421381,
          3.0998184158606867,
          2.7490278833527357,
          -0.36333836375877304,
          -1.9762028649070298,
          2.14693470785857,
          -4.109988142711861,
          -3.986462124780739,
          -5.624778698799545,
          0.5426214342580886,
          -4.29336806724992,
          -1.6589415270972774,
          -5.51850915992623,
          4.077439248047841,
          -1.9478656524358584,
          -1.4980806918371283,
          -5.993571315148016,
          0.9251882550634853,
          -1.2981367843675882,
          -4.585934713623423,
          -4.862107610247072,
          5.2242741213123,
          3.091300349389656,
          5.650906012022487,
          2.2369061300503135,
          -3.2225803530978583,
          -1.5300834244512491,
          -4.404839108095181,
          -0.8111042277590768,
          -0.5907294799625227,
          1.454037263312193,
          5.708540181147016,
          3.1914138166492863,
          -3.146394849309166,
          -1.8395817819054616,
          5.516230317796495,
          -2.5828371073553384,
          -2.1688433581786817,
          0.3461686167377769,
          -1.6292558106826558,
          -1.1581535850076907,
          -5.509513976885244,
          3.376782336405281,
          -2.328672961739086,
          5.374769254417989,
          0.6639752732251099,
          2.572050803209818,
          -5.056643946168334,
          4.06187529205285,
          5.981510229346139,
          1.4010904254502345,
          -4.1944932337106735,
          -0.16189784236089544,
          -4.880688189787539,
          -3.034637867536869,
          -2.4194237596305124,
          -0.008030503390020982,
          -5.674546216669611,
          5.186400284624174,
          5.439612684550983,
          -1.5009845268260764,
          -3.601833283643519,
          3.084520273962239,
          -3.4820796262729834,
          -2.8171445893366145,
          -5.173869291232801,
          -4.43594360177025,
          -3.8826164753551082,
          -0.6509178963544273,
          5.986412975810286,
          1.2660079804642286,
          0.2559572876737146,
          -4.090784417815765,
          -2.934838207151703,
          -5.480256386015405,
          -4.92033828653954,
          -1.8302662645390848,
          -0.7869138644835645,
          -2.328853866932927,
          -4.012911997332521,
          -2.352367935163744,
          1.0381982237958205,
          -5.733433635513755,
          1.0024658703295604,
          -2.7123548929049806,
          4.620897304522492,
          -4.688823218191292,
          2.772000982528842,
          -1.6147443505262635
         ],
         "y": [
          5.305772462110848,
          8.61360843477005,
          -9.655004142071766,
          9.433554176054653,
          -5.9276762665479215,
          10.824996013684876,
          9.808585001743776,
          15.956806512136719,
          0.6119175862059469,
          -8.400600636486757,
          6.26452305758556,
          -12.795718848511205,
          12.3035695183312,
          3.112690765014791,
          0.7839944404059462,
          3.48329733493977,
          4.634485770259026,
          -9.999759588694863,
          -6.945973828740141,
          -9.78813218190593,
          4.586694608814683,
          -10.397414120542074,
          -2.400460823603189,
          -13.72861647293681,
          7.727766957928435,
          -8.295019918921877,
          -7.913253721095808,
          -15.805259249881006,
          4.368187708666685,
          -6.746391374636349,
          -12.659998869715476,
          -10.519953431690134,
          8.703967444599655,
          -2.1638209765250913,
          5.904177452023575,
          0.8070655125293373,
          0.22436625752222472,
          -3.906349017276511,
          0.41234077500367494,
          -0.2299722673594209,
          -7.131971129831845,
          8.2527885017317,
          11.516003433532935,
          -2.3078443177549115,
          -3.9062939168565,
          -4.120275324123085,
          5.271986392697098,
          -1.4563864935807196,
          -10.977984734524217,
          -5.0870972307257984,
          -3.212592345500102,
          -3.8619327435648962,
          -12.97651059057367,
          -1.3611535401974653,
          -3.007218594979289,
          8.506793151995835,
          1.07942961624292,
          7.57870328229853,
          -7.22826549285279,
          10.025265729679148,
          12.092459148873186,
          9.100031294246063,
          -8.953256966017719,
          -4.8641614032736875,
          -13.643350744700253,
          -10.952803288981686,
          -1.413920423905691,
          -5.401156265399392,
          -8.76504142110109,
          16.58585662070515,
          10.628846311321185,
          0.7612215910051652,
          -6.378253635993067,
          12.986254465277444,
          -0.8612620997212348,
          2.6279472692086205,
          -13.95814124114228,
          -13.207422024672862,
          -3.66779385129375,
          -4.772453921325358,
          7.0705544659492805,
          1.86166369897215,
          5.1678559892982,
          -10.919368530287192,
          -3.790895073342096,
          -16.409040716242494,
          -10.535560767242579,
          -7.852459924155215,
          5.328666980291276,
          -8.003425873707346,
          -9.306309144253227,
          -3.6498979425200444,
          -4.245119243822366,
          -11.850303986497627,
          4.320157125096445,
          3.3872568789600335,
          7.919187353312244,
          -13.322943621302327,
          6.386351994572971,
          -4.508243848222634
         ],
         "z": [
          3.0187646069476877,
          5.303335117465731,
          -6.0935693367294,
          7.648250718529026,
          -0.9058236160666215,
          8.5148604399338,
          1.8311752426121322,
          9.574828224690805,
          -5.783501542207373,
          -7.227359125652237,
          1.8439609909020156,
          -5.908188903949364,
          8.170478297183617,
          -0.5526797461221902,
          1.2684455920843103,
          6.1182344881491435,
          1.771906159780933,
          -4.519775398412381,
          -1.6306909956991555,
          -2.2884272501732013,
          3.8631993631372312,
          -4.672923364208847,
          -0.18853878747348585,
          -6.370604259701837,
          2.291181293864647,
          -5.697865715674066,
          -5.915812798646304,
          -7.813830829683652,
          3.134603368582038,
          -5.015542328812898,
          -6.545419251550912,
          -4.037143284694038,
          1.7382686161832552,
          -6.285554775711299,
          -1.6303638973397412,
          -2.175475994204414,
          4.521140061652702,
          -1.8662377846748455,
          6.285459585797249,
          0.8515000363193481,
          -6.344331823215148,
          6.3140721506487765,
          3.9046165253369134,
          -6.56306273995396,
          0.2888992155557215,
          -1.6674996149158035,
          -2.0829873643648944,
          1.9873963162263983,
          -8.086193590285975,
          -5.548655386376168,
          -1.0402512645898945,
          -2.317727963554642,
          -5.630491954726678,
          -5.86352998873784,
          0.09767868733949214,
          1.3404341461051823,
          0.19412925194277353,
          4.149302211352106,
          -0.4860735646283456,
          4.609432006942015,
          4.117112176411668,
          7.231910726979084,
          -3.360599321070154,
          -4.64829761345916,
          -7.135766491650201,
          -6.906619465599194,
          1.8119779222683254,
          -5.39044892754603,
          -1.1989797988749435,
          9.67065624120625,
          3.3760293985865406,
          2.7625342934399337,
          -1.575809257801708,
          8.873560766661125,
          3.7815107353094097,
          6.384140054990773,
          -7.059648852831879,
          -7.292830555645862,
          1.509028115846394,
          -3.9045633928527876,
          -0.911329501797769,
          0.17365305835317857,
          4.826579605733247,
          -5.464989306532839,
          0.12222253619350809,
          -9.102032201555287,
          -3.9751097185231927,
          -5.412104904769769,
          6.377885466269362,
          -4.898287384463445,
          -3.9557598144765307,
          -0.5134073623017192,
          -5.629383542216793,
          -4.2057258058126195,
          2.9835359646570314,
          7.0037300695000075,
          1.7579909472822561,
          -7.071179330380605,
          2.6903506845345153,
          -2.3552513808542828
         ]
        }
       ],
       "layout": {
        "template": {
         "data": {
          "bar": [
           {
            "error_x": {
             "color": "#2a3f5f"
            },
            "error_y": {
             "color": "#2a3f5f"
            },
            "marker": {
             "line": {
              "color": "#E5ECF6",
              "width": 0.5
             },
             "pattern": {
              "fillmode": "overlay",
              "size": 10,
              "solidity": 0.2
             }
            },
            "type": "bar"
           }
          ],
          "barpolar": [
           {
            "marker": {
             "line": {
              "color": "#E5ECF6",
              "width": 0.5
             },
             "pattern": {
              "fillmode": "overlay",
              "size": 10,
              "solidity": 0.2
             }
            },
            "type": "barpolar"
           }
          ],
          "carpet": [
           {
            "aaxis": {
             "endlinecolor": "#2a3f5f",
             "gridcolor": "white",
             "linecolor": "white",
             "minorgridcolor": "white",
             "startlinecolor": "#2a3f5f"
            },
            "baxis": {
             "endlinecolor": "#2a3f5f",
             "gridcolor": "white",
             "linecolor": "white",
             "minorgridcolor": "white",
             "startlinecolor": "#2a3f5f"
            },
            "type": "carpet"
           }
          ],
          "choropleth": [
           {
            "colorbar": {
             "outlinewidth": 0,
             "ticks": ""
            },
            "type": "choropleth"
           }
          ],
          "contour": [
           {
            "colorbar": {
             "outlinewidth": 0,
             "ticks": ""
            },
            "colorscale": [
             [
              0,
              "#0d0887"
             ],
             [
              0.1111111111111111,
              "#46039f"
             ],
             [
              0.2222222222222222,
              "#7201a8"
             ],
             [
              0.3333333333333333,
              "#9c179e"
             ],
             [
              0.4444444444444444,
              "#bd3786"
             ],
             [
              0.5555555555555556,
              "#d8576b"
             ],
             [
              0.6666666666666666,
              "#ed7953"
             ],
             [
              0.7777777777777778,
              "#fb9f3a"
             ],
             [
              0.8888888888888888,
              "#fdca26"
             ],
             [
              1,
              "#f0f921"
             ]
            ],
            "type": "contour"
           }
          ],
          "contourcarpet": [
           {
            "colorbar": {
             "outlinewidth": 0,
             "ticks": ""
            },
            "type": "contourcarpet"
           }
          ],
          "heatmap": [
           {
            "colorbar": {
             "outlinewidth": 0,
             "ticks": ""
            },
            "colorscale": [
             [
              0,
              "#0d0887"
             ],
             [
              0.1111111111111111,
              "#46039f"
             ],
             [
              0.2222222222222222,
              "#7201a8"
             ],
             [
              0.3333333333333333,
              "#9c179e"
             ],
             [
              0.4444444444444444,
              "#bd3786"
             ],
             [
              0.5555555555555556,
              "#d8576b"
             ],
             [
              0.6666666666666666,
              "#ed7953"
             ],
             [
              0.7777777777777778,
              "#fb9f3a"
             ],
             [
              0.8888888888888888,
              "#fdca26"
             ],
             [
              1,
              "#f0f921"
             ]
            ],
            "type": "heatmap"
           }
          ],
          "heatmapgl": [
           {
            "colorbar": {
             "outlinewidth": 0,
             "ticks": ""
            },
            "colorscale": [
             [
              0,
              "#0d0887"
             ],
             [
              0.1111111111111111,
              "#46039f"
             ],
             [
              0.2222222222222222,
              "#7201a8"
             ],
             [
              0.3333333333333333,
              "#9c179e"
             ],
             [
              0.4444444444444444,
              "#bd3786"
             ],
             [
              0.5555555555555556,
              "#d8576b"
             ],
             [
              0.6666666666666666,
              "#ed7953"
             ],
             [
              0.7777777777777778,
              "#fb9f3a"
             ],
             [
              0.8888888888888888,
              "#fdca26"
             ],
             [
              1,
              "#f0f921"
             ]
            ],
            "type": "heatmapgl"
           }
          ],
          "histogram": [
           {
            "marker": {
             "pattern": {
              "fillmode": "overlay",
              "size": 10,
              "solidity": 0.2
             }
            },
            "type": "histogram"
           }
          ],
          "histogram2d": [
           {
            "colorbar": {
             "outlinewidth": 0,
             "ticks": ""
            },
            "colorscale": [
             [
              0,
              "#0d0887"
             ],
             [
              0.1111111111111111,
              "#46039f"
             ],
             [
              0.2222222222222222,
              "#7201a8"
             ],
             [
              0.3333333333333333,
              "#9c179e"
             ],
             [
              0.4444444444444444,
              "#bd3786"
             ],
             [
              0.5555555555555556,
              "#d8576b"
             ],
             [
              0.6666666666666666,
              "#ed7953"
             ],
             [
              0.7777777777777778,
              "#fb9f3a"
             ],
             [
              0.8888888888888888,
              "#fdca26"
             ],
             [
              1,
              "#f0f921"
             ]
            ],
            "type": "histogram2d"
           }
          ],
          "histogram2dcontour": [
           {
            "colorbar": {
             "outlinewidth": 0,
             "ticks": ""
            },
            "colorscale": [
             [
              0,
              "#0d0887"
             ],
             [
              0.1111111111111111,
              "#46039f"
             ],
             [
              0.2222222222222222,
              "#7201a8"
             ],
             [
              0.3333333333333333,
              "#9c179e"
             ],
             [
              0.4444444444444444,
              "#bd3786"
             ],
             [
              0.5555555555555556,
              "#d8576b"
             ],
             [
              0.6666666666666666,
              "#ed7953"
             ],
             [
              0.7777777777777778,
              "#fb9f3a"
             ],
             [
              0.8888888888888888,
              "#fdca26"
             ],
             [
              1,
              "#f0f921"
             ]
            ],
            "type": "histogram2dcontour"
           }
          ],
          "mesh3d": [
           {
            "colorbar": {
             "outlinewidth": 0,
             "ticks": ""
            },
            "type": "mesh3d"
           }
          ],
          "parcoords": [
           {
            "line": {
             "colorbar": {
              "outlinewidth": 0,
              "ticks": ""
             }
            },
            "type": "parcoords"
           }
          ],
          "pie": [
           {
            "automargin": true,
            "type": "pie"
           }
          ],
          "scatter": [
           {
            "fillpattern": {
             "fillmode": "overlay",
             "size": 10,
             "solidity": 0.2
            },
            "type": "scatter"
           }
          ],
          "scatter3d": [
           {
            "line": {
             "colorbar": {
              "outlinewidth": 0,
              "ticks": ""
             }
            },
            "marker": {
             "colorbar": {
              "outlinewidth": 0,
              "ticks": ""
             }
            },
            "type": "scatter3d"
           }
          ],
          "scattercarpet": [
           {
            "marker": {
             "colorbar": {
              "outlinewidth": 0,
              "ticks": ""
             }
            },
            "type": "scattercarpet"
           }
          ],
          "scattergeo": [
           {
            "marker": {
             "colorbar": {
              "outlinewidth": 0,
              "ticks": ""
             }
            },
            "type": "scattergeo"
           }
          ],
          "scattergl": [
           {
            "marker": {
             "colorbar": {
              "outlinewidth": 0,
              "ticks": ""
             }
            },
            "type": "scattergl"
           }
          ],
          "scattermapbox": [
           {
            "marker": {
             "colorbar": {
              "outlinewidth": 0,
              "ticks": ""
             }
            },
            "type": "scattermapbox"
           }
          ],
          "scatterpolar": [
           {
            "marker": {
             "colorbar": {
              "outlinewidth": 0,
              "ticks": ""
             }
            },
            "type": "scatterpolar"
           }
          ],
          "scatterpolargl": [
           {
            "marker": {
             "colorbar": {
              "outlinewidth": 0,
              "ticks": ""
             }
            },
            "type": "scatterpolargl"
           }
          ],
          "scatterternary": [
           {
            "marker": {
             "colorbar": {
              "outlinewidth": 0,
              "ticks": ""
             }
            },
            "type": "scatterternary"
           }
          ],
          "surface": [
           {
            "colorbar": {
             "outlinewidth": 0,
             "ticks": ""
            },
            "colorscale": [
             [
              0,
              "#0d0887"
             ],
             [
              0.1111111111111111,
              "#46039f"
             ],
             [
              0.2222222222222222,
              "#7201a8"
             ],
             [
              0.3333333333333333,
              "#9c179e"
             ],
             [
              0.4444444444444444,
              "#bd3786"
             ],
             [
              0.5555555555555556,
              "#d8576b"
             ],
             [
              0.6666666666666666,
              "#ed7953"
             ],
             [
              0.7777777777777778,
              "#fb9f3a"
             ],
             [
              0.8888888888888888,
              "#fdca26"
             ],
             [
              1,
              "#f0f921"
             ]
            ],
            "type": "surface"
           }
          ],
          "table": [
           {
            "cells": {
             "fill": {
              "color": "#EBF0F8"
             },
             "line": {
              "color": "white"
             }
            },
            "header": {
             "fill": {
              "color": "#C8D4E3"
             },
             "line": {
              "color": "white"
             }
            },
            "type": "table"
           }
          ]
         },
         "layout": {
          "annotationdefaults": {
           "arrowcolor": "#2a3f5f",
           "arrowhead": 0,
           "arrowwidth": 1
          },
          "autotypenumbers": "strict",
          "coloraxis": {
           "colorbar": {
            "outlinewidth": 0,
            "ticks": ""
           }
          },
          "colorscale": {
           "diverging": [
            [
             0,
             "#8e0152"
            ],
            [
             0.1,
             "#c51b7d"
            ],
            [
             0.2,
             "#de77ae"
            ],
            [
             0.3,
             "#f1b6da"
            ],
            [
             0.4,
             "#fde0ef"
            ],
            [
             0.5,
             "#f7f7f7"
            ],
            [
             0.6,
             "#e6f5d0"
            ],
            [
             0.7,
             "#b8e186"
            ],
            [
             0.8,
             "#7fbc41"
            ],
            [
             0.9,
             "#4d9221"
            ],
            [
             1,
             "#276419"
            ]
           ],
           "sequential": [
            [
             0,
             "#0d0887"
            ],
            [
             0.1111111111111111,
             "#46039f"
            ],
            [
             0.2222222222222222,
             "#7201a8"
            ],
            [
             0.3333333333333333,
             "#9c179e"
            ],
            [
             0.4444444444444444,
             "#bd3786"
            ],
            [
             0.5555555555555556,
             "#d8576b"
            ],
            [
             0.6666666666666666,
             "#ed7953"
            ],
            [
             0.7777777777777778,
             "#fb9f3a"
            ],
            [
             0.8888888888888888,
             "#fdca26"
            ],
            [
             1,
             "#f0f921"
            ]
           ],
           "sequentialminus": [
            [
             0,
             "#0d0887"
            ],
            [
             0.1111111111111111,
             "#46039f"
            ],
            [
             0.2222222222222222,
             "#7201a8"
            ],
            [
             0.3333333333333333,
             "#9c179e"
            ],
            [
             0.4444444444444444,
             "#bd3786"
            ],
            [
             0.5555555555555556,
             "#d8576b"
            ],
            [
             0.6666666666666666,
             "#ed7953"
            ],
            [
             0.7777777777777778,
             "#fb9f3a"
            ],
            [
             0.8888888888888888,
             "#fdca26"
            ],
            [
             1,
             "#f0f921"
            ]
           ]
          },
          "colorway": [
           "#636efa",
           "#EF553B",
           "#00cc96",
           "#ab63fa",
           "#FFA15A",
           "#19d3f3",
           "#FF6692",
           "#B6E880",
           "#FF97FF",
           "#FECB52"
          ],
          "font": {
           "color": "#2a3f5f"
          },
          "geo": {
           "bgcolor": "white",
           "lakecolor": "white",
           "landcolor": "#E5ECF6",
           "showlakes": true,
           "showland": true,
           "subunitcolor": "white"
          },
          "hoverlabel": {
           "align": "left"
          },
          "hovermode": "closest",
          "mapbox": {
           "style": "light"
          },
          "paper_bgcolor": "white",
          "plot_bgcolor": "#E5ECF6",
          "polar": {
           "angularaxis": {
            "gridcolor": "white",
            "linecolor": "white",
            "ticks": ""
           },
           "bgcolor": "#E5ECF6",
           "radialaxis": {
            "gridcolor": "white",
            "linecolor": "white",
            "ticks": ""
           }
          },
          "scene": {
           "xaxis": {
            "backgroundcolor": "#E5ECF6",
            "gridcolor": "white",
            "gridwidth": 2,
            "linecolor": "white",
            "showbackground": true,
            "ticks": "",
            "zerolinecolor": "white"
           },
           "yaxis": {
            "backgroundcolor": "#E5ECF6",
            "gridcolor": "white",
            "gridwidth": 2,
            "linecolor": "white",
            "showbackground": true,
            "ticks": "",
            "zerolinecolor": "white"
           },
           "zaxis": {
            "backgroundcolor": "#E5ECF6",
            "gridcolor": "white",
            "gridwidth": 2,
            "linecolor": "white",
            "showbackground": true,
            "ticks": "",
            "zerolinecolor": "white"
           }
          },
          "shapedefaults": {
           "line": {
            "color": "#2a3f5f"
           }
          },
          "ternary": {
           "aaxis": {
            "gridcolor": "white",
            "linecolor": "white",
            "ticks": ""
           },
           "baxis": {
            "gridcolor": "white",
            "linecolor": "white",
            "ticks": ""
           },
           "bgcolor": "#E5ECF6",
           "caxis": {
            "gridcolor": "white",
            "linecolor": "white",
            "ticks": ""
           }
          },
          "title": {
           "x": 0.05
          },
          "xaxis": {
           "automargin": true,
           "gridcolor": "white",
           "linecolor": "white",
           "ticks": "",
           "title": {
            "standoff": 15
           },
           "zerolinecolor": "white",
           "zerolinewidth": 2
          },
          "yaxis": {
           "automargin": true,
           "gridcolor": "white",
           "linecolor": "white",
           "ticks": "",
           "title": {
            "standoff": 15
           },
           "zerolinecolor": "white",
           "zerolinewidth": 2
          }
         }
        }
       }
      }
     },
     "metadata": {},
     "output_type": "display_data"
    }
   ],
   "source": [
    "import numpy as np\n",
    "import matplotlib.pyplot as plt\n",
    "\n",
    "import plotly.graph_objects as go\n",
    "\n",
    "zakres = [-4,4]\n",
    "\n",
    "# v1 = np.array([ 3,5,1 ])\n",
    "# v2 = np.array([ 0,2,2 ])\n",
    "\n",
    "\n",
    "v1 = np.array([ 1.5,2.5,0.5 ])\n",
    "v2 = np.array([ 0,2,2 ])\n",
    "\n",
    "skalary = np.random.uniform(zakres[0], zakres[1], (100,2))\n",
    "\n",
    "points = np.zeros((100,3))\n",
    "\n",
    "for i in range (len(skalary)):\n",
    "    points[i,:] = v1 * skalary[i,0] + v2*skalary[i,1]\n",
    "    \n",
    "# print(punkty)\n",
    "\n",
    "fig = go.Figure( data=[go.Scatter3d(x=points[:,0], y=points[:,1], z=points[:,2],\n",
    "                                    mode='markers', marker=dict(size=6,color='black') )])\n",
    "\n",
    "# fig = go.Figure(data=[go.Scatter3d(\n",
    "#                 x = punkty[:,0], \n",
    "#                 y = punkty[:,1], \n",
    "#                 z = punkty[:,2],\n",
    "#                 mode='markers'\n",
    "#                 )])\n",
    "\n",
    "fig.show()"
   ]
  },
  {
   "cell_type": "code",
   "execution_count": 10,
   "metadata": {},
   "outputs": [
    {
     "name": "stdout",
     "output_type": "stream",
     "text": [
      "Bez wyśrodkowania (wartości powinny się różnić):\n",
      "[0.1901 0.1923]\n",
      " \n",
      "Dane wyśrodkowane (obie wartości powinny być takie same):\n",
      "[0.1901 0.1901]\n"
     ]
    }
   ],
   "source": [
    "import numpy as np\n",
    "\n",
    "\n",
    "# a = np.array([1,2,3,4,5,6,7,8,9,10])\n",
    "# b = np.array([11,12,13,14,15,16,17,18,19,20])\n",
    "\n",
    "a = np.random.randn(15)\n",
    "b = np.random.randn(15)\n",
    "\n",
    "def korelacja(a,b):\n",
    "    am = a - np.mean(a)\n",
    "    bm = b - np.mean(b)\n",
    "    \n",
    "    licznik = np.dot(am, bm)\n",
    "    mianownik = np.linalg.norm(am) * np.linalg.norm(bm)\n",
    "    cor = licznik / mianownik\n",
    "    \n",
    "    licznik_cos = np.dot(a,b)\n",
    "    mianownik_cos = np.linalg.norm(a) * np.linalg.norm(b)\n",
    "    cos  = licznik_cos / mianownik_cos\n",
    "    \n",
    "    return (cor, cos)\n",
    "        \n",
    "    # print(f'Korelacja Pearsona wynosi {pears_cor}')\n",
    "    \n",
    "    # print(f'Korelacja Cosinusowa wynosi {cos_cor}')\n",
    "    \n",
    "    # print(f'Korelacja wg Corrcoef {np.corrcoef(a,b)[0,1]}')\n",
    "    \n",
    "    \n",
    "    \n",
    "# korelacja(a,b)\n",
    "    \n",
    "\n",
    "#sprawdzam wartości współczynników dla niewyśrodkowanych danych\n",
    "a = np.random.randn(15) + 10 # uwaga na offset!\n",
    "b = np.random.randn(15)\n",
    "\n",
    "# wyśrodkowanie\n",
    "aNoMean = a - np.mean(a)\n",
    "bNoMean = b - np.mean(b)\n",
    "\n",
    "\n",
    "# wyświetlam wyniki\n",
    "print('Bez wyśrodkowania (wartości powinny się różnić):')\n",
    "print( np.round(korelacja(a,b),4) )\n",
    "print(' ')\n",
    "\n",
    "print('Dane wyśrodkowane (obie wartości powinny być takie same):')\n",
    "print( np.round(korelacja(aNoMean,bNoMean),4) )"
   ]
  },
  {
   "cell_type": "code",
   "execution_count": null,
   "metadata": {},
   "outputs": [],
   "source": [
    "print ( np.random.randn(15) + 10 ) # uwaga na offset!\n",
    "print ( np.random.randn(15) )"
   ]
  },
  {
   "cell_type": "code",
   "execution_count": null,
   "metadata": {},
   "outputs": [],
   "source": [
    "import matplotlib.pyplot as plt\n",
    "\n",
    "a = np.arange(4, dtype = float)\n",
    "offsets = np.arange(-50, 51) \n",
    "\n",
    "results = np.zeros((len(offsets),2))\n",
    "\n",
    "for i in range (len(offsets)):\n",
    "    results[i,:] = korelacja(a,a+offsets[i])\n",
    " \n",
    "plt.figure(figsize=(8,4))\n",
    "h = plt.plot(offsets,results)\n",
    "h[0].set_color('k')\n",
    "h[0].set_marker('o')\n",
    "h[1].set_color([.7,.7,.7])\n",
    "h[1].set_marker('s')\n",
    "\n",
    "plt.xlabel('Przesunięcie')\n",
    "plt.ylabel('Wartość wskaźnika')\n",
    "plt.legend(['Korelacja\\nPearsona','Podobieństwo\\ncosinusowe'])\n",
    "plt.savefig('rys4.4.png',dpi=300, bbox_inches='tight')\n",
    "plt.show()\n"
   ]
  },
  {
   "cell_type": "code",
   "execution_count": null,
   "metadata": {},
   "outputs": [],
   "source": [
    "form scipy.stats  import pears\n",
    "\n",
    "??ss.pearsonr"
   ]
  },
  {
   "cell_type": "code",
   "execution_count": null,
   "metadata": {},
   "outputs": [],
   "source": [
    "import time\n",
    "import numpy as np\n",
    "from scipy.stats import pearsonr\n",
    "\n",
    "iters = 1000\n",
    "vals  = 500 \n",
    "\n",
    "def korelacja(a,b):\n",
    "    am = a - np.mean(a)\n",
    "    bm = b - np.mean(b)\n",
    "    \n",
    "    licznik = np.dot(am, bm)\n",
    "    mianownik = np.linalg.norm(am) * np.linalg.norm(bm)\n",
    "    cor = licznik / mianownik\n",
    "    \n",
    "    return (cor)\n",
    "\n",
    "tic = time.time()\n",
    "for i in range(iters):\n",
    "    x = np.random.randn(vals,2)\n",
    "    korelacja (x[:,0], x[:,1])\n",
    "t1 = time.time() - tic\n",
    "\n",
    "\n",
    "\n",
    "tic = time.time()\n",
    "for i in range(iters):\n",
    "    x = np.random.randn(vals,2)\n",
    "    pearsonr (x[:,0], x[:,1])\n",
    "t2 = time.time() - tic\n",
    "\n",
    "print (f'Czas dla mojej funckji to {t1}, natomaist dla obszarpoanej to {t2}')\n"
   ]
  },
  {
   "cell_type": "code",
   "execution_count": null,
   "metadata": {},
   "outputs": [],
   "source": [
    "import numpy as np\n",
    "import math\n",
    "import matplotlib.pyplot as plt\n",
    "\n",
    "a = np.array([3,4])\n",
    "b = np.array([2,6])\n",
    "c = a - b\n",
    "d = a + b\n",
    "\n",
    "print (c,d)\n",
    "\n",
    "print (f'Norma pierwiastka iloczynu skalarnego a {math.sqrt(np.dot(a,a))}')\n",
    "print(f'Norma z linalg a {np.linalg.norm(a)}')\n",
    "print (f'Norma pierwiastka iloczynu skalarnego b {math.sqrt(np.dot(b,b))}')\n",
    "print(f'Norma z linalg b {np.linalg.norm(b)}')\n",
    "print (f'Norma pierwiastka iloczynu skalarnego c {math.sqrt(np.dot(c,c))}')\n",
    "print(f'Norma z linalg c {np.linalg.norm(c)}')\n",
    "print (f'Norma pierwiastka iloczynu skalarnego d {math.sqrt(np.dot(d,d))}')\n",
    "print(f'Norma z linalg d {np.linalg.norm(d)}')\n",
    "\n",
    "vec = np.array([a,b,c,d])\n",
    "\n",
    "print (f'a = {a} b = {b} c = {c} d = {d} ')\n",
    "i = 0\n",
    "while i < 4:\n",
    "    for j in range (0, i):\n",
    "        print (f'Iloczyn skalarny wektora {vec[i,:]} i wektora {vec[j,:]} to {np.dot(vec[i],vec[j])}')\n",
    "    i += 1\n",
    "\n",
    "\n",
    "plt.figure(figsize=(6,6))\n",
    "\n",
    "a1 = plt.arrow(0,0,a[0],a[1],head_width=.2,width=.05,color='k',length_includes_head=True)\n",
    "a2 = plt.arrow(0,0,b[0],b[1],head_width=.2,width=.05,color='r',length_includes_head=True)\n",
    "a3 = plt.arrow(0,0,c[0],c[1],head_width=.2,width=.05,color='b',length_includes_head=True)\n",
    "a4 = plt.arrow(0,0,d[0],d[1],head_width=.2,width=.05,color='g',length_includes_head=True)\n",
    "\n",
    "plt.grid(linestyle='--',linewidth=.5)\n",
    "plt.axis('square')\n",
    "\n",
    "plt.axis([-5,10,-10,15])\n",
    "plt.legend([a1,a2,a3,a4],['a','b','a-b=c','a+b=d'])"
   ]
  },
  {
   "cell_type": "code",
   "execution_count": null,
   "metadata": {},
   "outputs": [],
   "source": [
    "import numpy as np\n",
    "import matplotlib.pyplot as plt\n",
    "\n",
    "kernel = np.array([-1,2])\n",
    "\n",
    "signal = np.zeros(30)\n",
    "\n",
    "signal[10:20] = 1\n",
    "\n",
    "\n",
    "featureMap = np.zeros(len(signal))\n",
    "\n",
    "for t in range(1,len(signal)-1):\n",
    "  featureMap[t] = np.dot(kernel,signal[t-1:t+1])\n",
    "\n",
    "fig, (ax1, ax2,ax3) = plt.subplots(1, 3, figsize=(15,5))\n",
    "plt.axis([-15,15,0,1])\n",
    "ax1.plot(kernel, 'ks-')\n",
    "ax1.set_xlim([-15,15])\n",
    "ax2.plot(signal, 'ks-')\n",
    "ax3.plot(signal, 'ks-')\n",
    "ax3.plot(featureMap)\n",
    "ax3.set_xlim([0,30])\n",
    "ax3.set_ylim([-2,2])\n",
    "\n",
    " \n",
    "  \n"
   ]
  },
  {
   "cell_type": "code",
   "execution_count": null,
   "metadata": {},
   "outputs": [],
   "source": [
    "import numpy as np\n",
    "import matplotlib.pyplot as plt\n",
    "import random\n",
    "\n",
    "kernel = np.array([0,.1,.3,.8,1,.8,.3,.1,0])\n",
    "kernel = kernel / np.sum(kernel)\n",
    "\n",
    "nkernel = len(kernel)\n",
    "halfkrn = nkernel // 2\n",
    "\n",
    "signal = np.random.normal(size=100)\n",
    "\n",
    "featureMap = np.zeros(len(signal))\n",
    "\n",
    "for t in range(halfkrn+1,len(signal) - halfkrn):\n",
    "  featureMap[t] = np.dot(kernel,signal[t-halfkrn-1:t+halfkrn])\n",
    "\n",
    "fig, (ax1, ax2,ax3) = plt.subplots(1, 3, figsize=(15,5))\n",
    "plt.axis([0,10,0,1])\n",
    "ax1.plot(kernel, 'ks-')\n",
    "ax1.set_xlim([-15,15])\n",
    "ax2.plot(signal, 'ks-')\n",
    "# ax3.plot(signal, 'ks-')\n",
    "ax3.plot(featureMap)\n",
    "ax3.set_xlim([0,100])\n",
    "ax3.set_ylim([-5,5])\n"
   ]
  },
  {
   "cell_type": "code",
   "execution_count": null,
   "metadata": {},
   "outputs": [],
   "source": [
    "# tworzenie danych\n",
    "nPerClust = 50\n",
    "\n",
    "# wartość skalująca losowe dane\n",
    "blur = 1\n",
    "\n",
    "# współrzędne centroidów\n",
    "A = [  1, 1 ]\n",
    "B = [ -3, 1 ]\n",
    "C = [  3, 3 ]\n",
    "D = [  1, -2 ]\n",
    "\n",
    "# generowanie danych\n",
    "a = [ A[0]+np.random.randn(nPerClust)*blur , A[1]+np.random.randn(nPerClust)*blur ]\n",
    "b = [ B[0]+np.random.randn(nPerClust)*blur , B[1]+np.random.randn(nPerClust)*blur ]\n",
    "c = [ C[0]+np.random.randn(nPerClust)*blur , C[1]+np.random.randn(nPerClust)*blur ]\n",
    "d = [ D[0]+np.random.randn(nPerClust)*blur , D[1]+np.random.randn(nPerClust)*blur ]\n",
    "\n",
    "# połączenie danych w macierz\n",
    "data = np.transpose( np.concatenate((a,b,c,d),axis=1) )\n",
    "\n",
    "# print(data.shape)\n",
    "\n",
    "k = 4\n",
    "\n",
    "iteration = 11\n",
    "\n",
    "ridx = np.random.choice(range(len(data)),k,replace = False)\n",
    "\n",
    "centroids = data[ridx,:]\n",
    "\n",
    "# print(centroids)\n",
    "\n",
    "fig,axs = plt.subplots(6,2,figsize=(10,10))\n",
    "axs = axs.flatten()\n",
    "lineColors = [ [0,0,0],[.4,.4,.4],[.8,.8,.8],[.9,.9,.9] ]\n",
    "\n",
    "\n",
    "# wykreślanie danych z losowymi centroidami\n",
    "axs[0].plot(data[:,0],data[:,1],'ko',markerfacecolor='w')\n",
    "axs[0].plot(centroids[:,0],centroids[:,1],'ko')\n",
    "axs[0].set_title('Iteracja 0')\n",
    "axs[0].set_xticks([])\n",
    "axs[0].set_yticks([])\n",
    "\n",
    "\n",
    "for iter in range (iteration):\n",
    "\n",
    "    dists = np.zeros((data.shape[0],k))\n",
    "\n",
    "    for ci in range (k):\n",
    "        dists[:,ci] = np.sum((data-centroids[ci,:])**2, axis = 1)\n",
    "\n",
    "    groupidx = np.argmin(dists,axis = 1)\n",
    "\n",
    "# print(groupidx)\n",
    "# print(dists)\n",
    "\n",
    "    for ki in range(k):\n",
    "        centroids[ki,:] = [ np.mean(data[groupidx==ki,0]),\n",
    "                        np.mean(data[groupidx==ki,1]) ]\n",
    "\n",
    "\n",
    "    for i in range(len(data)):\n",
    "        axs[iter+1].plot([ data[i,0],centroids[groupidx[i],0] ],[ data[i,1],centroids[groupidx[i],1] ],color=lineColors[groupidx[i]])\n",
    "        axs[iter+1].plot(centroids[:,0],centroids[:,1],'ko')\n",
    "        axs[iter+1].set_title(f'Iteracja {iter+1}')\n",
    "        axs[iter+1].set_xticks([])\n",
    "        axs[iter+1].set_yticks([])\n",
    "\n",
    "\n",
    "plt.savefig('rys4.3.png',dpi=300)\n",
    "plt.show()\n"
   ]
  },
  {
   "cell_type": "code",
   "execution_count": null,
   "metadata": {},
   "outputs": [],
   "source": [
    "import random\n",
    "import numpy as np\n",
    "\n",
    "A = np.arange(60).reshape(6,10)\n",
    "\n",
    "B = np.random.randn(4,4)\n",
    "\n",
    "print(B)\n"
   ]
  },
  {
   "cell_type": "code",
   "execution_count": null,
   "metadata": {},
   "outputs": [],
   "source": [
    "x = np.array([[4,3]]).T\n",
    "y = np.array([[3,0,6],[1,2,5]]).T\n",
    "\n",
    "print(y@x)"
   ]
  },
  {
   "cell_type": "code",
   "execution_count": null,
   "metadata": {},
   "outputs": [],
   "source": [
    "y = np.array([[3,0,6],[1,2,5],[5,6,7],[1,8,7]])\n",
    "x = np.transpose(y)\n",
    "\n",
    "print(y.shape,x.shape)\n",
    "print(x,y)\n",
    "# print(y.shape)\n",
    "\n",
    "print(y@x)"
   ]
  },
  {
   "cell_type": "code",
   "execution_count": null,
   "metadata": {},
   "outputs": [],
   "source": [
    "#5.1\n",
    "\n",
    "import numpy as np\n",
    "\n",
    "A = np.arange(12).reshape(3,4)\n",
    "\n",
    "print (A)\n",
    "print(A[1:2,3:4])"
   ]
  },
  {
   "cell_type": "code",
   "execution_count": null,
   "metadata": {},
   "outputs": [],
   "source": [
    "# 5.2\n",
    "\n",
    "import numpy as np\n",
    "import matplotlib.pyplot as plt\n",
    "\n",
    "A = np.arange(100).reshape(10,10)\n",
    "\n",
    "print(A)\n",
    "\n",
    "A1 = A[0:5:1, 0:5:1]\n",
    "A2 = A[5:11:1, 5:11:1]\n",
    "A3 = A[5:11:1, 0:5:1]\n",
    "A4 =A [0:5:1, 5:11:1]\n",
    "\n",
    "B1 = np.concatenate([A2,A3], axis = 1 )\n",
    "B2 = np.concatenate([A4,A1], axis = 1 )\n",
    "B =  np.concatenate([B1,B2], axis = 0 )\n",
    "print(B)"
   ]
  },
  {
   "cell_type": "code",
   "execution_count": null,
   "metadata": {},
   "outputs": [],
   "source": [
    "import numpy as np\n",
    "\n",
    "x = np.random.randn(3,4)\n",
    "y = np.random.randn(3,4)\n",
    "s = np.random.randn(1)\n",
    "\n",
    "s1 = s * (x + y)\n",
    "s2 = s * x + s * y\n",
    "s3 = x * s + y * s\n",
    "\n",
    "print(s1)\n",
    "print()\n",
    "print(s2)\n",
    "print()\n",
    "print(s3)\n",
    "\n",
    "# conditions = [s1 == s2 == s3]\n",
    "\n",
    "# result = np.array_equal(s1,s2,s3)\n",
    "\n",
    "if np.allclose(s1,s2) and np.allclose(s2,s3):\n",
    "    print()    \n",
    "    print(f'Macierze sa rowne')\n",
    "else:\n",
    "    print('Nie są rowne')\n",
    "\n"
   ]
  },
  {
   "cell_type": "code",
   "execution_count": null,
   "metadata": {},
   "outputs": [],
   "source": [
    "import numpy as np\n",
    "\n",
    "x = np.random.randn(8,4)\n",
    "y = np.random.randn(8,4).T\n",
    "\n",
    "print (x @ y)\n",
    "\n",
    "def mnozenie(a,b):\n",
    "    \n",
    "    if a.shape[1] != b.shape[0]:\n",
    "        print('Bad MxN shape')\n",
    "    \n",
    "    wynikowa = np.zeros(shape = (a.shape[0], b.shape[1]))    \n",
    "\n",
    "    for i in range (0, a.shape[0]): #3\n",
    "        for j in range (0, a.shape[0]): #4\n",
    "            wynikowa[i,j] = sum (x[i,:] * y[:,j])\n",
    "    \n",
    "    return wynikowa\n",
    "    \n",
    "wynik1 = mnozenie (x,y)\n",
    "wynik2 = x @ y\n",
    " \n",
    "if np.allclose(wynik1,wynik2):\n",
    "    print ('jest ok')\n",
    "else:\n",
    "    print('zly wynik')  "
   ]
  },
  {
   "cell_type": "code",
   "execution_count": null,
   "metadata": {},
   "outputs": [],
   "source": [
    "import numpy as np\n",
    "\n",
    "L = np.random.randn(2,6)\n",
    "I = np.random.randn(6,3)\n",
    "V = np.random.randn(3,5)\n",
    "E = np.random.randn(5,2)\n",
    "\n",
    "\n",
    "A = np.transpose(L@I@V@E)\n",
    "L = L.T\n",
    "I = I.T\n",
    "V = V.T\n",
    "E = E.T\n",
    "B = E @ V @ I @ L\n",
    "\n",
    "if np.allclose(A,B):\n",
    "    print ('zgodne') "
   ]
  },
  {
   "cell_type": "code",
   "execution_count": null,
   "metadata": {},
   "outputs": [],
   "source": [
    "A = np.random.randn(4,5)\n",
    "B = A.T @ A\n",
    "\n",
    "print(B)\n",
    "\n",
    "def czy_symetryczna(x):\n",
    "    \n",
    "    if x.shape[0] != x.shape[1]:\n",
    "        raise Exception ('Array is nonquadratic')\n",
    "   \n",
    "    if np.allclose (x, x.T):\n",
    "        return True\n",
    "    else:\n",
    "        return False\n",
    "        \n",
    "\n",
    "print (czy_symetryczna(B))\n",
    "\n",
    "    "
   ]
  },
  {
   "cell_type": "code",
   "execution_count": null,
   "metadata": {},
   "outputs": [],
   "source": [
    "A = np.arange(9).reshape(3,3)\n",
    "\n",
    "X = ( A + A.T ) / 2\n",
    "\n",
    "czy_symetryczna(X)"
   ]
  },
  {
   "cell_type": "code",
   "execution_count": 1,
   "metadata": {},
   "outputs": [
    {
     "name": "stdout",
     "output_type": "stream",
     "text": [
      "[[0 3]\n",
      " [2 5]\n",
      " [2 1]]\n",
      "[3.74294391 2.5895229 ]\n"
     ]
    },
    {
     "data": {
      "application/vnd.plotly.v1+json": {
       "config": {
        "plotlyServerURL": "https://plot.ly"
       },
       "data": [
        {
         "marker": {
          "color": "black",
          "size": 6
         },
         "mode": "markers",
         "type": "scatter3d",
         "x": [
          -10.419919066522088,
          7.768568688576041,
          5.508672910087418,
          -4.539867123579015,
          3.0635094467066653,
          -11.475970743893644,
          2.844454502070887,
          -4.782827746395209,
          -3.2761792248861896,
          -7.0952795312240005,
          -5.455834659185988,
          2.1000804303655523,
          -11.934948990384168,
          0.8324626356116829,
          7.940285999837737,
          -10.480547953585196,
          1.4810195279672653,
          -5.887163461297378,
          11.4092394245609,
          8.457068132865539,
          -0.7396757803602627,
          2.4088133338194844,
          7.85592779370753,
          -3.7280487252955714,
          6.289116280218224,
          -0.7887663677898216,
          0.7051459498311656,
          6.8208055859261165,
          -2.3628348777278774,
          -0.9181037545511721,
          9.64918785115617,
          7.744154187709941,
          -11.904396860780821,
          -5.571988523314467,
          -0.11466030465375265,
          0.15129098127781493,
          6.133080054333037,
          11.62386531028342,
          -2.9949819283894366,
          -2.394340445351329,
          -2.3292476646602527,
          6.75505151027312,
          -8.82953214058444,
          5.34929651274203,
          5.568618502324625,
          6.945051576472459,
          -1.665357295176018,
          9.523583860349056,
          -5.492384616773856,
          11.442675792949725,
          -2.777918716874418,
          9.890339533724235,
          8.943140460248106,
          5.9322506092234555,
          9.647015394554138,
          -3.762472891920978,
          -5.712351947527178,
          -1.7418846292696575,
          -6.771552180300845,
          3.982097792751695,
          9.274588233727934,
          -10.832008574625885,
          -7.97699419211103,
          9.808260276469573,
          -3.1512266047609963,
          7.239029187513162,
          4.676747471828797,
          -9.081504533208928,
          -5.661274417319749,
          -8.194137924464961,
          9.27370964768495,
          -10.876263240324104,
          7.202009885607416,
          -5.330588505132095,
          -3.4710162637890463,
          8.940261141569527,
          3.2006817138736174,
          -9.414222663772762,
          9.697766851703307,
          -0.23640797410990366,
          3.9736946858829523,
          1.7415308431263803,
          11.225400147582366,
          6.612976341875895,
          11.76927432706443,
          -2.9870883035876368,
          5.964455308780048,
          0.6389411867924748,
          -1.884584990853412,
          -11.76296326540432,
          -0.900581210709757,
          6.165659609136896,
          -4.6157843876419316,
          11.144696159428964,
          8.64629721747382,
          -5.141082931566028,
          7.084558847993605,
          -3.6540917505830457,
          -1.1277337521171722,
          -2.640275470420402
         ],
         "y": [
          -19.445197313675408,
          20.433502302051053,
          13.700232675198732,
          -8.151985342194425,
          7.723252373258858,
          -12.075614215559256,
          7.691108166264653,
          -0.9685501208358795,
          -10.988855775505883,
          -18.212855604451704,
          -7.540632759609675,
          4.5878010284070525,
          -22.847629951265,
          -4.950981876195617,
          12.93878207985359,
          -11.735661561358025,
          -0.6698292164721744,
          -5.586599314668598,
          13.179839737605336,
          13.467390160250142,
          4.052127827865436,
          4.951923328345265,
          8.516687733322224,
          1.7581286031561403,
          16.750130355039364,
          -0.7125011111029957,
          -3.2780567178559297,
          18.231159692019308,
          -3.051262247937858,
          4.847116050730717,
          14.884645575663452,
          15.4532032635895,
          -21.34220803269994,
          -17.27712146194689,
          0.75501581887199,
          1.773477096503691,
          4.5712120735026485,
          20.672085163225994,
          0.14851386286531731,
          -2.9787243600685134,
          -6.212754516113197,
          8.768910850653356,
          -9.757223635542584,
          5.753061214366182,
          10.893114751609989,
          13.63504684964186,
          -3.5491781626977117,
          17.206008033281357,
          -12.328939091676451,
          15.131243405653148,
          -5.621596560420982,
          12.714419636774297,
          18.101449288886535,
          2.4489688012263198,
          13.872903558215627,
          -12.350604469098155,
          -6.48515061962971,
          -4.357241174343535,
          -15.406384678553392,
          9.062728821448657,
          18.387838907879548,
          -11.059264822215207,
          -15.966314342912717,
          23.227859053167702,
          -10.118637982742435,
          4.199880694511245,
          1.5315446857210109,
          -22.94446656940233,
          -15.826653914396267,
          -19.88033983056699,
          19.703920683367976,
          -26.007862045945007,
          11.377519405371288,
          -3.109852041734788,
          -2.798330822984333,
          15.665013091072511,
          8.580197907332069,
          -8.46425987357866,
          9.24755958404183,
          -7.7420975831495635,
          5.4500580403074625,
          7.861837188314194,
          12.308347105453933,
          15.905366026612121,
          27.444420378232458,
          2.5383672152277086,
          7.803488378149018,
          7.2502403671849285,
          -0.7364131160849432,
          -27.164947717356817,
          -0.8570184698773256,
          2.318093035438503,
          -7.731057766579057,
          23.18047868834644,
          20.457538808926056,
          -7.5275832874457045,
          10.862040208556069,
          1.5558679442323982,
          5.866632526450874,
          -10.888612024806624
         ],
         "z": [
          -5.55197189164596,
          10.075410717282999,
          6.355335461748842,
          -2.098829177422406,
          3.6385731109833044,
          3.2256801096322674,
          3.898502163503471,
          5.408553541024399,
          -6.620616808990962,
          -8.752482896153037,
          -0.2661865473616922,
          1.7876937879196495,
          -6.934364630752777,
          -6.060932057011194,
          2.3517340800699404,
          2.2384023767555714,
          -2.644521920428528,
          2.2629519670612392,
          -2.0324794951425282,
          2.191299316429424,
          5.03836220167912,
          1.7401722165859521,
          -1.9578826582878177,
          6.728860236883569,
          8.364641981415065,
          0.339187379283433,
          -4.218251317630817,
          9.136752244117819,
          0.09918425569931166,
          6.07125439013228,
          2.019061774121891,
          5.127664346642914,
          -5.4696788849921765,
          -9.847803430860933,
          0.9078962250769935,
          1.571755788133271,
          -3.6062279989414012,
          5.173598082848097,
          4.141823100717899,
          0.21372956706659174,
          -3.10709096323286,
          -0.2378244963774705,
          2.0154858852366724,
          -1.3793341359565252,
          3.468290081843822,
          4.374978081011913,
          -1.3287017691296876,
          4.507896219482613,
          -5.005759602644643,
          -0.125657651613154,
          -1.9177049379217577,
          -0.4726997415246821,
          6.177262008555725,
          -5.4606986777382875,
          1.0102163654767784,
          -7.333973946536852,
          1.131318643739859,
          -2.0347283353173253,
          -6.3776484381522645,
          3.75326509777973,
          6.0217212629089705,
          3.383413277285973,
          -5.330322086764677,
          10.150178684541606,
          -5.917002509727773,
          -5.452158222172971,
          -4.704118610050719,
          -10.835793858457087,
          -8.278288024636602,
          -8.954822597947036,
          7.3389744864547115,
          -11.50617772551287,
          1.774839557894734,
          3.9975992984413384,
          1.8296908620677286,
          3.7446649023131418,
          4.3126222888339125,
          4.088037011451687,
          -3.682796218229247,
          -7.426886951003025,
          0.15179845913019285,
          5.539796064145687,
          -2.6588530913225554,
          7.088064237444262,
          11.752054608813216,
          6.521151620011224,
          -0.14911870022437945,
          6.398318784794962,
          1.7763668717196062,
          -11.480996696817723,
          0.34375647773568385,
          -5.902786443410693,
          -1.5766785830564816,
          8.320883809107826,
          8.929142518960962,
          -0.6728060453576683,
          1.415961744564597,
          6.427990278343126,
          7.37027752927377,
          -7.368244730912755
         ]
        }
       ],
       "layout": {
        "template": {
         "data": {
          "bar": [
           {
            "error_x": {
             "color": "#2a3f5f"
            },
            "error_y": {
             "color": "#2a3f5f"
            },
            "marker": {
             "line": {
              "color": "#E5ECF6",
              "width": 0.5
             },
             "pattern": {
              "fillmode": "overlay",
              "size": 10,
              "solidity": 0.2
             }
            },
            "type": "bar"
           }
          ],
          "barpolar": [
           {
            "marker": {
             "line": {
              "color": "#E5ECF6",
              "width": 0.5
             },
             "pattern": {
              "fillmode": "overlay",
              "size": 10,
              "solidity": 0.2
             }
            },
            "type": "barpolar"
           }
          ],
          "carpet": [
           {
            "aaxis": {
             "endlinecolor": "#2a3f5f",
             "gridcolor": "white",
             "linecolor": "white",
             "minorgridcolor": "white",
             "startlinecolor": "#2a3f5f"
            },
            "baxis": {
             "endlinecolor": "#2a3f5f",
             "gridcolor": "white",
             "linecolor": "white",
             "minorgridcolor": "white",
             "startlinecolor": "#2a3f5f"
            },
            "type": "carpet"
           }
          ],
          "choropleth": [
           {
            "colorbar": {
             "outlinewidth": 0,
             "ticks": ""
            },
            "type": "choropleth"
           }
          ],
          "contour": [
           {
            "colorbar": {
             "outlinewidth": 0,
             "ticks": ""
            },
            "colorscale": [
             [
              0,
              "#0d0887"
             ],
             [
              0.1111111111111111,
              "#46039f"
             ],
             [
              0.2222222222222222,
              "#7201a8"
             ],
             [
              0.3333333333333333,
              "#9c179e"
             ],
             [
              0.4444444444444444,
              "#bd3786"
             ],
             [
              0.5555555555555556,
              "#d8576b"
             ],
             [
              0.6666666666666666,
              "#ed7953"
             ],
             [
              0.7777777777777778,
              "#fb9f3a"
             ],
             [
              0.8888888888888888,
              "#fdca26"
             ],
             [
              1,
              "#f0f921"
             ]
            ],
            "type": "contour"
           }
          ],
          "contourcarpet": [
           {
            "colorbar": {
             "outlinewidth": 0,
             "ticks": ""
            },
            "type": "contourcarpet"
           }
          ],
          "heatmap": [
           {
            "colorbar": {
             "outlinewidth": 0,
             "ticks": ""
            },
            "colorscale": [
             [
              0,
              "#0d0887"
             ],
             [
              0.1111111111111111,
              "#46039f"
             ],
             [
              0.2222222222222222,
              "#7201a8"
             ],
             [
              0.3333333333333333,
              "#9c179e"
             ],
             [
              0.4444444444444444,
              "#bd3786"
             ],
             [
              0.5555555555555556,
              "#d8576b"
             ],
             [
              0.6666666666666666,
              "#ed7953"
             ],
             [
              0.7777777777777778,
              "#fb9f3a"
             ],
             [
              0.8888888888888888,
              "#fdca26"
             ],
             [
              1,
              "#f0f921"
             ]
            ],
            "type": "heatmap"
           }
          ],
          "heatmapgl": [
           {
            "colorbar": {
             "outlinewidth": 0,
             "ticks": ""
            },
            "colorscale": [
             [
              0,
              "#0d0887"
             ],
             [
              0.1111111111111111,
              "#46039f"
             ],
             [
              0.2222222222222222,
              "#7201a8"
             ],
             [
              0.3333333333333333,
              "#9c179e"
             ],
             [
              0.4444444444444444,
              "#bd3786"
             ],
             [
              0.5555555555555556,
              "#d8576b"
             ],
             [
              0.6666666666666666,
              "#ed7953"
             ],
             [
              0.7777777777777778,
              "#fb9f3a"
             ],
             [
              0.8888888888888888,
              "#fdca26"
             ],
             [
              1,
              "#f0f921"
             ]
            ],
            "type": "heatmapgl"
           }
          ],
          "histogram": [
           {
            "marker": {
             "pattern": {
              "fillmode": "overlay",
              "size": 10,
              "solidity": 0.2
             }
            },
            "type": "histogram"
           }
          ],
          "histogram2d": [
           {
            "colorbar": {
             "outlinewidth": 0,
             "ticks": ""
            },
            "colorscale": [
             [
              0,
              "#0d0887"
             ],
             [
              0.1111111111111111,
              "#46039f"
             ],
             [
              0.2222222222222222,
              "#7201a8"
             ],
             [
              0.3333333333333333,
              "#9c179e"
             ],
             [
              0.4444444444444444,
              "#bd3786"
             ],
             [
              0.5555555555555556,
              "#d8576b"
             ],
             [
              0.6666666666666666,
              "#ed7953"
             ],
             [
              0.7777777777777778,
              "#fb9f3a"
             ],
             [
              0.8888888888888888,
              "#fdca26"
             ],
             [
              1,
              "#f0f921"
             ]
            ],
            "type": "histogram2d"
           }
          ],
          "histogram2dcontour": [
           {
            "colorbar": {
             "outlinewidth": 0,
             "ticks": ""
            },
            "colorscale": [
             [
              0,
              "#0d0887"
             ],
             [
              0.1111111111111111,
              "#46039f"
             ],
             [
              0.2222222222222222,
              "#7201a8"
             ],
             [
              0.3333333333333333,
              "#9c179e"
             ],
             [
              0.4444444444444444,
              "#bd3786"
             ],
             [
              0.5555555555555556,
              "#d8576b"
             ],
             [
              0.6666666666666666,
              "#ed7953"
             ],
             [
              0.7777777777777778,
              "#fb9f3a"
             ],
             [
              0.8888888888888888,
              "#fdca26"
             ],
             [
              1,
              "#f0f921"
             ]
            ],
            "type": "histogram2dcontour"
           }
          ],
          "mesh3d": [
           {
            "colorbar": {
             "outlinewidth": 0,
             "ticks": ""
            },
            "type": "mesh3d"
           }
          ],
          "parcoords": [
           {
            "line": {
             "colorbar": {
              "outlinewidth": 0,
              "ticks": ""
             }
            },
            "type": "parcoords"
           }
          ],
          "pie": [
           {
            "automargin": true,
            "type": "pie"
           }
          ],
          "scatter": [
           {
            "fillpattern": {
             "fillmode": "overlay",
             "size": 10,
             "solidity": 0.2
            },
            "type": "scatter"
           }
          ],
          "scatter3d": [
           {
            "line": {
             "colorbar": {
              "outlinewidth": 0,
              "ticks": ""
             }
            },
            "marker": {
             "colorbar": {
              "outlinewidth": 0,
              "ticks": ""
             }
            },
            "type": "scatter3d"
           }
          ],
          "scattercarpet": [
           {
            "marker": {
             "colorbar": {
              "outlinewidth": 0,
              "ticks": ""
             }
            },
            "type": "scattercarpet"
           }
          ],
          "scattergeo": [
           {
            "marker": {
             "colorbar": {
              "outlinewidth": 0,
              "ticks": ""
             }
            },
            "type": "scattergeo"
           }
          ],
          "scattergl": [
           {
            "marker": {
             "colorbar": {
              "outlinewidth": 0,
              "ticks": ""
             }
            },
            "type": "scattergl"
           }
          ],
          "scattermapbox": [
           {
            "marker": {
             "colorbar": {
              "outlinewidth": 0,
              "ticks": ""
             }
            },
            "type": "scattermapbox"
           }
          ],
          "scatterpolar": [
           {
            "marker": {
             "colorbar": {
              "outlinewidth": 0,
              "ticks": ""
             }
            },
            "type": "scatterpolar"
           }
          ],
          "scatterpolargl": [
           {
            "marker": {
             "colorbar": {
              "outlinewidth": 0,
              "ticks": ""
             }
            },
            "type": "scatterpolargl"
           }
          ],
          "scatterternary": [
           {
            "marker": {
             "colorbar": {
              "outlinewidth": 0,
              "ticks": ""
             }
            },
            "type": "scatterternary"
           }
          ],
          "surface": [
           {
            "colorbar": {
             "outlinewidth": 0,
             "ticks": ""
            },
            "colorscale": [
             [
              0,
              "#0d0887"
             ],
             [
              0.1111111111111111,
              "#46039f"
             ],
             [
              0.2222222222222222,
              "#7201a8"
             ],
             [
              0.3333333333333333,
              "#9c179e"
             ],
             [
              0.4444444444444444,
              "#bd3786"
             ],
             [
              0.5555555555555556,
              "#d8576b"
             ],
             [
              0.6666666666666666,
              "#ed7953"
             ],
             [
              0.7777777777777778,
              "#fb9f3a"
             ],
             [
              0.8888888888888888,
              "#fdca26"
             ],
             [
              1,
              "#f0f921"
             ]
            ],
            "type": "surface"
           }
          ],
          "table": [
           {
            "cells": {
             "fill": {
              "color": "#EBF0F8"
             },
             "line": {
              "color": "white"
             }
            },
            "header": {
             "fill": {
              "color": "#C8D4E3"
             },
             "line": {
              "color": "white"
             }
            },
            "type": "table"
           }
          ]
         },
         "layout": {
          "annotationdefaults": {
           "arrowcolor": "#2a3f5f",
           "arrowhead": 0,
           "arrowwidth": 1
          },
          "autotypenumbers": "strict",
          "coloraxis": {
           "colorbar": {
            "outlinewidth": 0,
            "ticks": ""
           }
          },
          "colorscale": {
           "diverging": [
            [
             0,
             "#8e0152"
            ],
            [
             0.1,
             "#c51b7d"
            ],
            [
             0.2,
             "#de77ae"
            ],
            [
             0.3,
             "#f1b6da"
            ],
            [
             0.4,
             "#fde0ef"
            ],
            [
             0.5,
             "#f7f7f7"
            ],
            [
             0.6,
             "#e6f5d0"
            ],
            [
             0.7,
             "#b8e186"
            ],
            [
             0.8,
             "#7fbc41"
            ],
            [
             0.9,
             "#4d9221"
            ],
            [
             1,
             "#276419"
            ]
           ],
           "sequential": [
            [
             0,
             "#0d0887"
            ],
            [
             0.1111111111111111,
             "#46039f"
            ],
            [
             0.2222222222222222,
             "#7201a8"
            ],
            [
             0.3333333333333333,
             "#9c179e"
            ],
            [
             0.4444444444444444,
             "#bd3786"
            ],
            [
             0.5555555555555556,
             "#d8576b"
            ],
            [
             0.6666666666666666,
             "#ed7953"
            ],
            [
             0.7777777777777778,
             "#fb9f3a"
            ],
            [
             0.8888888888888888,
             "#fdca26"
            ],
            [
             1,
             "#f0f921"
            ]
           ],
           "sequentialminus": [
            [
             0,
             "#0d0887"
            ],
            [
             0.1111111111111111,
             "#46039f"
            ],
            [
             0.2222222222222222,
             "#7201a8"
            ],
            [
             0.3333333333333333,
             "#9c179e"
            ],
            [
             0.4444444444444444,
             "#bd3786"
            ],
            [
             0.5555555555555556,
             "#d8576b"
            ],
            [
             0.6666666666666666,
             "#ed7953"
            ],
            [
             0.7777777777777778,
             "#fb9f3a"
            ],
            [
             0.8888888888888888,
             "#fdca26"
            ],
            [
             1,
             "#f0f921"
            ]
           ]
          },
          "colorway": [
           "#636efa",
           "#EF553B",
           "#00cc96",
           "#ab63fa",
           "#FFA15A",
           "#19d3f3",
           "#FF6692",
           "#B6E880",
           "#FF97FF",
           "#FECB52"
          ],
          "font": {
           "color": "#2a3f5f"
          },
          "geo": {
           "bgcolor": "white",
           "lakecolor": "white",
           "landcolor": "#E5ECF6",
           "showlakes": true,
           "showland": true,
           "subunitcolor": "white"
          },
          "hoverlabel": {
           "align": "left"
          },
          "hovermode": "closest",
          "mapbox": {
           "style": "light"
          },
          "paper_bgcolor": "white",
          "plot_bgcolor": "#E5ECF6",
          "polar": {
           "angularaxis": {
            "gridcolor": "white",
            "linecolor": "white",
            "ticks": ""
           },
           "bgcolor": "#E5ECF6",
           "radialaxis": {
            "gridcolor": "white",
            "linecolor": "white",
            "ticks": ""
           }
          },
          "scene": {
           "xaxis": {
            "backgroundcolor": "#E5ECF6",
            "gridcolor": "white",
            "gridwidth": 2,
            "linecolor": "white",
            "showbackground": true,
            "ticks": "",
            "zerolinecolor": "white"
           },
           "yaxis": {
            "backgroundcolor": "#E5ECF6",
            "gridcolor": "white",
            "gridwidth": 2,
            "linecolor": "white",
            "showbackground": true,
            "ticks": "",
            "zerolinecolor": "white"
           },
           "zaxis": {
            "backgroundcolor": "#E5ECF6",
            "gridcolor": "white",
            "gridwidth": 2,
            "linecolor": "white",
            "showbackground": true,
            "ticks": "",
            "zerolinecolor": "white"
           }
          },
          "shapedefaults": {
           "line": {
            "color": "#2a3f5f"
           }
          },
          "ternary": {
           "aaxis": {
            "gridcolor": "white",
            "linecolor": "white",
            "ticks": ""
           },
           "baxis": {
            "gridcolor": "white",
            "linecolor": "white",
            "ticks": ""
           },
           "bgcolor": "#E5ECF6",
           "caxis": {
            "gridcolor": "white",
            "linecolor": "white",
            "ticks": ""
           }
          },
          "title": {
           "x": 0.05
          },
          "xaxis": {
           "automargin": true,
           "gridcolor": "white",
           "linecolor": "white",
           "ticks": "",
           "title": {
            "standoff": 15
           },
           "zerolinecolor": "white",
           "zerolinewidth": 2
          },
          "yaxis": {
           "automargin": true,
           "gridcolor": "white",
           "linecolor": "white",
           "ticks": "",
           "title": {
            "standoff": 15
           },
           "zerolinecolor": "white",
           "zerolinewidth": 2
          }
         }
        }
       }
      }
     },
     "metadata": {},
     "output_type": "display_data"
    }
   ],
   "source": [
    "import numpy as np\n",
    "import matplotlib.pyplot as plt\n",
    "\n",
    "import plotly.graph_objects as go\n",
    "\n",
    "zakres = [-4,4]\n",
    "\n",
    "v1 = np.array([[ 3,5,1 ]])\n",
    "v2 = np.array([[ 0,2,2 ]])\n",
    "\n",
    "\n",
    "# v1 = np.array([ 1.5,2.5,0.5 ])\n",
    "# v2 = np.array([ 0,2,2 ])\n",
    "v3 = np.concatenate((v2,v1),axis = 0).T\n",
    "\n",
    "print(v3)\n",
    "\n",
    "wektory = np.random.uniform(zakres[0], zakres[1], (2,100)).T\n",
    "\n",
    "# print(wektory.T)\n",
    "\n",
    "points = np.zeros((100,3))\n",
    "\n",
    "print(wektory[1])\n",
    "\n",
    "for i in range (len(wektory)):\n",
    "    points[i,:] = v3 @ wektory[i].T\n",
    "    \n",
    "# # print(punkty)\n",
    "\n",
    "fig = go.Figure( data=[go.Scatter3d(x=points[:,0], y=points[:,1], z=points[:,2],\n",
    "                                    mode='markers', marker=dict(size=6,color='black') )])\n",
    "\n",
    "# fig = go.Figure(data=[go.Scatter3d(\n",
    "#                 x = punkty[:,0], \n",
    "#                 y = punkty[:,1], \n",
    "#                 z = punkty[:,2],\n",
    "#                 mode='markers'\n",
    "#                 )])\n",
    "\n",
    "fig.show()"
   ]
  },
  {
   "cell_type": "code",
   "execution_count": null,
   "metadata": {},
   "outputs": [],
   "source": [
    "import numpy as np\n",
    "from math import sqrt as ms\n",
    "\n",
    "\n",
    "A = np.ones(shape=(4,4))\n",
    "\n",
    "# B = np.array([[1,0,0,0],[0,4,0,0],[0,0,9,0],[0,0,0,16]])\n",
    "\n",
    "B = np.diag(np.array([1,4,9,16]))\n",
    "\n",
    "# C = np.array([[1,0,0,0],[0,2,0,0],[0,0,3,0],[0,0,0,4]])\n",
    "\n",
    "C = np.diag(np.array([1,2,3,4]))\n",
    "\n",
    "print('LEWOSTRONNE PRZEZ DIAGONALNA')\n",
    "print (B @ A)\n",
    "print('PRAWOSTRONNE PRZEZ DIAGONALNA')\n",
    "print (A @ B)\n",
    "\n",
    "print(C @ A @ C)"
   ]
  },
  {
   "cell_type": "code",
   "execution_count": null,
   "metadata": {},
   "outputs": [],
   "source": [
    "import numpy as np\n",
    "\n",
    "a = np.diag(np.array([3,7,9]))\n",
    "b = np.diag(np.array([8,2,3])) \n",
    "\n",
    "c = np.multiply(a,b)\n",
    "d = a @ b\n",
    "\n",
    "print(c,'\\n',d)\n",
    "\n",
    "if np.allclose(c, b):\n",
    "    print('ok')\n",
    "else:\n",
    "    print('nie ok')\n",
    "\n",
    "print (np.allclose(c, b))\n"
   ]
  },
  {
   "cell_type": "code",
   "execution_count": 2,
   "metadata": {},
   "outputs": [
    {
     "data": {
      "text/plain": [
       "Text(0.5, 0, 'Skalar')"
      ]
     },
     "execution_count": 2,
     "metadata": {},
     "output_type": "execute_result"
    },
    {
     "data": {
      "image/png": "[encoded data removed]",
      "text/plain": [
       "<Figure size 640x480 with 1 Axes>"
      ]
     },
     "metadata": {},
     "output_type": "display_data"
    }
   ],
   "source": [
    "import numpy as np\n",
    "\n",
    "mu, sigma = 100, 10\n",
    "\n",
    "A =  np.random.normal(mu, sigma,size = (10,10))\n",
    "\n",
    "# print(A)\n",
    "\n",
    "wynikowa = np.zeros(shape=(40,10), dtype = float)\n",
    "\n",
    "# print(np.shape(wynikowa))\n",
    "\n",
    "# n = np.linalg.norm(A, ord = 'fro')\n",
    "\n",
    "# print (n)\n",
    "\n",
    "s=0\n",
    "\n",
    "for i in range (40):\n",
    "    s += 1\n",
    "    for j in range(10):\n",
    "         tmp = np.random.normal(mu, sigma,size = (10,10))\n",
    "         tmp2 = tmp * s\n",
    "         wynikowa[i,j] = np.linalg.norm(tmp2, ord = 'fro')\n",
    "         \n",
    "plt.plot(wynikowa.sum(axis= 1), '.')\n",
    "plt.ylabel('Norma')\n",
    "plt.xlabel('Skalar')\n",
    "\n",
    "    "
   ]
  },
  {
   "cell_type": "code",
   "execution_count": 23,
   "metadata": {},
   "outputs": [
    {
     "name": "stdout",
     "output_type": "stream",
     "text": [
      "Zmienna s = 0.0008595044557171439, liczba iteracji = 67\n"
     ]
    }
   ],
   "source": [
    "import numpy as np\n",
    "\n",
    "mu, sigma = 100, 10\n",
    "\n",
    "mu2, sigma2 = 200, 20\n",
    "\n",
    "A = np.random.normal(mu, sigma, size = (10,10))\n",
    "\n",
    "B = np.random.normal(mu2, sigma2, size = (10,10))\n",
    "\n",
    "# print (abs ( np.linalg.norm(A, ord = 'fro') - np.linalg.norm(B, ord = 'fro') ))\n",
    "\n",
    "def przyblizacz(x, y):\n",
    "    if x.shape != y.shape:\n",
    "        print('Works only with arrays with identical shape')\n",
    "        \n",
    "    s = 1\n",
    "    j = 0\n",
    "    dist = 10\n",
    "   \n",
    "    while dist > 1:   \n",
    "        dist = abs ( np.linalg.norm(x * s, ord = 'fro') - np.linalg.norm(y * s, ord = 'fro') )\n",
    "        s *= 0.9\n",
    "        j += 1\n",
    "        \n",
    "    # return s,j\n",
    "    \n",
    "    print(f'Zmienna s = {s}, liczba iteracji = {j}')\n",
    "    \n",
    "\n",
    "przyblizacz(A,B)    "
   ]
  },
  {
   "cell_type": "code",
   "execution_count": 50,
   "metadata": {},
   "outputs": [
    {
     "name": "stdout",
     "output_type": "stream",
     "text": [
      "[[ 7647  6884  6494  4963]\n",
      " [ 6884 13719 15814 10202]\n",
      " [ 6494 15814 21206 13861]\n",
      " [ 4963 10202 13861 10250]]\n",
      "229.83037223134804\n",
      "229.83037223134804\n"
     ]
    }
   ],
   "source": [
    "import numpy as np\n",
    "import math\n",
    "# A = np.random.normal(100,20, size = (4,4))\n",
    "# A = A @ A.T\n",
    "# print (A)\n",
    "\n",
    "A = np.random.randint(0, 100, size = (4,4))\n",
    "\n",
    "B = A @ A.T\n",
    "\n",
    "print(B)\n",
    "\n",
    "print (np.linalg.norm (A, ord = 'fro'))\n",
    "\n",
    "def trace (x):\n",
    "    if x.shape[0] != x.shape[1]:\n",
    "        print(f'This works only for quadratic arrays')\n",
    "    \n",
    "    s = 0\n",
    "    \n",
    "    for i in range(x.shape[0]):\n",
    "        s += x[i,i]\n",
    "    \n",
    "    return (math.sqrt(s))\n",
    "\n",
    "print(trace(B))\n",
    " \n",
    "\n",
    "\n"
   ]
  },
  {
   "cell_type": "code",
   "execution_count": 63,
   "metadata": {},
   "outputs": [
    {
     "name": "stdout",
     "output_type": "stream",
     "text": [
      "603.1260233151941\n"
     ]
    },
    {
     "data": {
      "image/png": "[encoded data removed]",
      "text/plain": [
       "<Figure size 1200x400 with 3 Axes>"
      ]
     },
     "metadata": {},
     "output_type": "display_data"
    },
    {
     "name": "stdout",
     "output_type": "stream",
     "text": [
      "[  0.           3.64959947   8.27876555  13.76798669  19.99929437\n",
      "  26.86338571  34.26324421  42.11520322  50.34844646  58.90371881\n",
      "  67.73175155  76.79168881  86.04965497  95.47751565 105.05183799\n",
      " 114.75303381 124.5646609  134.47285653 144.46587922 154.53373821\n",
      " 164.6678934  174.86101185 185.10676947 195.39968906 205.73500735\n",
      " 216.10856564 226.51671925 236.95626238 247.42436543 257.91852252]\n"
     ]
    }
   ],
   "source": [
    "import numpy as np\n",
    "\n",
    "A = np.random.randint(0, 100, size = (10,10))\n",
    "O = np.diag(np.array([1,1,1,1,1,1,1,1,1,1]))\n",
    "\n",
    "a_norm = np.linalg.norm(A)\n",
    "\n",
    "wyniki = np.zeros(shape = (3,30), dtype = float)\n",
    "\n",
    "przesun = np.linspace(0,1,30)\n",
    "resultName = ['Zmiana w normie(%)','Korelacja z oryg. macierzą', 'Norma Frobeniusa']\n",
    "\n",
    "print (a_norm)\n",
    "\n",
    "for i in range (30):\n",
    "    A1 = A + ((przesun[i] * a_norm) * np.eye(10))\n",
    "    norm = np.linalg.norm(A1)\n",
    "    wyniki[0,i] = ( ( norm - a_norm ) / a_norm ) * 100\n",
    "    wyniki[1,i] = np.corrcoef(A.flatten(), A1.flatten())[0,1]\n",
    "    wyniki[2,i] = norm - a_norm\n",
    "    \n",
    "    \n",
    "_,axs = plt.subplots(1,3,figsize=(12,4))\n",
    "\n",
    "for i in range (3):\n",
    "    \n",
    "    axs[i].plot(przesun,wyniki[i,:], 'ks-')\n",
    "    axs[i].set_xlabel ('Przesuniecie jako ułamek normy')\n",
    "    axs[i].set_ylabel (resultName[i])\n",
    "plt.tight_layout()\n",
    "plt.show()\n",
    "\n",
    "print(wyniki[0,:])\n",
    "\n"
   ]
  },
  {
   "cell_type": "code",
   "execution_count": 48,
   "metadata": {},
   "outputs": [
    {
     "name": "stdout",
     "output_type": "stream",
     "text": [
      "[0.         0.03448276 0.06896552 0.10344828 0.13793103 0.17241379\n",
      " 0.20689655 0.24137931 0.27586207 0.31034483 0.34482759 0.37931034\n",
      " 0.4137931  0.44827586 0.48275862 0.51724138 0.55172414 0.5862069\n",
      " 0.62068966 0.65517241 0.68965517 0.72413793 0.75862069 0.79310345\n",
      " 0.82758621 0.86206897 0.89655172 0.93103448 0.96551724 1.        ]\n"
     ]
    }
   ],
   "source": [
    "print(np.linspace(0,1,30))"
   ]
  },
  {
   "cell_type": "code",
   "execution_count": 39,
   "metadata": {},
   "outputs": [
    {
     "name": "stdout",
     "output_type": "stream",
     "text": [
      "[[63 46 73 78]\n",
      " [36 61 81 51]\n",
      " [89 63 40 71]\n",
      " [89 11 93 55]]\n",
      "46\n"
     ]
    }
   ],
   "source": [
    "a = np.random.randint(100, size = (4,4))\n",
    "print(a)\n",
    "print(a[0,1])"
   ]
  },
  {
   "cell_type": "code",
   "execution_count": 41,
   "metadata": {},
   "outputs": [
    {
     "data": {
      "text/plain": [
       "array([63, 46, 73, 78, 36, 61, 81, 51, 89, 63, 40, 71, 89, 11, 93, 55])"
      ]
     },
     "execution_count": 41,
     "metadata": {},
     "output_type": "execute_result"
    }
   ],
   "source": [
    "a.flatten()"
   ]
  }
 ],
 "metadata": {
  "kernelspec": {
   "display_name": "Python 3",
   "language": "python",
   "name": "python3"
  },
  "language_info": {
   "codemirror_mode": {
    "name": "ipython",
    "version": 3
   },
   "file_extension": ".py",
   "mimetype": "text/x-python",
   "name": "python",
   "nbconvert_exporter": "python",
   "pygments_lexer": "ipython3",
   "version": "3.10.12"
  }
 },
 "nbformat": 4,
 "nbformat_minor": 2
}
